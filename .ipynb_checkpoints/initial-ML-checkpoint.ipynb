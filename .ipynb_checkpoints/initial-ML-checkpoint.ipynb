{
 "cells": [
  {
   "cell_type": "code",
   "execution_count": 1,
   "id": "1f85f82b-90b2-405b-9817-4de1a1c7b4fa",
   "metadata": {
    "tags": []
   },
   "outputs": [],
   "source": [
    "# Import standard libraries\n",
    "import pandas as pd\n",
    "import numpy as np\n",
    "import seaborn as sns\n",
    "import matplotlib.pyplot as plt\n",
    "\n",
    "# Import train_test_split and preprocessing libraries / classes\n",
    "from sklearn.model_selection import train_test_split\n",
    "from sklearn.preprocessing import OneHotEncoder\n",
    "from sklearn.preprocessing import MinMaxScaler, StandardScaler\n",
    "\n",
    "# Import ML models for regression problems\n",
    "from sklearn.tree import DecisionTreeRegressor\n",
    "from sklearn.neighbors import KNeighborsRegressor\n",
    "from sklearn.ensemble import BaggingRegressor, RandomForestRegressor,AdaBoostRegressor, GradientBoostingRegressor\n",
    "from sklearn.linear_model import LinearRegression\n",
    "\n",
    "# Import ML models for classification problems\n",
    "from sklearn.tree import DecisionTreeClassifier\n",
    "from sklearn.ensemble import BaggingClassifier, RandomForestClassifier, AdaBoostClassifier, GradientBoostingClassifier\n",
    "\n",
    "# Import model performace metric libraries\n",
    "from sklearn.metrics import r2_score, mean_absolute_error, mean_squared_error, accuracy_score, precision_score, recall_score\n",
    "\n",
    "# Import for optimization\n",
    "from sklearn.model_selection import GridSearchCV"
   ]
  },
  {
   "cell_type": "code",
   "execution_count": 2,
   "id": "e58e589b-2fe6-4e66-a134-d05d483d1975",
   "metadata": {
    "tags": []
   },
   "outputs": [
    {
     "data": {
      "text/html": [
       "<div>\n",
       "<style scoped>\n",
       "    .dataframe tbody tr th:only-of-type {\n",
       "        vertical-align: middle;\n",
       "    }\n",
       "\n",
       "    .dataframe tbody tr th {\n",
       "        vertical-align: top;\n",
       "    }\n",
       "\n",
       "    .dataframe thead th {\n",
       "        text-align: right;\n",
       "    }\n",
       "</style>\n",
       "<table border=\"1\" class=\"dataframe\">\n",
       "  <thead>\n",
       "    <tr style=\"text-align: right;\">\n",
       "      <th></th>\n",
       "      <th>certificate</th>\n",
       "      <th>runtime</th>\n",
       "      <th>genre</th>\n",
       "      <th>imdb_rating</th>\n",
       "      <th>meta_score</th>\n",
       "      <th>no_of_votes</th>\n",
       "      <th>gross</th>\n",
       "      <th>director_category</th>\n",
       "      <th>star1_category</th>\n",
       "      <th>star2_category</th>\n",
       "      <th>star3_category</th>\n",
       "      <th>star4_category</th>\n",
       "      <th>decade</th>\n",
       "    </tr>\n",
       "  </thead>\n",
       "  <tbody>\n",
       "    <tr>\n",
       "      <th>0</th>\n",
       "      <td>all public</td>\n",
       "      <td>142</td>\n",
       "      <td>Drama</td>\n",
       "      <td>9.3</td>\n",
       "      <td>80.0</td>\n",
       "      <td>2343110</td>\n",
       "      <td>28341469.0</td>\n",
       "      <td>average</td>\n",
       "      <td>low</td>\n",
       "      <td>low</td>\n",
       "      <td>low</td>\n",
       "      <td>low</td>\n",
       "      <td>1990's</td>\n",
       "    </tr>\n",
       "    <tr>\n",
       "      <th>1</th>\n",
       "      <td>all public</td>\n",
       "      <td>175</td>\n",
       "      <td>Thriller/Crime/Mystery</td>\n",
       "      <td>9.2</td>\n",
       "      <td>100.0</td>\n",
       "      <td>1620367</td>\n",
       "      <td>134966411.0</td>\n",
       "      <td>high</td>\n",
       "      <td>average</td>\n",
       "      <td>average</td>\n",
       "      <td>low</td>\n",
       "      <td>average</td>\n",
       "      <td>1970's</td>\n",
       "    </tr>\n",
       "    <tr>\n",
       "      <th>2</th>\n",
       "      <td>family</td>\n",
       "      <td>152</td>\n",
       "      <td>Action/Adventure</td>\n",
       "      <td>9.0</td>\n",
       "      <td>84.0</td>\n",
       "      <td>2303232</td>\n",
       "      <td>534858444.0</td>\n",
       "      <td>high</td>\n",
       "      <td>high</td>\n",
       "      <td>average</td>\n",
       "      <td>low</td>\n",
       "      <td>high</td>\n",
       "      <td>2000's</td>\n",
       "    </tr>\n",
       "    <tr>\n",
       "      <th>3</th>\n",
       "      <td>all public</td>\n",
       "      <td>202</td>\n",
       "      <td>Thriller/Crime/Mystery</td>\n",
       "      <td>9.0</td>\n",
       "      <td>90.0</td>\n",
       "      <td>1129952</td>\n",
       "      <td>57300000.0</td>\n",
       "      <td>high</td>\n",
       "      <td>high</td>\n",
       "      <td>average</td>\n",
       "      <td>average</td>\n",
       "      <td>average</td>\n",
       "      <td>1970's</td>\n",
       "    </tr>\n",
       "    <tr>\n",
       "      <th>4</th>\n",
       "      <td>all public</td>\n",
       "      <td>96</td>\n",
       "      <td>Thriller/Crime/Mystery</td>\n",
       "      <td>9.0</td>\n",
       "      <td>96.0</td>\n",
       "      <td>689845</td>\n",
       "      <td>4360000.0</td>\n",
       "      <td>high</td>\n",
       "      <td>average</td>\n",
       "      <td>low</td>\n",
       "      <td>low</td>\n",
       "      <td>low</td>\n",
       "      <td>1950's</td>\n",
       "    </tr>\n",
       "  </tbody>\n",
       "</table>\n",
       "</div>"
      ],
      "text/plain": [
       "  certificate  runtime                   genre  imdb_rating  meta_score  \\\n",
       "0  all public      142                   Drama          9.3        80.0   \n",
       "1  all public      175  Thriller/Crime/Mystery          9.2       100.0   \n",
       "2      family      152        Action/Adventure          9.0        84.0   \n",
       "3  all public      202  Thriller/Crime/Mystery          9.0        90.0   \n",
       "4  all public       96  Thriller/Crime/Mystery          9.0        96.0   \n",
       "\n",
       "   no_of_votes        gross director_category star1_category star2_category  \\\n",
       "0      2343110   28341469.0           average            low            low   \n",
       "1      1620367  134966411.0              high        average        average   \n",
       "2      2303232  534858444.0              high           high        average   \n",
       "3      1129952   57300000.0              high           high        average   \n",
       "4       689845    4360000.0              high        average            low   \n",
       "\n",
       "  star3_category star4_category  decade  \n",
       "0            low            low  1990's  \n",
       "1            low        average  1970's  \n",
       "2            low           high  2000's  \n",
       "3        average        average  1970's  \n",
       "4            low            low  1950's  "
      ]
     },
     "execution_count": 2,
     "metadata": {},
     "output_type": "execute_result"
    }
   ],
   "source": [
    "path = 'cleaned_dataset.csv'\n",
    "\n",
    "df = pd.read_csv(path)\n",
    "df.head()"
   ]
  },
  {
   "cell_type": "code",
   "execution_count": 3,
   "id": "3abb46c8-b443-46e4-aed3-d83cfab84c87",
   "metadata": {
    "tags": []
   },
   "outputs": [
    {
     "data": {
      "text/plain": [
       "(713, 13)"
      ]
     },
     "execution_count": 3,
     "metadata": {},
     "output_type": "execute_result"
    }
   ],
   "source": [
    "df.shape"
   ]
  },
  {
   "cell_type": "code",
   "execution_count": 4,
   "id": "11267c08-5a50-41f1-ad8b-92b3481661ca",
   "metadata": {
    "tags": []
   },
   "outputs": [
    {
     "name": "stdout",
     "output_type": "stream",
     "text": [
      "<class 'pandas.core.frame.DataFrame'>\n",
      "RangeIndex: 713 entries, 0 to 712\n",
      "Data columns (total 13 columns):\n",
      " #   Column             Non-Null Count  Dtype  \n",
      "---  ------             --------------  -----  \n",
      " 0   certificate        713 non-null    object \n",
      " 1   runtime            713 non-null    int64  \n",
      " 2   genre              713 non-null    object \n",
      " 3   imdb_rating        713 non-null    float64\n",
      " 4   meta_score         713 non-null    float64\n",
      " 5   no_of_votes        713 non-null    int64  \n",
      " 6   gross              713 non-null    float64\n",
      " 7   director_category  713 non-null    object \n",
      " 8   star1_category     713 non-null    object \n",
      " 9   star2_category     713 non-null    object \n",
      " 10  star3_category     713 non-null    object \n",
      " 11  star4_category     713 non-null    object \n",
      " 12  decade             713 non-null    object \n",
      "dtypes: float64(3), int64(2), object(8)\n",
      "memory usage: 72.5+ KB\n"
     ]
    }
   ],
   "source": [
    "df.info()"
   ]
  },
  {
   "cell_type": "code",
   "execution_count": 5,
   "id": "e02315eb-e76c-4b19-9d7c-9dab4415d362",
   "metadata": {},
   "outputs": [
    {
     "data": {
      "text/plain": [
       "<Axes: xlabel='imdb_rating', ylabel='no_of_votes'>"
      ]
     },
     "execution_count": 5,
     "metadata": {},
     "output_type": "execute_result"
    },
    {
     "data": {
      "image/png": "[encoded data removed]",
      "text/plain": [
       "<Figure size 640x480 with 1 Axes>"
      ]
     },
     "metadata": {},
     "output_type": "display_data"
    }
   ],
   "source": [
    "sns.scatterplot(data=df, x=\"imdb_rating\", y=\"no_of_votes\")"
   ]
  },
  {
   "cell_type": "code",
   "execution_count": 6,
   "id": "1c01f534-c278-4820-8b89-dafe8fa76ae9",
   "metadata": {
    "tags": []
   },
   "outputs": [
    {
     "data": {
      "image/png": "[encoded data removed]",
      "text/plain": [
       "<Figure size 640x480 with 1 Axes>"
      ]
     },
     "metadata": {},
     "output_type": "display_data"
    }
   ],
   "source": [
    "rating = df.imdb_rating.value_counts()\n",
    "rating.plot(kind=\"bar\")\n",
    "plt.show()"
   ]
  },
  {
   "cell_type": "code",
   "execution_count": 7,
   "id": "3d0b4b2d-b8b3-42b0-8b35-2eaf99f022b2",
   "metadata": {},
   "outputs": [
    {
     "data": {
      "image/png": "[encoded data removed]",
      "text/plain": [
       "<Figure size 1000x600 with 2 Axes>"
      ]
     },
     "metadata": {},
     "output_type": "display_data"
    }
   ],
   "source": [
    "crosstab = pd.crosstab(df.imdb_rating, df.decade)\n",
    "plt.figure(figsize=(10, 6))\n",
    "sns.heatmap(crosstab, annot=True, cmap='YlGnBu', fmt='d')\n",
    "plt.title('Heatmap of Crosstab')\n",
    "plt.show()"
   ]
  },
  {
   "cell_type": "code",
   "execution_count": 8,
   "id": "8557d3c8-6eec-41dd-ac81-2041b5980833",
   "metadata": {},
   "outputs": [
    {
     "data": {
      "image/png": "[encoded data removed]",
      "text/plain": [
       "<Figure size 600x600 with 2 Axes>"
      ]
     },
     "metadata": {},
     "output_type": "display_data"
    }
   ],
   "source": [
    "original_numerical_columns = df.select_dtypes('number')\n",
    "\n",
    "corr = np.abs(original_numerical_columns.corr())\n",
    "\n",
    "#Set up mask for triangle representation\n",
    "mask = np.zeros_like(corr, dtype=bool)\n",
    "mask[np.triu_indices_from(mask)] = True\n",
    "\n",
    "# Set up the matplotlib figure\n",
    "f, ax = plt.subplots(figsize=(6, 6))\n",
    "# Generate a custom diverging colormap\n",
    "cmap = sns.diverging_palette(220, 10, as_cmap=True)\n",
    "# Draw the heatmap with the mask and correct aspect ratio\n",
    "sns.heatmap(corr, mask=mask,  vmax=1,square=True, linewidths=.5, cbar_kws={\"shrink\": .5},annot = corr)\n",
    "\n",
    "plt.show()"
   ]
  },
  {
   "cell_type": "code",
   "execution_count": 9,
   "id": "e12eeebc-be60-41ff-8d31-5c910cd941b8",
   "metadata": {},
   "outputs": [],
   "source": [
    "cols = ['certificate', 'runtime', 'genre', 'imdb_rating', 'meta_score',\n",
    "       'no_of_votes', 'director_category', 'star1_category', 'star2_category',\n",
    "       'star3_category', 'star4_category', 'decade']"
   ]
  },
  {
   "cell_type": "code",
   "execution_count": 10,
   "id": "2f3507c0-07ba-4a7a-990a-446d1ffa3196",
   "metadata": {},
   "outputs": [],
   "source": [
    "# Define which columns could be dropped due to low correlation.\n",
    "\n",
    "cols_to_drop = [\n",
    "    #'imdb_rating',\n",
    "    'meta_score',\n",
    "    #'gross',\n",
    "    #'certificate',\n",
    "    #'director_category',\n",
    "    #'star1_category',\n",
    "    #'star2_category',\n",
    "    #'star3_category',\n",
    "    #'star4_category'\n",
    "]\n",
    "\n",
    "df = df.drop(columns=cols_to_drop)"
   ]
  },
  {
   "cell_type": "code",
   "execution_count": 11,
   "id": "78a60aad-8e0f-4413-b1c6-9bed7e0730a7",
   "metadata": {
    "tags": []
   },
   "outputs": [
    {
     "data": {
      "text/plain": [
       "(713, 11)"
      ]
     },
     "execution_count": 11,
     "metadata": {},
     "output_type": "execute_result"
    }
   ],
   "source": [
    "# Define our target and features.\n",
    "target = df['no_of_votes']\n",
    "features = df.drop('no_of_votes', axis=1)\n",
    "\n",
    "# Split dataset into categorical and numerical\n",
    "categorical_features = features.select_dtypes(['object', 'bool'])\n",
    "numerical_features = features.drop(categorical_features, axis=1)\n",
    "features.shape"
   ]
  },
  {
   "cell_type": "code",
   "execution_count": 12,
   "id": "afe02a41-d5e8-4462-a0f1-a1c04b1672bf",
   "metadata": {
    "tags": []
   },
   "outputs": [],
   "source": [
    "# Now we perform the division between Train and Test, we will reserve 20% of our data to Test.\n",
    "X_train, X_test, y_train, y_test = train_test_split(features, target, test_size=0.20, random_state=0)"
   ]
  },
  {
   "cell_type": "code",
   "execution_count": 13,
   "id": "9321db8e-a91a-4622-8814-23a450007ed5",
   "metadata": {},
   "outputs": [
    {
     "data": {
      "text/html": [
       "<div>\n",
       "<style scoped>\n",
       "    .dataframe tbody tr th:only-of-type {\n",
       "        vertical-align: middle;\n",
       "    }\n",
       "\n",
       "    .dataframe tbody tr th {\n",
       "        vertical-align: top;\n",
       "    }\n",
       "\n",
       "    .dataframe thead th {\n",
       "        text-align: right;\n",
       "    }\n",
       "</style>\n",
       "<table border=\"1\" class=\"dataframe\">\n",
       "  <thead>\n",
       "    <tr style=\"text-align: right;\">\n",
       "      <th></th>\n",
       "      <th>certificate_all public</th>\n",
       "      <th>certificate_family</th>\n",
       "      <th>certificate_over 18</th>\n",
       "      <th>genre_Action/Adventure</th>\n",
       "      <th>genre_Comedy</th>\n",
       "      <th>genre_Drama</th>\n",
       "      <th>genre_Other</th>\n",
       "      <th>genre_Thriller/Crime/Mystery</th>\n",
       "      <th>director_category_average</th>\n",
       "      <th>director_category_high</th>\n",
       "      <th>...</th>\n",
       "      <th>decade_1950's</th>\n",
       "      <th>decade_1960's</th>\n",
       "      <th>decade_1970's</th>\n",
       "      <th>decade_1980's</th>\n",
       "      <th>decade_1990's</th>\n",
       "      <th>decade_2000's</th>\n",
       "      <th>decade_2010's</th>\n",
       "      <th>runtime</th>\n",
       "      <th>imdb_rating</th>\n",
       "      <th>gross</th>\n",
       "    </tr>\n",
       "  </thead>\n",
       "  <tbody>\n",
       "    <tr>\n",
       "      <th>692</th>\n",
       "      <td>1.0</td>\n",
       "      <td>0.0</td>\n",
       "      <td>0.0</td>\n",
       "      <td>0.0</td>\n",
       "      <td>1.0</td>\n",
       "      <td>0.0</td>\n",
       "      <td>0.0</td>\n",
       "      <td>0.0</td>\n",
       "      <td>1.0</td>\n",
       "      <td>0.0</td>\n",
       "      <td>...</td>\n",
       "      <td>0.0</td>\n",
       "      <td>0.0</td>\n",
       "      <td>0.0</td>\n",
       "      <td>0.0</td>\n",
       "      <td>1.0</td>\n",
       "      <td>0.0</td>\n",
       "      <td>0.0</td>\n",
       "      <td>103</td>\n",
       "      <td>7.6</td>\n",
       "      <td>285761243.0</td>\n",
       "    </tr>\n",
       "    <tr>\n",
       "      <th>266</th>\n",
       "      <td>0.0</td>\n",
       "      <td>1.0</td>\n",
       "      <td>0.0</td>\n",
       "      <td>0.0</td>\n",
       "      <td>0.0</td>\n",
       "      <td>1.0</td>\n",
       "      <td>0.0</td>\n",
       "      <td>0.0</td>\n",
       "      <td>1.0</td>\n",
       "      <td>0.0</td>\n",
       "      <td>...</td>\n",
       "      <td>0.0</td>\n",
       "      <td>0.0</td>\n",
       "      <td>0.0</td>\n",
       "      <td>0.0</td>\n",
       "      <td>1.0</td>\n",
       "      <td>0.0</td>\n",
       "      <td>0.0</td>\n",
       "      <td>189</td>\n",
       "      <td>8.0</td>\n",
       "      <td>70405498.0</td>\n",
       "    </tr>\n",
       "    <tr>\n",
       "      <th>17</th>\n",
       "      <td>1.0</td>\n",
       "      <td>0.0</td>\n",
       "      <td>0.0</td>\n",
       "      <td>0.0</td>\n",
       "      <td>0.0</td>\n",
       "      <td>1.0</td>\n",
       "      <td>0.0</td>\n",
       "      <td>0.0</td>\n",
       "      <td>1.0</td>\n",
       "      <td>0.0</td>\n",
       "      <td>...</td>\n",
       "      <td>0.0</td>\n",
       "      <td>0.0</td>\n",
       "      <td>1.0</td>\n",
       "      <td>0.0</td>\n",
       "      <td>0.0</td>\n",
       "      <td>0.0</td>\n",
       "      <td>0.0</td>\n",
       "      <td>133</td>\n",
       "      <td>8.7</td>\n",
       "      <td>112000000.0</td>\n",
       "    </tr>\n",
       "    <tr>\n",
       "      <th>477</th>\n",
       "      <td>1.0</td>\n",
       "      <td>0.0</td>\n",
       "      <td>0.0</td>\n",
       "      <td>0.0</td>\n",
       "      <td>0.0</td>\n",
       "      <td>0.0</td>\n",
       "      <td>1.0</td>\n",
       "      <td>0.0</td>\n",
       "      <td>0.0</td>\n",
       "      <td>0.0</td>\n",
       "      <td>...</td>\n",
       "      <td>0.0</td>\n",
       "      <td>0.0</td>\n",
       "      <td>1.0</td>\n",
       "      <td>0.0</td>\n",
       "      <td>0.0</td>\n",
       "      <td>0.0</td>\n",
       "      <td>0.0</td>\n",
       "      <td>72</td>\n",
       "      <td>7.8</td>\n",
       "      <td>193817.0</td>\n",
       "    </tr>\n",
       "    <tr>\n",
       "      <th>302</th>\n",
       "      <td>0.0</td>\n",
       "      <td>1.0</td>\n",
       "      <td>0.0</td>\n",
       "      <td>0.0</td>\n",
       "      <td>1.0</td>\n",
       "      <td>0.0</td>\n",
       "      <td>0.0</td>\n",
       "      <td>0.0</td>\n",
       "      <td>0.0</td>\n",
       "      <td>0.0</td>\n",
       "      <td>...</td>\n",
       "      <td>0.0</td>\n",
       "      <td>0.0</td>\n",
       "      <td>0.0</td>\n",
       "      <td>0.0</td>\n",
       "      <td>0.0</td>\n",
       "      <td>0.0</td>\n",
       "      <td>1.0</td>\n",
       "      <td>130</td>\n",
       "      <td>7.9</td>\n",
       "      <td>165359751.0</td>\n",
       "    </tr>\n",
       "  </tbody>\n",
       "</table>\n",
       "<p>5 rows × 35 columns</p>\n",
       "</div>"
      ],
      "text/plain": [
       "     certificate_all public  certificate_family  certificate_over 18  \\\n",
       "692                     1.0                 0.0                  0.0   \n",
       "266                     0.0                 1.0                  0.0   \n",
       "17                      1.0                 0.0                  0.0   \n",
       "477                     1.0                 0.0                  0.0   \n",
       "302                     0.0                 1.0                  0.0   \n",
       "\n",
       "     genre_Action/Adventure  genre_Comedy  genre_Drama  genre_Other  \\\n",
       "692                     0.0           1.0          0.0          0.0   \n",
       "266                     0.0           0.0          1.0          0.0   \n",
       "17                      0.0           0.0          1.0          0.0   \n",
       "477                     0.0           0.0          0.0          1.0   \n",
       "302                     0.0           1.0          0.0          0.0   \n",
       "\n",
       "     genre_Thriller/Crime/Mystery  director_category_average  \\\n",
       "692                           0.0                        1.0   \n",
       "266                           0.0                        1.0   \n",
       "17                            0.0                        1.0   \n",
       "477                           0.0                        0.0   \n",
       "302                           0.0                        0.0   \n",
       "\n",
       "     director_category_high  ...  decade_1950's  decade_1960's  decade_1970's  \\\n",
       "692                     0.0  ...            0.0            0.0            0.0   \n",
       "266                     0.0  ...            0.0            0.0            0.0   \n",
       "17                      0.0  ...            0.0            0.0            1.0   \n",
       "477                     0.0  ...            0.0            0.0            1.0   \n",
       "302                     0.0  ...            0.0            0.0            0.0   \n",
       "\n",
       "     decade_1980's  decade_1990's  decade_2000's  decade_2010's  runtime  \\\n",
       "692            0.0            1.0            0.0            0.0      103   \n",
       "266            0.0            1.0            0.0            0.0      189   \n",
       "17             0.0            0.0            0.0            0.0      133   \n",
       "477            0.0            0.0            0.0            0.0       72   \n",
       "302            0.0            0.0            0.0            1.0      130   \n",
       "\n",
       "     imdb_rating        gross  \n",
       "692          7.6  285761243.0  \n",
       "266          8.0   70405498.0  \n",
       "17           8.7  112000000.0  \n",
       "477          7.8     193817.0  \n",
       "302          7.9  165359751.0  \n",
       "\n",
       "[5 rows x 35 columns]"
      ]
     },
     "execution_count": 13,
     "metadata": {},
     "output_type": "execute_result"
    }
   ],
   "source": [
    "# Initiate OneHotEncoder\n",
    "ohe = OneHotEncoder(sparse_output=False)\n",
    "\n",
    "# Split training set into categorical and numerical\n",
    "X_train_cat = X_train.select_dtypes(['object', 'bool'])\n",
    "X_train_num = X_train.drop(X_train_cat, axis=1)\n",
    "\n",
    "# Fit OneHotEncoder with the categorical data and transform it into numerical values\n",
    "ohe.fit(X_train_cat)\n",
    "X_train_trans_np = ohe.transform(X_train_cat)\n",
    "\n",
    "# Create a dataframe using the transformed values and the original index\n",
    "X_train_trans_df = pd.DataFrame(X_train_trans_np, columns=ohe.get_feature_names_out(), index=X_train.index)\n",
    "\n",
    "# Concatenate the newly transformed train dataframe with the train numerical dataframe\n",
    "X_train = pd.concat([X_train_trans_df, X_train_num], axis=1)\n",
    "X_train.head()"
   ]
  },
  {
   "cell_type": "code",
   "execution_count": 14,
   "id": "19cd0999-c7ef-4c56-a6f8-79fe01c4ef6f",
   "metadata": {},
   "outputs": [
    {
     "data": {
      "text/html": [
       "<div>\n",
       "<style scoped>\n",
       "    .dataframe tbody tr th:only-of-type {\n",
       "        vertical-align: middle;\n",
       "    }\n",
       "\n",
       "    .dataframe tbody tr th {\n",
       "        vertical-align: top;\n",
       "    }\n",
       "\n",
       "    .dataframe thead th {\n",
       "        text-align: right;\n",
       "    }\n",
       "</style>\n",
       "<table border=\"1\" class=\"dataframe\">\n",
       "  <thead>\n",
       "    <tr style=\"text-align: right;\">\n",
       "      <th></th>\n",
       "      <th>certificate_all public</th>\n",
       "      <th>certificate_family</th>\n",
       "      <th>certificate_over 18</th>\n",
       "      <th>genre_Action/Adventure</th>\n",
       "      <th>genre_Comedy</th>\n",
       "      <th>genre_Drama</th>\n",
       "      <th>genre_Other</th>\n",
       "      <th>genre_Thriller/Crime/Mystery</th>\n",
       "      <th>director_category_average</th>\n",
       "      <th>director_category_high</th>\n",
       "      <th>...</th>\n",
       "      <th>decade_1950's</th>\n",
       "      <th>decade_1960's</th>\n",
       "      <th>decade_1970's</th>\n",
       "      <th>decade_1980's</th>\n",
       "      <th>decade_1990's</th>\n",
       "      <th>decade_2000's</th>\n",
       "      <th>decade_2010's</th>\n",
       "      <th>runtime</th>\n",
       "      <th>imdb_rating</th>\n",
       "      <th>gross</th>\n",
       "    </tr>\n",
       "  </thead>\n",
       "  <tbody>\n",
       "    <tr>\n",
       "      <th>338</th>\n",
       "      <td>1.0</td>\n",
       "      <td>0.0</td>\n",
       "      <td>0.0</td>\n",
       "      <td>1.0</td>\n",
       "      <td>0.0</td>\n",
       "      <td>0.0</td>\n",
       "      <td>0.0</td>\n",
       "      <td>0.0</td>\n",
       "      <td>0.0</td>\n",
       "      <td>1.0</td>\n",
       "      <td>...</td>\n",
       "      <td>0.0</td>\n",
       "      <td>0.0</td>\n",
       "      <td>0.0</td>\n",
       "      <td>0.0</td>\n",
       "      <td>0.0</td>\n",
       "      <td>1.0</td>\n",
       "      <td>0.0</td>\n",
       "      <td>142</td>\n",
       "      <td>7.9</td>\n",
       "      <td>249358727.0</td>\n",
       "    </tr>\n",
       "    <tr>\n",
       "      <th>142</th>\n",
       "      <td>1.0</td>\n",
       "      <td>0.0</td>\n",
       "      <td>0.0</td>\n",
       "      <td>0.0</td>\n",
       "      <td>0.0</td>\n",
       "      <td>0.0</td>\n",
       "      <td>1.0</td>\n",
       "      <td>0.0</td>\n",
       "      <td>1.0</td>\n",
       "      <td>0.0</td>\n",
       "      <td>...</td>\n",
       "      <td>0.0</td>\n",
       "      <td>0.0</td>\n",
       "      <td>0.0</td>\n",
       "      <td>0.0</td>\n",
       "      <td>0.0</td>\n",
       "      <td>0.0</td>\n",
       "      <td>1.0</td>\n",
       "      <td>95</td>\n",
       "      <td>8.1</td>\n",
       "      <td>356461711.0</td>\n",
       "    </tr>\n",
       "    <tr>\n",
       "      <th>242</th>\n",
       "      <td>1.0</td>\n",
       "      <td>0.0</td>\n",
       "      <td>0.0</td>\n",
       "      <td>0.0</td>\n",
       "      <td>0.0</td>\n",
       "      <td>1.0</td>\n",
       "      <td>0.0</td>\n",
       "      <td>0.0</td>\n",
       "      <td>1.0</td>\n",
       "      <td>0.0</td>\n",
       "      <td>...</td>\n",
       "      <td>0.0</td>\n",
       "      <td>0.0</td>\n",
       "      <td>0.0</td>\n",
       "      <td>0.0</td>\n",
       "      <td>0.0</td>\n",
       "      <td>0.0</td>\n",
       "      <td>1.0</td>\n",
       "      <td>126</td>\n",
       "      <td>8.0</td>\n",
       "      <td>2086345.0</td>\n",
       "    </tr>\n",
       "    <tr>\n",
       "      <th>235</th>\n",
       "      <td>1.0</td>\n",
       "      <td>0.0</td>\n",
       "      <td>0.0</td>\n",
       "      <td>0.0</td>\n",
       "      <td>0.0</td>\n",
       "      <td>0.0</td>\n",
       "      <td>0.0</td>\n",
       "      <td>1.0</td>\n",
       "      <td>1.0</td>\n",
       "      <td>0.0</td>\n",
       "      <td>...</td>\n",
       "      <td>0.0</td>\n",
       "      <td>0.0</td>\n",
       "      <td>0.0</td>\n",
       "      <td>0.0</td>\n",
       "      <td>0.0</td>\n",
       "      <td>1.0</td>\n",
       "      <td>0.0</td>\n",
       "      <td>88</td>\n",
       "      <td>8.0</td>\n",
       "      <td>238507.0</td>\n",
       "    </tr>\n",
       "    <tr>\n",
       "      <th>468</th>\n",
       "      <td>0.0</td>\n",
       "      <td>1.0</td>\n",
       "      <td>0.0</td>\n",
       "      <td>0.0</td>\n",
       "      <td>1.0</td>\n",
       "      <td>0.0</td>\n",
       "      <td>0.0</td>\n",
       "      <td>0.0</td>\n",
       "      <td>1.0</td>\n",
       "      <td>0.0</td>\n",
       "      <td>...</td>\n",
       "      <td>0.0</td>\n",
       "      <td>0.0</td>\n",
       "      <td>0.0</td>\n",
       "      <td>1.0</td>\n",
       "      <td>0.0</td>\n",
       "      <td>0.0</td>\n",
       "      <td>0.0</td>\n",
       "      <td>97</td>\n",
       "      <td>7.8</td>\n",
       "      <td>45875171.0</td>\n",
       "    </tr>\n",
       "  </tbody>\n",
       "</table>\n",
       "<p>5 rows × 35 columns</p>\n",
       "</div>"
      ],
      "text/plain": [
       "     certificate_all public  certificate_family  certificate_over 18  \\\n",
       "338                     1.0                 0.0                  0.0   \n",
       "142                     1.0                 0.0                  0.0   \n",
       "242                     1.0                 0.0                  0.0   \n",
       "235                     1.0                 0.0                  0.0   \n",
       "468                     0.0                 1.0                  0.0   \n",
       "\n",
       "     genre_Action/Adventure  genre_Comedy  genre_Drama  genre_Other  \\\n",
       "338                     1.0           0.0          0.0          0.0   \n",
       "142                     0.0           0.0          0.0          1.0   \n",
       "242                     0.0           0.0          1.0          0.0   \n",
       "235                     0.0           0.0          0.0          0.0   \n",
       "468                     0.0           1.0          0.0          0.0   \n",
       "\n",
       "     genre_Thriller/Crime/Mystery  director_category_average  \\\n",
       "338                           0.0                        0.0   \n",
       "142                           0.0                        1.0   \n",
       "242                           0.0                        1.0   \n",
       "235                           1.0                        1.0   \n",
       "468                           0.0                        1.0   \n",
       "\n",
       "     director_category_high  ...  decade_1950's  decade_1960's  decade_1970's  \\\n",
       "338                     1.0  ...            0.0            0.0            0.0   \n",
       "142                     0.0  ...            0.0            0.0            0.0   \n",
       "242                     0.0  ...            0.0            0.0            0.0   \n",
       "235                     0.0  ...            0.0            0.0            0.0   \n",
       "468                     0.0  ...            0.0            0.0            0.0   \n",
       "\n",
       "     decade_1980's  decade_1990's  decade_2000's  decade_2010's  runtime  \\\n",
       "338            0.0            0.0            1.0            0.0      142   \n",
       "142            0.0            0.0            0.0            1.0       95   \n",
       "242            0.0            0.0            0.0            1.0      126   \n",
       "235            0.0            0.0            1.0            0.0       88   \n",
       "468            1.0            0.0            0.0            0.0       97   \n",
       "\n",
       "     imdb_rating        gross  \n",
       "338          7.9  249358727.0  \n",
       "142          8.1  356461711.0  \n",
       "242          8.0    2086345.0  \n",
       "235          8.0     238507.0  \n",
       "468          7.8   45875171.0  \n",
       "\n",
       "[5 rows x 35 columns]"
      ]
     },
     "execution_count": 14,
     "metadata": {},
     "output_type": "execute_result"
    }
   ],
   "source": [
    "# Split test set into categorical and numerical\n",
    "X_test_cat = X_test.select_dtypes(['object', 'bool'])\n",
    "X_test_num = X_test.drop(X_test_cat, axis=1)\n",
    "\n",
    "# Transform the categorical data into numerical values\n",
    "X_test_trans_np = ohe.transform(X_test_cat)\n",
    "\n",
    "# Create a dataframe using the transformed values and the original index\n",
    "X_test_trans_df = pd.DataFrame(X_test_trans_np, columns=ohe.get_feature_names_out(), index=X_test.index)\n",
    "\n",
    "# Concatenate the newly transformed test dataframe with the test numerical dataframe\n",
    "X_test = pd.concat([X_test_trans_df, X_test_num], axis=1)\n",
    "X_test.head()"
   ]
  },
  {
   "cell_type": "code",
   "execution_count": 15,
   "id": "66a25915-36cb-4cfd-a655-c593a05014f8",
   "metadata": {},
   "outputs": [
    {
     "data": {
      "text/html": [
       "<div>\n",
       "<style scoped>\n",
       "    .dataframe tbody tr th:only-of-type {\n",
       "        vertical-align: middle;\n",
       "    }\n",
       "\n",
       "    .dataframe tbody tr th {\n",
       "        vertical-align: top;\n",
       "    }\n",
       "\n",
       "    .dataframe thead th {\n",
       "        text-align: right;\n",
       "    }\n",
       "</style>\n",
       "<table border=\"1\" class=\"dataframe\">\n",
       "  <thead>\n",
       "    <tr style=\"text-align: right;\">\n",
       "      <th></th>\n",
       "      <th>certificate_all public</th>\n",
       "      <th>certificate_family</th>\n",
       "      <th>certificate_over 18</th>\n",
       "      <th>genre_Action/Adventure</th>\n",
       "      <th>genre_Comedy</th>\n",
       "      <th>genre_Drama</th>\n",
       "      <th>genre_Other</th>\n",
       "      <th>genre_Thriller/Crime/Mystery</th>\n",
       "      <th>director_category_average</th>\n",
       "      <th>director_category_high</th>\n",
       "      <th>...</th>\n",
       "      <th>decade_1950's</th>\n",
       "      <th>decade_1960's</th>\n",
       "      <th>decade_1970's</th>\n",
       "      <th>decade_1980's</th>\n",
       "      <th>decade_1990's</th>\n",
       "      <th>decade_2000's</th>\n",
       "      <th>decade_2010's</th>\n",
       "      <th>runtime</th>\n",
       "      <th>imdb_rating</th>\n",
       "      <th>gross</th>\n",
       "    </tr>\n",
       "  </thead>\n",
       "  <tbody>\n",
       "    <tr>\n",
       "      <th>338</th>\n",
       "      <td>1.0</td>\n",
       "      <td>0.0</td>\n",
       "      <td>0.0</td>\n",
       "      <td>1.0</td>\n",
       "      <td>0.0</td>\n",
       "      <td>0.0</td>\n",
       "      <td>0.0</td>\n",
       "      <td>0.0</td>\n",
       "      <td>0.0</td>\n",
       "      <td>1.0</td>\n",
       "      <td>...</td>\n",
       "      <td>0.0</td>\n",
       "      <td>0.0</td>\n",
       "      <td>0.0</td>\n",
       "      <td>0.0</td>\n",
       "      <td>0.0</td>\n",
       "      <td>1.0</td>\n",
       "      <td>0.0</td>\n",
       "      <td>0.421687</td>\n",
       "      <td>0.176471</td>\n",
       "      <td>0.266220</td>\n",
       "    </tr>\n",
       "    <tr>\n",
       "      <th>142</th>\n",
       "      <td>1.0</td>\n",
       "      <td>0.0</td>\n",
       "      <td>0.0</td>\n",
       "      <td>0.0</td>\n",
       "      <td>0.0</td>\n",
       "      <td>0.0</td>\n",
       "      <td>1.0</td>\n",
       "      <td>0.0</td>\n",
       "      <td>1.0</td>\n",
       "      <td>0.0</td>\n",
       "      <td>...</td>\n",
       "      <td>0.0</td>\n",
       "      <td>0.0</td>\n",
       "      <td>0.0</td>\n",
       "      <td>0.0</td>\n",
       "      <td>0.0</td>\n",
       "      <td>0.0</td>\n",
       "      <td>1.0</td>\n",
       "      <td>0.138554</td>\n",
       "      <td>0.294118</td>\n",
       "      <td>0.380565</td>\n",
       "    </tr>\n",
       "    <tr>\n",
       "      <th>242</th>\n",
       "      <td>1.0</td>\n",
       "      <td>0.0</td>\n",
       "      <td>0.0</td>\n",
       "      <td>0.0</td>\n",
       "      <td>0.0</td>\n",
       "      <td>1.0</td>\n",
       "      <td>0.0</td>\n",
       "      <td>0.0</td>\n",
       "      <td>1.0</td>\n",
       "      <td>0.0</td>\n",
       "      <td>...</td>\n",
       "      <td>0.0</td>\n",
       "      <td>0.0</td>\n",
       "      <td>0.0</td>\n",
       "      <td>0.0</td>\n",
       "      <td>0.0</td>\n",
       "      <td>0.0</td>\n",
       "      <td>1.0</td>\n",
       "      <td>0.325301</td>\n",
       "      <td>0.235294</td>\n",
       "      <td>0.002226</td>\n",
       "    </tr>\n",
       "    <tr>\n",
       "      <th>235</th>\n",
       "      <td>1.0</td>\n",
       "      <td>0.0</td>\n",
       "      <td>0.0</td>\n",
       "      <td>0.0</td>\n",
       "      <td>0.0</td>\n",
       "      <td>0.0</td>\n",
       "      <td>0.0</td>\n",
       "      <td>1.0</td>\n",
       "      <td>1.0</td>\n",
       "      <td>0.0</td>\n",
       "      <td>...</td>\n",
       "      <td>0.0</td>\n",
       "      <td>0.0</td>\n",
       "      <td>0.0</td>\n",
       "      <td>0.0</td>\n",
       "      <td>0.0</td>\n",
       "      <td>1.0</td>\n",
       "      <td>0.0</td>\n",
       "      <td>0.096386</td>\n",
       "      <td>0.235294</td>\n",
       "      <td>0.000253</td>\n",
       "    </tr>\n",
       "    <tr>\n",
       "      <th>468</th>\n",
       "      <td>0.0</td>\n",
       "      <td>1.0</td>\n",
       "      <td>0.0</td>\n",
       "      <td>0.0</td>\n",
       "      <td>1.0</td>\n",
       "      <td>0.0</td>\n",
       "      <td>0.0</td>\n",
       "      <td>0.0</td>\n",
       "      <td>1.0</td>\n",
       "      <td>0.0</td>\n",
       "      <td>...</td>\n",
       "      <td>0.0</td>\n",
       "      <td>0.0</td>\n",
       "      <td>0.0</td>\n",
       "      <td>1.0</td>\n",
       "      <td>0.0</td>\n",
       "      <td>0.0</td>\n",
       "      <td>0.0</td>\n",
       "      <td>0.150602</td>\n",
       "      <td>0.117647</td>\n",
       "      <td>0.048976</td>\n",
       "    </tr>\n",
       "  </tbody>\n",
       "</table>\n",
       "<p>5 rows × 35 columns</p>\n",
       "</div>"
      ],
      "text/plain": [
       "     certificate_all public  certificate_family  certificate_over 18  \\\n",
       "338                     1.0                 0.0                  0.0   \n",
       "142                     1.0                 0.0                  0.0   \n",
       "242                     1.0                 0.0                  0.0   \n",
       "235                     1.0                 0.0                  0.0   \n",
       "468                     0.0                 1.0                  0.0   \n",
       "\n",
       "     genre_Action/Adventure  genre_Comedy  genre_Drama  genre_Other  \\\n",
       "338                     1.0           0.0          0.0          0.0   \n",
       "142                     0.0           0.0          0.0          1.0   \n",
       "242                     0.0           0.0          1.0          0.0   \n",
       "235                     0.0           0.0          0.0          0.0   \n",
       "468                     0.0           1.0          0.0          0.0   \n",
       "\n",
       "     genre_Thriller/Crime/Mystery  director_category_average  \\\n",
       "338                           0.0                        0.0   \n",
       "142                           0.0                        1.0   \n",
       "242                           0.0                        1.0   \n",
       "235                           1.0                        1.0   \n",
       "468                           0.0                        1.0   \n",
       "\n",
       "     director_category_high  ...  decade_1950's  decade_1960's  decade_1970's  \\\n",
       "338                     1.0  ...            0.0            0.0            0.0   \n",
       "142                     0.0  ...            0.0            0.0            0.0   \n",
       "242                     0.0  ...            0.0            0.0            0.0   \n",
       "235                     0.0  ...            0.0            0.0            0.0   \n",
       "468                     0.0  ...            0.0            0.0            0.0   \n",
       "\n",
       "     decade_1980's  decade_1990's  decade_2000's  decade_2010's   runtime  \\\n",
       "338            0.0            0.0            1.0            0.0  0.421687   \n",
       "142            0.0            0.0            0.0            1.0  0.138554   \n",
       "242            0.0            0.0            0.0            1.0  0.325301   \n",
       "235            0.0            0.0            1.0            0.0  0.096386   \n",
       "468            1.0            0.0            0.0            0.0  0.150602   \n",
       "\n",
       "     imdb_rating     gross  \n",
       "338     0.176471  0.266220  \n",
       "142     0.294118  0.380565  \n",
       "242     0.235294  0.002226  \n",
       "235     0.235294  0.000253  \n",
       "468     0.117647  0.048976  \n",
       "\n",
       "[5 rows x 35 columns]"
      ]
     },
     "execution_count": 15,
     "metadata": {},
     "output_type": "execute_result"
    }
   ],
   "source": [
    "normalizer = MinMaxScaler()\n",
    "normalizer.fit(X_train)\n",
    "\n",
    "X_train_norm = normalizer.transform(X_train)\n",
    "X_test_norm = normalizer.transform(X_test)\n",
    "\n",
    "X_train_norm = pd.DataFrame(X_train_norm, columns = X_train.columns, index = X_train.index)\n",
    "X_train_norm.head()\n",
    "\n",
    "X_test_norm = pd.DataFrame(X_test_norm, columns = X_test.columns, index = X_test.index)\n",
    "X_test_norm.head()"
   ]
  },
  {
   "cell_type": "code",
   "execution_count": 16,
   "id": "a7d58e63-466c-460b-be56-655f44f54344",
   "metadata": {},
   "outputs": [],
   "source": [
    "# Create a variable to use as the max_samples option in Bagging and Pasting below. This ensures no error.\n",
    "number_of_samples = X_train_norm.shape[0]\n",
    "number_of_test_rows = X_test_norm.shape[0]\n",
    "max_samples = min(1000, number_of_samples)\n",
    "\n",
    "# Create a variable to hold the scores of each model\n",
    "scores = []"
   ]
  },
  {
   "cell_type": "markdown",
   "id": "14abb36f-106a-4675-a03b-3a9f640837cd",
   "metadata": {
    "tags": []
   },
   "source": [
    "###  KNN"
   ]
  },
  {
   "cell_type": "code",
   "execution_count": 17,
   "id": "10c2b0a1-84db-43c1-b60b-5cf6a4ced5a5",
   "metadata": {},
   "outputs": [
    {
     "name": "stdout",
     "output_type": "stream",
     "text": [
      "The R2 of the model is  0.49\n"
     ]
    },
    {
     "data": {
      "text/plain": [
       "{'model': 'KNeighborsRegressor',\n",
       " 'optimized': False,\n",
       " 'mean_absolute_error': 184238.79,\n",
       " 'mean_squared_error': 266084.68,\n",
       " 'r2_score': 0.49}"
      ]
     },
     "execution_count": 17,
     "metadata": {},
     "output_type": "execute_result"
    }
   ],
   "source": [
    "knn = KNeighborsRegressor(n_neighbors=13) # K=10\n",
    "\n",
    "knn.fit(X_train_norm, y_train)\n",
    "\n",
    "pred = knn.predict(X_test_norm)\n",
    "\n",
    "#We are going to evaluate our model performance with R-Squared\n",
    "print(f\"The R2 of the model is {knn.score(X_test_norm, y_test): .2f}\")\n",
    "\n",
    "score = {\n",
    "    'model': 'KNeighborsRegressor',\n",
    "    'optimized': False,\n",
    "    'mean_absolute_error': round(mean_absolute_error(y_test, pred), 2),\n",
    "    'mean_squared_error': round(mean_squared_error(y_test, pred, squared=False), 2),\n",
    "    'r2_score': round(knn.score(X_test_norm, y_test), 2)\n",
    "}\n",
    "\n",
    "scores.append(score)\n",
    "score"
   ]
  },
  {
   "cell_type": "markdown",
   "id": "cf07c90d-65e8-4210-a106-b0242a0e9d1b",
   "metadata": {
    "tags": []
   },
   "source": [
    "###  Linear Regression"
   ]
  },
  {
   "cell_type": "code",
   "execution_count": 18,
   "id": "f26933d8-7bf5-4661-a48d-4dd51180bbe4",
   "metadata": {},
   "outputs": [
    {
     "name": "stdout",
     "output_type": "stream",
     "text": [
      "MAE  156004.59\n",
      "RMSE,  204939.43\n",
      "R2 score,  0.70\n"
     ]
    },
    {
     "data": {
      "text/plain": [
       "{'model': 'LinearRegression',\n",
       " 'optimized': False,\n",
       " 'mean_absolute_error': 156004.59,\n",
       " 'mean_squared_error': 204939.43,\n",
       " 'r2_score': 0.7}"
      ]
     },
     "execution_count": 18,
     "metadata": {},
     "output_type": "execute_result"
    }
   ],
   "source": [
    "lin_reg = LinearRegression()\n",
    "\n",
    "lin_reg.fit(X_train_norm, y_train)\n",
    "\n",
    "pred = lin_reg.predict(X_test_norm)\n",
    "\n",
    "print(f\"MAE {mean_absolute_error(y_test, pred): .2f}\")\n",
    "print(f\"RMSE, {mean_squared_error(y_test, pred, squared=False): .2f}\")\n",
    "print(f\"R2 score, {lin_reg.score(X_test_norm, y_test): .2f}\")\n",
    "\n",
    "score = {\n",
    "    'model': 'LinearRegression',\n",
    "    'optimized': False,\n",
    "    'mean_absolute_error': round(mean_absolute_error(y_test, pred), 2),\n",
    "    'mean_squared_error': round(mean_squared_error(y_test, pred, squared=False), 2),\n",
    "    'r2_score': round(lin_reg.score(X_test_norm, y_test), 2)\n",
    "}\n",
    "\n",
    "scores.append(score)\n",
    "score"
   ]
  },
  {
   "cell_type": "markdown",
   "id": "f11d3ee9-5339-43bd-8aa7-d69121f8f8be",
   "metadata": {},
   "source": [
    "### Bagging and Pasting"
   ]
  },
  {
   "cell_type": "markdown",
   "id": "0649e5f5-2551-4ce1-8b3a-3ff5055c7d67",
   "metadata": {},
   "source": [
    "#### Standard"
   ]
  },
  {
   "cell_type": "code",
   "execution_count": 19,
   "id": "0c391853-2521-4a7f-9b99-758b10ee7281",
   "metadata": {},
   "outputs": [
    {
     "name": "stdout",
     "output_type": "stream",
     "text": [
      "MAE,  112461.42\n",
      "RMSE,  164301.20\n",
      "R2 score,  0.80\n"
     ]
    },
    {
     "data": {
      "text/plain": [
       "{'model': 'BaggingRegressor',\n",
       " 'optimized': False,\n",
       " 'mean_absolute_error': 112461.42,\n",
       " 'mean_squared_error': 164301.2,\n",
       " 'r2_score': 0.8}"
      ]
     },
     "execution_count": 19,
     "metadata": {},
     "output_type": "execute_result"
    }
   ],
   "source": [
    "bagging_reg = BaggingRegressor(DecisionTreeRegressor(max_depth=20),\n",
    "                               n_estimators=50,\n",
    "                               max_samples = max_samples)\n",
    "\n",
    "bagging_reg.fit(X_train_norm, y_train)\n",
    "\n",
    "pred = bagging_reg.predict(X_test_norm)\n",
    "\n",
    "print(f'MAE, {mean_absolute_error(y_test, pred): .2f}')\n",
    "print(f'RMSE, {mean_squared_error(y_test, pred, squared=False): .2f}')\n",
    "print(f'R2 score, {bagging_reg.score(X_test_norm, y_test): .2f}')\n",
    "\n",
    "score = {\n",
    "    'model': 'BaggingRegressor',\n",
    "    'optimized': False,\n",
    "    'mean_absolute_error': round(mean_absolute_error(y_test, pred), 2),\n",
    "    'mean_squared_error': round(mean_squared_error(y_test, pred, squared=False), 2),\n",
    "    'r2_score': round(bagging_reg.score(X_test_norm, y_test), 2)\n",
    "}\n",
    "\n",
    "scores.append(score)\n",
    "score"
   ]
  },
  {
   "cell_type": "markdown",
   "id": "36ef89b9-f42f-4556-b271-044a9aee6b1a",
   "metadata": {},
   "source": [
    "#### Optimized"
   ]
  },
  {
   "cell_type": "code",
   "execution_count": 20,
   "id": "b6ba4729-8756-4a7f-b7ad-6a6c05fd7d90",
   "metadata": {},
   "outputs": [
    {
     "name": "stdout",
     "output_type": "stream",
     "text": [
      "Best parameters found:  {'estimator__max_depth': 30, 'estimator__min_samples_leaf': 1, 'estimator__min_samples_split': 5, 'max_features': 1.0, 'max_samples': 0.7, 'n_estimators': 50}\n",
      "MAE: 118402.60\n",
      "RMSE: 168437.87\n",
      "R2 score: 0.79\n"
     ]
    },
    {
     "data": {
      "text/plain": [
       "{'model': 'BaggingRegressorGS',\n",
       " 'optimized': True,\n",
       " 'mean_absolute_error': 118402.6,\n",
       " 'mean_squared_error': 168437.87,\n",
       " 'r2_score': 0.79}"
      ]
     },
     "execution_count": 20,
     "metadata": {},
     "output_type": "execute_result"
    }
   ],
   "source": [
    "# Define the parameter grid for GridSearchCV\n",
    "param_grid = {\n",
    "    'n_estimators': [50, 100, 120],\n",
    "    'max_samples': [0.5, 0.7, 1.0],\n",
    "    'max_features': [0.5, 0.7, 1.0],\n",
    "    'estimator__max_depth': [10, 20, 30, None],\n",
    "    'estimator__min_samples_split': [2, 5, 10],\n",
    "    'estimator__min_samples_leaf': [1, 2, 4]\n",
    "}\n",
    "\n",
    "# Initialize the RandomForestRegressor\n",
    "#bagging_reg = BaggingRegressor(DecisionTreeRegressor(max_depth=11))\n",
    "bagging_reg = BaggingRegressor(estimator=DecisionTreeRegressor())\n",
    "\n",
    "# Initialize GridSearchCV with the RandomForestRegressor\n",
    "grid_search = GridSearchCV(estimator=bagging_reg, param_grid=param_grid, cv=5, scoring='neg_mean_squared_error', n_jobs=-1)\n",
    "\n",
    "# Fit GridSearchCV to the data\n",
    "grid_search.fit(X_train_norm, y_train)\n",
    "\n",
    "# Get the best estimator\n",
    "best_bagging_reg = grid_search.best_estimator_\n",
    "\n",
    "# Make predictions with the best estimator\n",
    "pred = best_bagging_reg.predict(X_test_norm)\n",
    "\n",
    "# Print the best parameters\n",
    "print(\"Best parameters found: \", grid_search.best_params_)\n",
    "\n",
    "# Evaluate the model\n",
    "print(f'MAE: {mean_absolute_error(y_test, pred):.2f}')\n",
    "print(f'RMSE: {mean_squared_error(y_test, pred, squared=False):.2f}')\n",
    "print(f'R2 score: {best_bagging_reg.score(X_test_norm, y_test):.2f}')\n",
    "\n",
    "score = {\n",
    "    'model': 'BaggingRegressorGS',\n",
    "    'optimized': True,\n",
    "    'mean_absolute_error': round(mean_absolute_error(y_test, pred), 2),\n",
    "    'mean_squared_error': round(mean_squared_error(y_test, pred, squared=False), 2),\n",
    "    'r2_score': round(best_bagging_reg.score(X_test_norm, y_test), 2)\n",
    "}\n",
    "\n",
    "scores.append(score)\n",
    "score"
   ]
  },
  {
   "cell_type": "markdown",
   "id": "d4fd7e14-e31f-491e-b21d-7bf412b6a521",
   "metadata": {},
   "source": [
    "### Random Forest"
   ]
  },
  {
   "cell_type": "markdown",
   "id": "3acd384f-e0d7-46c8-838d-f4eeae2c5037",
   "metadata": {},
   "source": [
    "#### Standard"
   ]
  },
  {
   "cell_type": "code",
   "execution_count": 21,
   "id": "ffa14d92-82b5-4563-a81c-48ce335828fd",
   "metadata": {},
   "outputs": [
    {
     "name": "stdout",
     "output_type": "stream",
     "text": [
      "MAE,  115080.04\n",
      "RMSE,  166308.98\n",
      "R2 score,  0.80\n"
     ]
    },
    {
     "data": {
      "text/plain": [
       "{'model': 'RandomForestRegressor',\n",
       " 'optimized': False,\n",
       " 'mean_absolute_error': 115080.04,\n",
       " 'mean_squared_error': 166308.98,\n",
       " 'r2_score': 0.8}"
      ]
     },
     "execution_count": 21,
     "metadata": {},
     "output_type": "execute_result"
    }
   ],
   "source": [
    "forest = RandomForestRegressor(n_estimators=100,\n",
    "                             max_depth=20)\n",
    "\n",
    "forest.fit(X_train_norm, y_train)\n",
    "\n",
    "pred = forest.predict(X_test_norm)\n",
    "\n",
    "print(f'MAE, {mean_absolute_error(y_test, pred): .2f}')\n",
    "print(f'RMSE, {mean_squared_error(y_test, pred, squared=False): .2f}')\n",
    "print(f'R2 score, {forest.score(X_test_norm, y_test): .2f}')\n",
    "\n",
    "score = {\n",
    "    'model': 'RandomForestRegressor',\n",
    "    'optimized': False,\n",
    "    'mean_absolute_error': round(mean_absolute_error(y_test, pred), 2),\n",
    "    'mean_squared_error': round(mean_squared_error(y_test, pred, squared=False), 2),\n",
    "    'r2_score': round(forest.score(X_test_norm, y_test), 2)\n",
    "}\n",
    "\n",
    "scores.append(score)\n",
    "score"
   ]
  },
  {
   "cell_type": "markdown",
   "id": "442ea793-cc6c-4dc8-a089-dd0212842080",
   "metadata": {},
   "source": [
    "#### Optimized"
   ]
  },
  {
   "cell_type": "code",
   "execution_count": 22,
   "id": "209f1aeb-359b-49a6-a80d-4955cc475fbb",
   "metadata": {},
   "outputs": [
    {
     "name": "stdout",
     "output_type": "stream",
     "text": [
      "Best parameters found:  {'max_depth': 10, 'max_features': 1.0, 'min_samples_leaf': 2, 'min_samples_split': 5, 'n_estimators': 50}\n",
      "MAE: 117778.66\n",
      "RMSE: 169222.54\n",
      "R2 score: 0.79\n"
     ]
    },
    {
     "data": {
      "text/plain": [
       "{'model': 'RandomForestRegressorGS',\n",
       " 'optimized': True,\n",
       " 'mean_absolute_error': 117778.66,\n",
       " 'mean_squared_error': 169222.54,\n",
       " 'r2_score': 0.79}"
      ]
     },
     "execution_count": 22,
     "metadata": {},
     "output_type": "execute_result"
    }
   ],
   "source": [
    "from sklearn.model_selection import GridSearchCV\n",
    "\n",
    "# Define the parameter grid for GridSearchCV\n",
    "param_grid = {\n",
    "    'n_estimators': [50, 100, 200],\n",
    "    'max_depth': [10, 20, 30, None],\n",
    "    'min_samples_split': [2, 5, 10],\n",
    "    'min_samples_leaf': [1, 2, 4],\n",
    "    'max_features': [1.0, 'sqrt', 'log2']\n",
    "}\n",
    "\n",
    "# Initialize the RandomForestRegressor\n",
    "forest = RandomForestRegressor()\n",
    "\n",
    "# Initialize GridSearchCV with the RandomForestRegressor\n",
    "grid_search = GridSearchCV(estimator=forest, param_grid=param_grid, cv=5, scoring='neg_mean_squared_error', n_jobs=-1)\n",
    "\n",
    "# Fit GridSearchCV to the data\n",
    "grid_search.fit(X_train_norm, y_train)\n",
    "\n",
    "# Get the best estimator\n",
    "best_forest = grid_search.best_estimator_\n",
    "\n",
    "# Make predictions with the best estimator\n",
    "pred = best_forest.predict(X_test_norm)\n",
    "\n",
    "# Print the best parameters\n",
    "print(\"Best parameters found: \", grid_search.best_params_)\n",
    "\n",
    "# Evaluate the model\n",
    "print(f'MAE: {mean_absolute_error(y_test, pred):.2f}')\n",
    "print(f'RMSE: {mean_squared_error(y_test, pred, squared=False):.2f}')\n",
    "print(f'R2 score: {best_forest.score(X_test_norm, y_test):.2f}')\n",
    "\n",
    "score = {\n",
    "    'model': 'RandomForestRegressorGS',\n",
    "    'optimized': True,\n",
    "    'mean_absolute_error': round(mean_absolute_error(y_test, pred), 2),\n",
    "    'mean_squared_error': round(mean_squared_error(y_test, pred, squared=False), 2),\n",
    "    'r2_score': round(best_forest.score(X_test_norm, y_test), 2)\n",
    "}\n",
    "\n",
    "scores.append(score)\n",
    "score"
   ]
  },
  {
   "cell_type": "markdown",
   "id": "4ccf9583-080b-4354-bc2d-31ab6e83aed3",
   "metadata": {},
   "source": [
    "### AdaBoost"
   ]
  },
  {
   "cell_type": "markdown",
   "id": "dace8ee3-1a69-4487-bd84-94f9d2a6a9ff",
   "metadata": {},
   "source": [
    "#### Standard"
   ]
  },
  {
   "cell_type": "code",
   "execution_count": 23,
   "id": "5c35b621-5ccd-442a-8a6d-5f01233be21a",
   "metadata": {},
   "outputs": [
    {
     "name": "stdout",
     "output_type": "stream",
     "text": [
      "MAE,  109232.67\n",
      "RMSE,  166993.81\n",
      "R2 score,  0.80\n"
     ]
    },
    {
     "data": {
      "text/plain": [
       "{'model': 'AdaBoostRegressor',\n",
       " 'optimized': False,\n",
       " 'mean_absolute_error': 109232.67,\n",
       " 'mean_squared_error': 166993.81,\n",
       " 'r2_score': 0.8}"
      ]
     },
     "execution_count": 23,
     "metadata": {},
     "output_type": "execute_result"
    }
   ],
   "source": [
    "ada_reg = AdaBoostRegressor(DecisionTreeRegressor(max_depth=20),\n",
    "                            n_estimators=100)\n",
    "\n",
    "ada_reg.fit(X_train_norm, y_train)\n",
    "\n",
    "pred = ada_reg.predict(X_test_norm)\n",
    "\n",
    "print(f'MAE, {mean_absolute_error(y_test, pred): .2f}')\n",
    "print(f'RMSE, {mean_squared_error(y_test, pred, squared=False): .2f}')\n",
    "print(f'R2 score, {ada_reg.score(X_test_norm, y_test): .2f}')\n",
    "\n",
    "score = {\n",
    "    'model': 'AdaBoostRegressor',\n",
    "    'optimized': False,\n",
    "    'mean_absolute_error': round(mean_absolute_error(y_test, pred), 2),\n",
    "    'mean_squared_error': round(mean_squared_error(y_test, pred, squared=False), 2),\n",
    "    'r2_score': round(ada_reg.score(X_test_norm, y_test), 2)\n",
    "}\n",
    "\n",
    "scores.append(score)\n",
    "score"
   ]
  },
  {
   "cell_type": "markdown",
   "id": "0c1646eb-9a51-4de4-bde2-5b92ee899b06",
   "metadata": {},
   "source": [
    "#### Optimized"
   ]
  },
  {
   "cell_type": "code",
   "execution_count": 24,
   "id": "ac67f9e4-43bc-4412-9c8d-d4c1190d05d6",
   "metadata": {},
   "outputs": [
    {
     "name": "stdout",
     "output_type": "stream",
     "text": [
      "Best parameters found:  {'estimator__max_depth': 10, 'estimator__min_samples_leaf': 1, 'estimator__min_samples_split': 2, 'learning_rate': 1.0, 'n_estimators': 100}\n",
      "MAE: 107830.01\n",
      "RMSE: 162427.38\n",
      "R2 score: 0.81\n"
     ]
    },
    {
     "data": {
      "text/plain": [
       "{'model': 'AdaBoostRegressorGS',\n",
       " 'optimized': True,\n",
       " 'mean_absolute_error': 107830.01,\n",
       " 'mean_squared_error': 162427.38,\n",
       " 'r2_score': 0.81}"
      ]
     },
     "execution_count": 24,
     "metadata": {},
     "output_type": "execute_result"
    }
   ],
   "source": [
    "# Define the parameter grid for GridSearchCV\n",
    "param_grid = {\n",
    "    'n_estimators': [50, 100, 200],\n",
    "    'learning_rate': [0.01, 0.1, 0.5, 1.0],\n",
    "    'estimator__max_depth': [10, 20, 30],\n",
    "    'estimator__min_samples_split': [2, 5, 10],\n",
    "    'estimator__min_samples_leaf': [1, 2, 4]\n",
    "}\n",
    "\n",
    "# Initialize the AdaBoostRegressor\n",
    "ada_reg = AdaBoostRegressor(estimator=DecisionTreeRegressor())\n",
    "\n",
    "# Initialize GridSearchCV with the AdaBoostRegressor\n",
    "grid_search = GridSearchCV(estimator=ada_reg, param_grid=param_grid, cv=5, scoring='neg_mean_squared_error', n_jobs=-1)\n",
    "\n",
    "# Fit GridSearchCV to the data\n",
    "grid_search.fit(X_train_norm, y_train)\n",
    "\n",
    "# Get the best estimator\n",
    "best_ada = grid_search.best_estimator_\n",
    "\n",
    "# Make predictions with the best estimator\n",
    "pred = best_ada.predict(X_test_norm)\n",
    "\n",
    "# Print the best parameters\n",
    "print(\"Best parameters found: \", grid_search.best_params_)\n",
    "\n",
    "# Evaluate the model\n",
    "print(f'MAE: {mean_absolute_error(y_test, pred):.2f}')\n",
    "print(f'RMSE: {mean_squared_error(y_test, pred, squared=False):.2f}')\n",
    "print(f'R2 score: {best_ada.score(X_test_norm, y_test):.2f}')\n",
    "\n",
    "score = {\n",
    "    'model': 'AdaBoostRegressorGS',\n",
    "    'optimized': True,\n",
    "    'mean_absolute_error': round(mean_absolute_error(y_test, pred), 2),\n",
    "    'mean_squared_error': round(mean_squared_error(y_test, pred, squared=False), 2),\n",
    "    'r2_score': round(best_ada.score(X_test_norm, y_test), 2)\n",
    "}\n",
    "\n",
    "scores.append(score)\n",
    "score"
   ]
  },
  {
   "cell_type": "markdown",
   "id": "5e9738ee-024b-4f07-a6db-f7eaa44bcd28",
   "metadata": {},
   "source": [
    "### Gradient Boosting"
   ]
  },
  {
   "cell_type": "markdown",
   "id": "c3fd9804-89f0-4fc6-981f-d7080e46397c",
   "metadata": {},
   "source": [
    "#### Standard"
   ]
  },
  {
   "cell_type": "code",
   "execution_count": 25,
   "id": "45084f64-ea35-4e48-91e6-e7100a09807e",
   "metadata": {},
   "outputs": [
    {
     "name": "stdout",
     "output_type": "stream",
     "text": [
      "MAE,  151722.62\n",
      "RMSE,  227125.14\n",
      "R2 score,  0.63\n"
     ]
    },
    {
     "data": {
      "text/plain": [
       "{'model': 'GradientBoostingRegressor',\n",
       " 'optimized': False,\n",
       " 'mean_absolute_error': 151722.62,\n",
       " 'mean_squared_error': 227125.14,\n",
       " 'r2_score': 0.63}"
      ]
     },
     "execution_count": 25,
     "metadata": {},
     "output_type": "execute_result"
    }
   ],
   "source": [
    "gb_reg = GradientBoostingRegressor(max_depth=20,\n",
    "                                   n_estimators=100)\n",
    "\n",
    "gb_reg.fit(X_train_norm, y_train)\n",
    "\n",
    "pred = gb_reg.predict(X_test_norm)\n",
    "\n",
    "print(f'MAE, {mean_absolute_error(y_test, pred): .2f}')\n",
    "print(f'RMSE, {mean_squared_error(y_test, pred, squared=False): .2f}')\n",
    "print(f'R2 score, {gb_reg.score(X_test_norm, y_test): .2f}')\n",
    "\n",
    "score = {\n",
    "    'model': 'GradientBoostingRegressor',\n",
    "    'optimized': False,\n",
    "    'mean_absolute_error': round(mean_absolute_error(y_test, pred), 2),\n",
    "    'mean_squared_error': round(mean_squared_error(y_test, pred, squared=False), 2),\n",
    "    'r2_score': round(gb_reg.score(X_test_norm, y_test), 2)\n",
    "}\n",
    "\n",
    "scores.append(score)\n",
    "score"
   ]
  },
  {
   "cell_type": "markdown",
   "id": "caf2abec-e37d-4ab0-9f45-f45329719dee",
   "metadata": {},
   "source": [
    "#### Optimized"
   ]
  },
  {
   "cell_type": "code",
   "execution_count": 26,
   "id": "d6b5d196-f011-49e5-a8fa-60dc6d35daeb",
   "metadata": {},
   "outputs": [
    {
     "name": "stdout",
     "output_type": "stream",
     "text": [
      "Best parameters found:  {'learning_rate': 0.1, 'max_depth': 20, 'min_samples_leaf': 4, 'min_samples_split': 10, 'n_estimators': 200, 'subsample': 0.7}\n",
      "MAE: 112497.09\n",
      "RMSE: 160486.18\n",
      "R2 score: 0.81\n"
     ]
    },
    {
     "data": {
      "text/plain": [
       "{'model': 'GradientBoostingRegressorGS',\n",
       " 'optimized': True,\n",
       " 'mean_absolute_error': 112497.09,\n",
       " 'mean_squared_error': 160486.18,\n",
       " 'r2_score': 0.81}"
      ]
     },
     "execution_count": 26,
     "metadata": {},
     "output_type": "execute_result"
    }
   ],
   "source": [
    "# Define the parameter grid for GridSearchCV\n",
    "param_grid = {\n",
    "    'n_estimators': [200, 250],\n",
    "    'learning_rate': [0.1, 0.2],\n",
    "    'max_depth': [10, 20],\n",
    "    'min_samples_split': [2, 5, 10],\n",
    "    'min_samples_leaf': [3, 4],\n",
    "    'subsample': [0.7, 0.8]\n",
    "}\n",
    "\n",
    "# Initialize the GradientBoostingRegressor\n",
    "gb_reg = GradientBoostingRegressor()\n",
    "\n",
    "# Initialize GridSearchCV with the GradientBoostingRegressor\n",
    "grid_search = GridSearchCV(estimator=gb_reg, param_grid=param_grid, cv=5, scoring='neg_mean_squared_error', n_jobs=-1)\n",
    "\n",
    "# Fit GridSearchCV to the data\n",
    "grid_search.fit(X_train_norm, y_train)\n",
    "\n",
    "# Get the best estimator\n",
    "best_gb = grid_search.best_estimator_\n",
    "\n",
    "# Make predictions with the best estimator\n",
    "pred = best_gb.predict(X_test_norm)\n",
    "\n",
    "# Print the best parameters\n",
    "print(\"Best parameters found: \", grid_search.best_params_)\n",
    "\n",
    "# Evaluate the model\n",
    "print(f'MAE: {mean_absolute_error(y_test, pred):.2f}')\n",
    "print(f'RMSE: {mean_squared_error(y_test, pred, squared=False):.2f}')\n",
    "print(f'R2 score: {best_gb.score(X_test_norm, y_test):.2f}')\n",
    "\n",
    "score = {\n",
    "    'model': 'GradientBoostingRegressorGS',\n",
    "    'optimized': True,\n",
    "    'mean_absolute_error': round(mean_absolute_error(y_test, pred), 2),\n",
    "    'mean_squared_error': round(mean_squared_error(y_test, pred, squared=False), 2),\n",
    "    'r2_score': round(best_gb.score(X_test_norm, y_test), 2)\n",
    "}\n",
    "\n",
    "scores.append(score)\n",
    "score"
   ]
  },
  {
   "cell_type": "code",
   "execution_count": 27,
   "id": "2bbfec8c-1e82-4623-ad73-574e8978fcb4",
   "metadata": {},
   "outputs": [
    {
     "data": {
      "text/html": [
       "<div>\n",
       "<style scoped>\n",
       "    .dataframe tbody tr th:only-of-type {\n",
       "        vertical-align: middle;\n",
       "    }\n",
       "\n",
       "    .dataframe tbody tr th {\n",
       "        vertical-align: top;\n",
       "    }\n",
       "\n",
       "    .dataframe thead th {\n",
       "        text-align: right;\n",
       "    }\n",
       "</style>\n",
       "<table border=\"1\" class=\"dataframe\">\n",
       "  <thead>\n",
       "    <tr style=\"text-align: right;\">\n",
       "      <th></th>\n",
       "      <th>model</th>\n",
       "      <th>optimized</th>\n",
       "      <th>mean_absolute_error</th>\n",
       "      <th>mean_squared_error</th>\n",
       "      <th>r2_score</th>\n",
       "    </tr>\n",
       "  </thead>\n",
       "  <tbody>\n",
       "    <tr>\n",
       "      <th>7</th>\n",
       "      <td>AdaBoostRegressorGS</td>\n",
       "      <td>True</td>\n",
       "      <td>107830.01</td>\n",
       "      <td>162427.38</td>\n",
       "      <td>0.81</td>\n",
       "    </tr>\n",
       "    <tr>\n",
       "      <th>9</th>\n",
       "      <td>GradientBoostingRegressorGS</td>\n",
       "      <td>True</td>\n",
       "      <td>112497.09</td>\n",
       "      <td>160486.18</td>\n",
       "      <td>0.81</td>\n",
       "    </tr>\n",
       "    <tr>\n",
       "      <th>2</th>\n",
       "      <td>BaggingRegressor</td>\n",
       "      <td>False</td>\n",
       "      <td>112461.42</td>\n",
       "      <td>164301.20</td>\n",
       "      <td>0.80</td>\n",
       "    </tr>\n",
       "    <tr>\n",
       "      <th>4</th>\n",
       "      <td>RandomForestRegressor</td>\n",
       "      <td>False</td>\n",
       "      <td>115080.04</td>\n",
       "      <td>166308.98</td>\n",
       "      <td>0.80</td>\n",
       "    </tr>\n",
       "    <tr>\n",
       "      <th>6</th>\n",
       "      <td>AdaBoostRegressor</td>\n",
       "      <td>False</td>\n",
       "      <td>109232.67</td>\n",
       "      <td>166993.81</td>\n",
       "      <td>0.80</td>\n",
       "    </tr>\n",
       "    <tr>\n",
       "      <th>3</th>\n",
       "      <td>BaggingRegressorGS</td>\n",
       "      <td>True</td>\n",
       "      <td>118402.60</td>\n",
       "      <td>168437.87</td>\n",
       "      <td>0.79</td>\n",
       "    </tr>\n",
       "    <tr>\n",
       "      <th>5</th>\n",
       "      <td>RandomForestRegressorGS</td>\n",
       "      <td>True</td>\n",
       "      <td>117778.66</td>\n",
       "      <td>169222.54</td>\n",
       "      <td>0.79</td>\n",
       "    </tr>\n",
       "    <tr>\n",
       "      <th>1</th>\n",
       "      <td>LinearRegression</td>\n",
       "      <td>False</td>\n",
       "      <td>156004.59</td>\n",
       "      <td>204939.43</td>\n",
       "      <td>0.70</td>\n",
       "    </tr>\n",
       "    <tr>\n",
       "      <th>8</th>\n",
       "      <td>GradientBoostingRegressor</td>\n",
       "      <td>False</td>\n",
       "      <td>151722.62</td>\n",
       "      <td>227125.14</td>\n",
       "      <td>0.63</td>\n",
       "    </tr>\n",
       "    <tr>\n",
       "      <th>0</th>\n",
       "      <td>KNeighborsRegressor</td>\n",
       "      <td>False</td>\n",
       "      <td>184238.79</td>\n",
       "      <td>266084.68</td>\n",
       "      <td>0.49</td>\n",
       "    </tr>\n",
       "  </tbody>\n",
       "</table>\n",
       "</div>"
      ],
      "text/plain": [
       "                         model  optimized  mean_absolute_error  \\\n",
       "7          AdaBoostRegressorGS       True            107830.01   \n",
       "9  GradientBoostingRegressorGS       True            112497.09   \n",
       "2             BaggingRegressor      False            112461.42   \n",
       "4        RandomForestRegressor      False            115080.04   \n",
       "6            AdaBoostRegressor      False            109232.67   \n",
       "3           BaggingRegressorGS       True            118402.60   \n",
       "5      RandomForestRegressorGS       True            117778.66   \n",
       "1             LinearRegression      False            156004.59   \n",
       "8    GradientBoostingRegressor      False            151722.62   \n",
       "0          KNeighborsRegressor      False            184238.79   \n",
       "\n",
       "   mean_squared_error  r2_score  \n",
       "7           162427.38      0.81  \n",
       "9           160486.18      0.81  \n",
       "2           164301.20      0.80  \n",
       "4           166308.98      0.80  \n",
       "6           166993.81      0.80  \n",
       "3           168437.87      0.79  \n",
       "5           169222.54      0.79  \n",
       "1           204939.43      0.70  \n",
       "8           227125.14      0.63  \n",
       "0           266084.68      0.49  "
      ]
     },
     "execution_count": 27,
     "metadata": {},
     "output_type": "execute_result"
    }
   ],
   "source": [
    "scores_df = pd.DataFrame(scores).sort_values('r2_score', ascending=False).round(2)\n",
    "scores_df"
   ]
  },
  {
   "cell_type": "code",
   "execution_count": 28,
   "id": "91c5580f-2f00-4f63-aa79-571db2626cc1",
   "metadata": {},
   "outputs": [
    {
     "data": {
      "image/png": "[encoded data removed]",
      "text/plain": [
       "<Figure size 640x480 with 1 Axes>"
      ]
     },
     "metadata": {},
     "output_type": "display_data"
    }
   ],
   "source": [
    "sns.barplot(scores_df, x='model', y='r2_score')\n",
    "plt.xticks(rotation=90)\n",
    "plt.show()"
   ]
  }
 ],
 "metadata": {
  "kernelspec": {
   "display_name": "Python 3 (ipykernel)",
   "language": "python",
   "name": "python3"
  },
  "language_info": {
   "codemirror_mode": {
    "name": "ipython",
    "version": 3
   },
   "file_extension": ".py",
   "mimetype": "text/x-python",
   "name": "python",
   "nbconvert_exporter": "python",
   "pygments_lexer": "ipython3",
   "version": "3.11.7"
  }
 },
 "nbformat": 4,
 "nbformat_minor": 5
}
