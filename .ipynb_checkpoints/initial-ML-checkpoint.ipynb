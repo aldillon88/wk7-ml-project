{
 "cells": [
  {
   "cell_type": "code",
   "execution_count": 429,
   "id": "1f85f82b-90b2-405b-9817-4de1a1c7b4fa",
   "metadata": {
    "tags": []
   },
   "outputs": [],
   "source": [
    "#import libraries\n",
    "import pandas as pd\n",
    "import numpy as np\n",
    "import seaborn as sns\n",
    "from sklearn.model_selection import train_test_split"
   ]
  },
  {
   "cell_type": "code",
   "execution_count": 430,
   "id": "e58e589b-2fe6-4e66-a134-d05d483d1975",
   "metadata": {
    "tags": []
   },
   "outputs": [],
   "source": [
    "imdb_df = pd.read_csv(\"cleaned_imdb.csv\")"
   ]
  },
  {
   "cell_type": "code",
   "execution_count": 431,
   "id": "3e384974-f94c-4f34-9457-4a978efaa58f",
   "metadata": {
    "tags": []
   },
   "outputs": [],
   "source": [
    "imdb_df.drop(columns=\"Unnamed: 0\",inplace =True)"
   ]
  },
  {
   "cell_type": "code",
   "execution_count": 432,
   "id": "3abb46c8-b443-46e4-aed3-d83cfab84c87",
   "metadata": {
    "tags": []
   },
   "outputs": [
    {
     "data": {
      "text/plain": [
       "(714, 16)"
      ]
     },
     "execution_count": 432,
     "metadata": {},
     "output_type": "execute_result"
    }
   ],
   "source": [
    "imdb_df.shape"
   ]
  },
  {
   "cell_type": "code",
   "execution_count": 433,
   "id": "11267c08-5a50-41f1-ad8b-92b3481661ca",
   "metadata": {
    "tags": []
   },
   "outputs": [
    {
     "name": "stdout",
     "output_type": "stream",
     "text": [
      "<class 'pandas.core.frame.DataFrame'>\n",
      "RangeIndex: 714 entries, 0 to 713\n",
      "Data columns (total 16 columns):\n",
      " #   Column         Non-Null Count  Dtype  \n",
      "---  ------         --------------  -----  \n",
      " 0   poster_link    714 non-null    object \n",
      " 1   series_title   714 non-null    object \n",
      " 2   released_year  714 non-null    object \n",
      " 3   certificate    714 non-null    object \n",
      " 4   runtime        714 non-null    int64  \n",
      " 5   genre          714 non-null    object \n",
      " 6   imdb_rating    714 non-null    float64\n",
      " 7   overview       714 non-null    object \n",
      " 8   meta_score     714 non-null    float64\n",
      " 9   director       714 non-null    object \n",
      " 10  star1          714 non-null    object \n",
      " 11  star2          714 non-null    object \n",
      " 12  star3          714 non-null    object \n",
      " 13  star4          714 non-null    object \n",
      " 14  no_of_votes    714 non-null    int64  \n",
      " 15  gross          714 non-null    float64\n",
      "dtypes: float64(3), int64(2), object(11)\n",
      "memory usage: 89.4+ KB\n"
     ]
    }
   ],
   "source": [
    "imdb_df.info()"
   ]
  },
  {
   "cell_type": "code",
   "execution_count": 434,
   "id": "1c01f534-c278-4820-8b89-dafe8fa76ae9",
   "metadata": {
    "tags": []
   },
   "outputs": [
    {
     "data": {
      "text/html": [
       "<div>\n",
       "<style scoped>\n",
       "    .dataframe tbody tr th:only-of-type {\n",
       "        vertical-align: middle;\n",
       "    }\n",
       "\n",
       "    .dataframe tbody tr th {\n",
       "        vertical-align: top;\n",
       "    }\n",
       "\n",
       "    .dataframe thead th {\n",
       "        text-align: right;\n",
       "    }\n",
       "</style>\n",
       "<table border=\"1\" class=\"dataframe\">\n",
       "  <thead>\n",
       "    <tr style=\"text-align: right;\">\n",
       "      <th></th>\n",
       "      <th>poster_link</th>\n",
       "      <th>series_title</th>\n",
       "      <th>released_year</th>\n",
       "      <th>certificate</th>\n",
       "      <th>runtime</th>\n",
       "      <th>genre</th>\n",
       "      <th>imdb_rating</th>\n",
       "      <th>overview</th>\n",
       "      <th>meta_score</th>\n",
       "      <th>director</th>\n",
       "      <th>star1</th>\n",
       "      <th>star2</th>\n",
       "      <th>star3</th>\n",
       "      <th>star4</th>\n",
       "      <th>no_of_votes</th>\n",
       "      <th>gross</th>\n",
       "    </tr>\n",
       "  </thead>\n",
       "  <tbody>\n",
       "    <tr>\n",
       "      <th>0</th>\n",
       "      <td>https://m.media-amazon.com/images/M/MV5BMDFkYT...</td>\n",
       "      <td>The Shawshank Redemption</td>\n",
       "      <td>1994</td>\n",
       "      <td>A</td>\n",
       "      <td>142</td>\n",
       "      <td>Drama</td>\n",
       "      <td>9.3</td>\n",
       "      <td>Two imprisoned men bond over a number of years...</td>\n",
       "      <td>80.0</td>\n",
       "      <td>Frank Darabont</td>\n",
       "      <td>Tim Robbins</td>\n",
       "      <td>Morgan Freeman</td>\n",
       "      <td>Bob Gunton</td>\n",
       "      <td>William Sadler</td>\n",
       "      <td>2343110</td>\n",
       "      <td>28341469.0</td>\n",
       "    </tr>\n",
       "    <tr>\n",
       "      <th>1</th>\n",
       "      <td>https://m.media-amazon.com/images/M/MV5BM2MyNj...</td>\n",
       "      <td>The Godfather</td>\n",
       "      <td>1972</td>\n",
       "      <td>A</td>\n",
       "      <td>175</td>\n",
       "      <td>Crime, Drama</td>\n",
       "      <td>9.2</td>\n",
       "      <td>An organized crime dynasty's aging patriarch t...</td>\n",
       "      <td>100.0</td>\n",
       "      <td>Francis Ford Coppola</td>\n",
       "      <td>Marlon Brando</td>\n",
       "      <td>Al Pacino</td>\n",
       "      <td>James Caan</td>\n",
       "      <td>Diane Keaton</td>\n",
       "      <td>1620367</td>\n",
       "      <td>134966411.0</td>\n",
       "    </tr>\n",
       "    <tr>\n",
       "      <th>2</th>\n",
       "      <td>https://m.media-amazon.com/images/M/MV5BMTMxNT...</td>\n",
       "      <td>The Dark Knight</td>\n",
       "      <td>2008</td>\n",
       "      <td>UA</td>\n",
       "      <td>152</td>\n",
       "      <td>Action, Crime, Drama</td>\n",
       "      <td>9.0</td>\n",
       "      <td>When the menace known as the Joker wreaks havo...</td>\n",
       "      <td>84.0</td>\n",
       "      <td>Christopher Nolan</td>\n",
       "      <td>Christian Bale</td>\n",
       "      <td>Heath Ledger</td>\n",
       "      <td>Aaron Eckhart</td>\n",
       "      <td>Michael Caine</td>\n",
       "      <td>2303232</td>\n",
       "      <td>534858444.0</td>\n",
       "    </tr>\n",
       "    <tr>\n",
       "      <th>3</th>\n",
       "      <td>https://m.media-amazon.com/images/M/MV5BMWMwMG...</td>\n",
       "      <td>The Godfather: Part II</td>\n",
       "      <td>1974</td>\n",
       "      <td>A</td>\n",
       "      <td>202</td>\n",
       "      <td>Crime, Drama</td>\n",
       "      <td>9.0</td>\n",
       "      <td>The early life and career of Vito Corleone in ...</td>\n",
       "      <td>90.0</td>\n",
       "      <td>Francis Ford Coppola</td>\n",
       "      <td>Al Pacino</td>\n",
       "      <td>Robert De Niro</td>\n",
       "      <td>Robert Duvall</td>\n",
       "      <td>Diane Keaton</td>\n",
       "      <td>1129952</td>\n",
       "      <td>57300000.0</td>\n",
       "    </tr>\n",
       "    <tr>\n",
       "      <th>4</th>\n",
       "      <td>https://m.media-amazon.com/images/M/MV5BMWU4N2...</td>\n",
       "      <td>12 Angry Men</td>\n",
       "      <td>1957</td>\n",
       "      <td>U</td>\n",
       "      <td>96</td>\n",
       "      <td>Crime, Drama</td>\n",
       "      <td>9.0</td>\n",
       "      <td>A jury holdout attempts to prevent a miscarria...</td>\n",
       "      <td>96.0</td>\n",
       "      <td>Sidney Lumet</td>\n",
       "      <td>Henry Fonda</td>\n",
       "      <td>Lee J. Cobb</td>\n",
       "      <td>Martin Balsam</td>\n",
       "      <td>John Fiedler</td>\n",
       "      <td>689845</td>\n",
       "      <td>4360000.0</td>\n",
       "    </tr>\n",
       "    <tr>\n",
       "      <th>...</th>\n",
       "      <td>...</td>\n",
       "      <td>...</td>\n",
       "      <td>...</td>\n",
       "      <td>...</td>\n",
       "      <td>...</td>\n",
       "      <td>...</td>\n",
       "      <td>...</td>\n",
       "      <td>...</td>\n",
       "      <td>...</td>\n",
       "      <td>...</td>\n",
       "      <td>...</td>\n",
       "      <td>...</td>\n",
       "      <td>...</td>\n",
       "      <td>...</td>\n",
       "      <td>...</td>\n",
       "      <td>...</td>\n",
       "    </tr>\n",
       "    <tr>\n",
       "      <th>709</th>\n",
       "      <td>https://m.media-amazon.com/images/M/MV5BYjRmY2...</td>\n",
       "      <td>Giù la testa</td>\n",
       "      <td>1971</td>\n",
       "      <td>PG</td>\n",
       "      <td>157</td>\n",
       "      <td>Drama, War, Western</td>\n",
       "      <td>7.6</td>\n",
       "      <td>A low-life bandit and an I.R.A. explosives exp...</td>\n",
       "      <td>77.0</td>\n",
       "      <td>Sergio Leone</td>\n",
       "      <td>Rod Steiger</td>\n",
       "      <td>James Coburn</td>\n",
       "      <td>Romolo Valli</td>\n",
       "      <td>Maria Monti</td>\n",
       "      <td>30144</td>\n",
       "      <td>696690.0</td>\n",
       "    </tr>\n",
       "    <tr>\n",
       "      <th>710</th>\n",
       "      <td>https://m.media-amazon.com/images/M/MV5BMzAyND...</td>\n",
       "      <td>Kelly's Heroes</td>\n",
       "      <td>1970</td>\n",
       "      <td>GP</td>\n",
       "      <td>144</td>\n",
       "      <td>Adventure, Comedy, War</td>\n",
       "      <td>7.6</td>\n",
       "      <td>A group of U.S. soldiers sneaks across enemy l...</td>\n",
       "      <td>50.0</td>\n",
       "      <td>Brian G. Hutton</td>\n",
       "      <td>Clint Eastwood</td>\n",
       "      <td>Telly Savalas</td>\n",
       "      <td>Don Rickles</td>\n",
       "      <td>Carroll O'Connor</td>\n",
       "      <td>45338</td>\n",
       "      <td>1378435.0</td>\n",
       "    </tr>\n",
       "    <tr>\n",
       "      <th>711</th>\n",
       "      <td>https://m.media-amazon.com/images/M/MV5BMjAwMT...</td>\n",
       "      <td>The Jungle Book</td>\n",
       "      <td>1967</td>\n",
       "      <td>U</td>\n",
       "      <td>78</td>\n",
       "      <td>Animation, Adventure, Family</td>\n",
       "      <td>7.6</td>\n",
       "      <td>Bagheera the Panther and Baloo the Bear have a...</td>\n",
       "      <td>65.0</td>\n",
       "      <td>Wolfgang Reitherman</td>\n",
       "      <td>Phil Harris</td>\n",
       "      <td>Sebastian Cabot</td>\n",
       "      <td>Louis Prima</td>\n",
       "      <td>Bruce Reitherman</td>\n",
       "      <td>166409</td>\n",
       "      <td>141843612.0</td>\n",
       "    </tr>\n",
       "    <tr>\n",
       "      <th>712</th>\n",
       "      <td>https://m.media-amazon.com/images/M/MV5BZjQyMG...</td>\n",
       "      <td>A Hard Day's Night</td>\n",
       "      <td>1964</td>\n",
       "      <td>U</td>\n",
       "      <td>87</td>\n",
       "      <td>Comedy, Music, Musical</td>\n",
       "      <td>7.6</td>\n",
       "      <td>Over two \"typical\" days in the life of The Bea...</td>\n",
       "      <td>96.0</td>\n",
       "      <td>Richard Lester</td>\n",
       "      <td>John Lennon</td>\n",
       "      <td>Paul McCartney</td>\n",
       "      <td>George Harrison</td>\n",
       "      <td>Ringo Starr</td>\n",
       "      <td>40351</td>\n",
       "      <td>13780024.0</td>\n",
       "    </tr>\n",
       "    <tr>\n",
       "      <th>713</th>\n",
       "      <td>https://m.media-amazon.com/images/M/MV5BM2U3Yz...</td>\n",
       "      <td>From Here to Eternity</td>\n",
       "      <td>1953</td>\n",
       "      <td>Passed</td>\n",
       "      <td>118</td>\n",
       "      <td>Drama, Romance, War</td>\n",
       "      <td>7.6</td>\n",
       "      <td>In Hawaii in 1941, a private is cruelly punish...</td>\n",
       "      <td>85.0</td>\n",
       "      <td>Fred Zinnemann</td>\n",
       "      <td>Burt Lancaster</td>\n",
       "      <td>Montgomery Clift</td>\n",
       "      <td>Deborah Kerr</td>\n",
       "      <td>Donna Reed</td>\n",
       "      <td>43374</td>\n",
       "      <td>30500000.0</td>\n",
       "    </tr>\n",
       "  </tbody>\n",
       "</table>\n",
       "<p>714 rows × 16 columns</p>\n",
       "</div>"
      ],
      "text/plain": [
       "                                           poster_link  \\\n",
       "0    https://m.media-amazon.com/images/M/MV5BMDFkYT...   \n",
       "1    https://m.media-amazon.com/images/M/MV5BM2MyNj...   \n",
       "2    https://m.media-amazon.com/images/M/MV5BMTMxNT...   \n",
       "3    https://m.media-amazon.com/images/M/MV5BMWMwMG...   \n",
       "4    https://m.media-amazon.com/images/M/MV5BMWU4N2...   \n",
       "..                                                 ...   \n",
       "709  https://m.media-amazon.com/images/M/MV5BYjRmY2...   \n",
       "710  https://m.media-amazon.com/images/M/MV5BMzAyND...   \n",
       "711  https://m.media-amazon.com/images/M/MV5BMjAwMT...   \n",
       "712  https://m.media-amazon.com/images/M/MV5BZjQyMG...   \n",
       "713  https://m.media-amazon.com/images/M/MV5BM2U3Yz...   \n",
       "\n",
       "                 series_title released_year certificate  runtime  \\\n",
       "0    The Shawshank Redemption          1994           A      142   \n",
       "1               The Godfather          1972           A      175   \n",
       "2             The Dark Knight          2008          UA      152   \n",
       "3      The Godfather: Part II          1974           A      202   \n",
       "4                12 Angry Men          1957           U       96   \n",
       "..                        ...           ...         ...      ...   \n",
       "709              Giù la testa          1971          PG      157   \n",
       "710            Kelly's Heroes          1970          GP      144   \n",
       "711           The Jungle Book          1967           U       78   \n",
       "712        A Hard Day's Night          1964           U       87   \n",
       "713     From Here to Eternity          1953      Passed      118   \n",
       "\n",
       "                            genre  imdb_rating  \\\n",
       "0                           Drama          9.3   \n",
       "1                    Crime, Drama          9.2   \n",
       "2            Action, Crime, Drama          9.0   \n",
       "3                    Crime, Drama          9.0   \n",
       "4                    Crime, Drama          9.0   \n",
       "..                            ...          ...   \n",
       "709           Drama, War, Western          7.6   \n",
       "710        Adventure, Comedy, War          7.6   \n",
       "711  Animation, Adventure, Family          7.6   \n",
       "712        Comedy, Music, Musical          7.6   \n",
       "713           Drama, Romance, War          7.6   \n",
       "\n",
       "                                              overview  meta_score  \\\n",
       "0    Two imprisoned men bond over a number of years...        80.0   \n",
       "1    An organized crime dynasty's aging patriarch t...       100.0   \n",
       "2    When the menace known as the Joker wreaks havo...        84.0   \n",
       "3    The early life and career of Vito Corleone in ...        90.0   \n",
       "4    A jury holdout attempts to prevent a miscarria...        96.0   \n",
       "..                                                 ...         ...   \n",
       "709  A low-life bandit and an I.R.A. explosives exp...        77.0   \n",
       "710  A group of U.S. soldiers sneaks across enemy l...        50.0   \n",
       "711  Bagheera the Panther and Baloo the Bear have a...        65.0   \n",
       "712  Over two \"typical\" days in the life of The Bea...        96.0   \n",
       "713  In Hawaii in 1941, a private is cruelly punish...        85.0   \n",
       "\n",
       "                 director           star1             star2            star3  \\\n",
       "0          Frank Darabont     Tim Robbins    Morgan Freeman       Bob Gunton   \n",
       "1    Francis Ford Coppola   Marlon Brando         Al Pacino       James Caan   \n",
       "2       Christopher Nolan  Christian Bale      Heath Ledger    Aaron Eckhart   \n",
       "3    Francis Ford Coppola       Al Pacino    Robert De Niro    Robert Duvall   \n",
       "4            Sidney Lumet     Henry Fonda       Lee J. Cobb    Martin Balsam   \n",
       "..                    ...             ...               ...              ...   \n",
       "709          Sergio Leone     Rod Steiger      James Coburn     Romolo Valli   \n",
       "710       Brian G. Hutton  Clint Eastwood     Telly Savalas      Don Rickles   \n",
       "711   Wolfgang Reitherman     Phil Harris   Sebastian Cabot      Louis Prima   \n",
       "712        Richard Lester     John Lennon    Paul McCartney  George Harrison   \n",
       "713        Fred Zinnemann  Burt Lancaster  Montgomery Clift     Deborah Kerr   \n",
       "\n",
       "                star4  no_of_votes        gross  \n",
       "0      William Sadler      2343110   28341469.0  \n",
       "1        Diane Keaton      1620367  134966411.0  \n",
       "2       Michael Caine      2303232  534858444.0  \n",
       "3        Diane Keaton      1129952   57300000.0  \n",
       "4        John Fiedler       689845    4360000.0  \n",
       "..                ...          ...          ...  \n",
       "709       Maria Monti        30144     696690.0  \n",
       "710  Carroll O'Connor        45338    1378435.0  \n",
       "711  Bruce Reitherman       166409  141843612.0  \n",
       "712       Ringo Starr        40351   13780024.0  \n",
       "713        Donna Reed        43374   30500000.0  \n",
       "\n",
       "[714 rows x 16 columns]"
      ]
     },
     "execution_count": 434,
     "metadata": {},
     "output_type": "execute_result"
    }
   ],
   "source": [
    "imdb_df"
   ]
  },
  {
   "cell_type": "markdown",
   "id": "14abb36f-106a-4675-a03b-3a9f640837cd",
   "metadata": {
    "tags": []
   },
   "source": [
    "##  Regression"
   ]
  },
  {
   "cell_type": "code",
   "execution_count": 436,
   "id": "cbec8b5e-1d2c-4292-bcd7-6cf44ef0e997",
   "metadata": {
    "tags": []
   },
   "outputs": [],
   "source": [
    "# Let's only select numerical columns as our features\n",
    "numerical_columns = [\"runtime\",\"imdb_rating\",\"meta_score\",\"no_of_votes\",\"gross\"]\n",
    "features = imdb_df[numerical_columns]"
   ]
  },
  {
   "cell_type": "code",
   "execution_count": 437,
   "id": "78a60aad-8e0f-4413-b1c6-9bed7e0730a7",
   "metadata": {
    "tags": []
   },
   "outputs": [],
   "source": [
    "#And also lets define our target.\n",
    "target_1 = imdb_df['imdb_rating']"
   ]
  },
  {
   "cell_type": "code",
   "execution_count": 438,
   "id": "afe02a41-d5e8-4462-a0f1-a1c04b1672bf",
   "metadata": {
    "tags": []
   },
   "outputs": [],
   "source": [
    "# Now we perform the division between Train and Test, we will reserve 20% of our data to Test.\n",
    "X_train, X_test, y_train, y_test = train_test_split(features, target_1, test_size=0.20, random_state=0)"
   ]
  },
  {
   "cell_type": "code",
   "execution_count": 439,
   "id": "d3a009c5-8d24-41c8-9a1d-1645ea896f28",
   "metadata": {},
   "outputs": [],
   "source": [
    "# we will use KNN Regressor, we will use hyperparameter n_neighbors =10 ."
   ]
  },
  {
   "cell_type": "code",
   "execution_count": 440,
   "id": "05f22be9-24bf-4983-bb0d-5efc511959a1",
   "metadata": {},
   "outputs": [],
   "source": [
    "from sklearn.neighbors import KNeighborsRegressor"
   ]
  },
  {
   "cell_type": "code",
   "execution_count": 441,
   "id": "10c2b0a1-84db-43c1-b60b-5cf6a4ced5a5",
   "metadata": {},
   "outputs": [],
   "source": [
    "knn = KNeighborsRegressor(n_neighbors=10) # K=10"
   ]
  },
  {
   "cell_type": "code",
   "execution_count": 442,
   "id": "7b68219c-369d-42c6-afdb-0086b3a3a1aa",
   "metadata": {},
   "outputs": [
    {
     "data": {
      "text/html": [
       "<style>#sk-container-id-14 {color: black;background-color: white;}#sk-container-id-14 pre{padding: 0;}#sk-container-id-14 div.sk-toggleable {background-color: white;}#sk-container-id-14 label.sk-toggleable__label {cursor: pointer;display: block;width: 100%;margin-bottom: 0;padding: 0.3em;box-sizing: border-box;text-align: center;}#sk-container-id-14 label.sk-toggleable__label-arrow:before {content: \"▸\";float: left;margin-right: 0.25em;color: #696969;}#sk-container-id-14 label.sk-toggleable__label-arrow:hover:before {color: black;}#sk-container-id-14 div.sk-estimator:hover label.sk-toggleable__label-arrow:before {color: black;}#sk-container-id-14 div.sk-toggleable__content {max-height: 0;max-width: 0;overflow: hidden;text-align: left;background-color: #f0f8ff;}#sk-container-id-14 div.sk-toggleable__content pre {margin: 0.2em;color: black;border-radius: 0.25em;background-color: #f0f8ff;}#sk-container-id-14 input.sk-toggleable__control:checked~div.sk-toggleable__content {max-height: 200px;max-width: 100%;overflow: auto;}#sk-container-id-14 input.sk-toggleable__control:checked~label.sk-toggleable__label-arrow:before {content: \"▾\";}#sk-container-id-14 div.sk-estimator input.sk-toggleable__control:checked~label.sk-toggleable__label {background-color: #d4ebff;}#sk-container-id-14 div.sk-label input.sk-toggleable__control:checked~label.sk-toggleable__label {background-color: #d4ebff;}#sk-container-id-14 input.sk-hidden--visually {border: 0;clip: rect(1px 1px 1px 1px);clip: rect(1px, 1px, 1px, 1px);height: 1px;margin: -1px;overflow: hidden;padding: 0;position: absolute;width: 1px;}#sk-container-id-14 div.sk-estimator {font-family: monospace;background-color: #f0f8ff;border: 1px dotted black;border-radius: 0.25em;box-sizing: border-box;margin-bottom: 0.5em;}#sk-container-id-14 div.sk-estimator:hover {background-color: #d4ebff;}#sk-container-id-14 div.sk-parallel-item::after {content: \"\";width: 100%;border-bottom: 1px solid gray;flex-grow: 1;}#sk-container-id-14 div.sk-label:hover label.sk-toggleable__label {background-color: #d4ebff;}#sk-container-id-14 div.sk-serial::before {content: \"\";position: absolute;border-left: 1px solid gray;box-sizing: border-box;top: 0;bottom: 0;left: 50%;z-index: 0;}#sk-container-id-14 div.sk-serial {display: flex;flex-direction: column;align-items: center;background-color: white;padding-right: 0.2em;padding-left: 0.2em;position: relative;}#sk-container-id-14 div.sk-item {position: relative;z-index: 1;}#sk-container-id-14 div.sk-parallel {display: flex;align-items: stretch;justify-content: center;background-color: white;position: relative;}#sk-container-id-14 div.sk-item::before, #sk-container-id-14 div.sk-parallel-item::before {content: \"\";position: absolute;border-left: 1px solid gray;box-sizing: border-box;top: 0;bottom: 0;left: 50%;z-index: -1;}#sk-container-id-14 div.sk-parallel-item {display: flex;flex-direction: column;z-index: 1;position: relative;background-color: white;}#sk-container-id-14 div.sk-parallel-item:first-child::after {align-self: flex-end;width: 50%;}#sk-container-id-14 div.sk-parallel-item:last-child::after {align-self: flex-start;width: 50%;}#sk-container-id-14 div.sk-parallel-item:only-child::after {width: 0;}#sk-container-id-14 div.sk-dashed-wrapped {border: 1px dashed gray;margin: 0 0.4em 0.5em 0.4em;box-sizing: border-box;padding-bottom: 0.4em;background-color: white;}#sk-container-id-14 div.sk-label label {font-family: monospace;font-weight: bold;display: inline-block;line-height: 1.2em;}#sk-container-id-14 div.sk-label-container {text-align: center;}#sk-container-id-14 div.sk-container {/* jupyter's `normalize.less` sets `[hidden] { display: none; }` but bootstrap.min.css set `[hidden] { display: none !important; }` so we also need the `!important` here to be able to override the default hidden behavior on the sphinx rendered scikit-learn.org. See: https://github.com/scikit-learn/scikit-learn/issues/21755 */display: inline-block !important;position: relative;}#sk-container-id-14 div.sk-text-repr-fallback {display: none;}</style><div id=\"sk-container-id-14\" class=\"sk-top-container\"><div class=\"sk-text-repr-fallback\"><pre>KNeighborsRegressor(n_neighbors=10)</pre><b>In a Jupyter environment, please rerun this cell to show the HTML representation or trust the notebook. <br />On GitHub, the HTML representation is unable to render, please try loading this page with nbviewer.org.</b></div><div class=\"sk-container\" hidden><div class=\"sk-item\"><div class=\"sk-estimator sk-toggleable\"><input class=\"sk-toggleable__control sk-hidden--visually\" id=\"sk-estimator-id-14\" type=\"checkbox\" checked><label for=\"sk-estimator-id-14\" class=\"sk-toggleable__label sk-toggleable__label-arrow\">KNeighborsRegressor</label><div class=\"sk-toggleable__content\"><pre>KNeighborsRegressor(n_neighbors=10)</pre></div></div></div></div></div>"
      ],
      "text/plain": [
       "KNeighborsRegressor(n_neighbors=10)"
      ]
     },
     "execution_count": 442,
     "metadata": {},
     "output_type": "execute_result"
    }
   ],
   "source": [
    "knn.fit(X_train, y_train)"
   ]
  },
  {
   "cell_type": "code",
   "execution_count": 443,
   "id": "9f5f9df5-39ff-42fa-ac0c-91bba06ae459",
   "metadata": {},
   "outputs": [
    {
     "name": "stdout",
     "output_type": "stream",
     "text": [
      "The R2 of the model is  0.01\n"
     ]
    }
   ],
   "source": [
    "#We are going to evaluate our model performance with R-Squared\n",
    "print(f\"The R2 of the model is {knn.score(X_test, y_test): .2f}\")"
   ]
  },
  {
   "cell_type": "code",
   "execution_count": 509,
   "id": "73e98b23-5a77-4367-98d2-4f8dea0310d6",
   "metadata": {},
   "outputs": [
    {
     "name": "stdout",
     "output_type": "stream",
     "text": [
      "The R2 of the model is -0.08\n"
     ]
    }
   ],
   "source": [
    "#And also lets define our target.\n",
    "target_2 = imdb_df['runtime']\n",
    "# Now we perform the division between Train and Test, we will reserve 20% of our data to Test.\n",
    "X_train, X_test, y_train, y_test = train_test_split(features, target_2, test_size=0.20, random_state=0)\n",
    "knn = KNeighborsRegressor(n_neighbors=10) # K=10\n",
    "knn.fit(X_train, y_train)\n",
    "#We are going to evaluate our model performance with R-Squared\n",
    "print(f\"The R2 of the model is {knn.score(X_test, y_test): .2f}\")"
   ]
  },
  {
   "cell_type": "code",
   "execution_count": 510,
   "id": "752eadb6-368c-4e41-8448-4e5ab5bd7aa7",
   "metadata": {},
   "outputs": [
    {
     "name": "stdout",
     "output_type": "stream",
     "text": [
      "The R2 of the model is -0.18\n"
     ]
    }
   ],
   "source": [
    "#And also lets define our target.\n",
    "target_3 = imdb_df['meta_score']\n",
    "# Now we perform the division between Train and Test, we will reserve 20% of our data to Test.\n",
    "X_train, X_test, y_train, y_test = train_test_split(features, target_3, test_size=0.20, random_state=0)\n",
    "knn = KNeighborsRegressor(n_neighbors=10) # K=10\n",
    "knn.fit(X_train, y_train)\n",
    "#We are going to evaluate our model performance with R-Squared\n",
    "print(f\"The R2 of the model is {knn.score(X_test, y_test): .2f}\")"
   ]
  },
  {
   "cell_type": "code",
   "execution_count": 511,
   "id": "e3d83dd1-9f04-446d-92f0-512d35e41c10",
   "metadata": {},
   "outputs": [
    {
     "name": "stdout",
     "output_type": "stream",
     "text": [
      "The R2 of the model is  0.42\n"
     ]
    }
   ],
   "source": [
    "#And also lets define our target.\n",
    "target_4 = imdb_df['no_of_votes']\n",
    "# Now we perform the division between Train and Test, we will reserve 20% of our data to Test.\n",
    "X_train, X_test, y_train, y_test = train_test_split(features, target_4, test_size=0.20, random_state=0)\n",
    "knn = KNeighborsRegressor(n_neighbors=10) # K=10\n",
    "knn.fit(X_train, y_train)\n",
    "#We are going to evaluate our model performance with R-Squared\n",
    "print(f\"The R2 of the model is {knn.score(X_test, y_test): .2f}\")"
   ]
  },
  {
   "cell_type": "code",
   "execution_count": 512,
   "id": "b04c87b6-528b-4145-8019-7cb4b63962c5",
   "metadata": {},
   "outputs": [
    {
     "name": "stdout",
     "output_type": "stream",
     "text": [
      "The R2 of the model is  0.99\n"
     ]
    }
   ],
   "source": [
    "#And also lets define our target.\n",
    "target_5 = imdb_df['gross']\n",
    "# Now we perform the division between Train and Test, we will reserve 20% of our data to Test.\n",
    "X_train, X_test, y_train, y_test = train_test_split(features, target_5, test_size=0.20, random_state=0)\n",
    "knn = KNeighborsRegressor(n_neighbors=10) # K=10\n",
    "knn.fit(X_train, y_train)\n",
    "#We are going to evaluate our model performance with R-Squared\n",
    "print(f\"The R2 of the model is {knn.score(X_test, y_test): .2f}\")"
   ]
  },
  {
   "cell_type": "code",
   "execution_count": null,
   "id": "a2fdbe41-8dc9-45b8-9d74-f69dc4df201c",
   "metadata": {},
   "outputs": [],
   "source": []
  },
  {
   "cell_type": "code",
   "execution_count": null,
   "id": "b74c8c31-25fd-4896-b008-817a25fe6bb9",
   "metadata": {},
   "outputs": [],
   "source": []
  },
  {
   "cell_type": "code",
   "execution_count": null,
   "id": "d8a0ecc0-7524-463e-9b1f-f76675ae2143",
   "metadata": {},
   "outputs": [],
   "source": []
  },
  {
   "cell_type": "code",
   "execution_count": null,
   "id": "18cba47c-138b-4298-b62e-8cd6c13a22e3",
   "metadata": {},
   "outputs": [],
   "source": []
  },
  {
   "cell_type": "code",
   "execution_count": null,
   "id": "5f0a0d3e-efa2-4c12-9528-6df4bc0643c7",
   "metadata": {},
   "outputs": [],
   "source": []
  },
  {
   "cell_type": "code",
   "execution_count": null,
   "id": "d9a5bcc1-f204-421e-8b5b-f465c7fd4a92",
   "metadata": {},
   "outputs": [],
   "source": []
  },
  {
   "cell_type": "code",
   "execution_count": null,
   "id": "4193d20f-e470-4f8a-8436-4e31f98420b9",
   "metadata": {},
   "outputs": [],
   "source": []
  },
  {
   "cell_type": "code",
   "execution_count": null,
   "id": "7ce4cc50-7f60-40ee-a72c-8eaeddfc7356",
   "metadata": {},
   "outputs": [],
   "source": []
  },
  {
   "cell_type": "code",
   "execution_count": null,
   "id": "428b570f-55b4-4259-b57b-4621dfe8659c",
   "metadata": {},
   "outputs": [],
   "source": []
  },
  {
   "cell_type": "code",
   "execution_count": null,
   "id": "d2e7c47b-0909-4ab2-b40b-818e9122abff",
   "metadata": {},
   "outputs": [],
   "source": []
  },
  {
   "cell_type": "code",
   "execution_count": null,
   "id": "47570231-fda9-4de6-897b-5e5771e3acba",
   "metadata": {},
   "outputs": [],
   "source": []
  },
  {
   "cell_type": "code",
   "execution_count": null,
   "id": "5b8971fd-7ca8-405c-9045-1c47aeb8aab3",
   "metadata": {},
   "outputs": [],
   "source": []
  },
  {
   "cell_type": "code",
   "execution_count": null,
   "id": "d3d8855d-3c38-48ed-b8de-d75c8ad1cce1",
   "metadata": {},
   "outputs": [],
   "source": []
  },
  {
   "cell_type": "code",
   "execution_count": null,
   "id": "e0d82ae6-5681-4b77-828b-544e0800cb46",
   "metadata": {},
   "outputs": [],
   "source": []
  },
  {
   "cell_type": "code",
   "execution_count": null,
   "id": "4371ce13-fb3c-40e2-aaee-3835f1c75656",
   "metadata": {},
   "outputs": [],
   "source": []
  },
  {
   "cell_type": "code",
   "execution_count": null,
   "id": "de0af85d-ccb4-4e46-88e7-bfa721f08855",
   "metadata": {},
   "outputs": [],
   "source": []
  },
  {
   "cell_type": "code",
   "execution_count": null,
   "id": "de3d8e28-d88a-4837-9930-99b154b5ec07",
   "metadata": {},
   "outputs": [],
   "source": []
  }
 ],
 "metadata": {
  "kernelspec": {
   "display_name": "Python 3 (ipykernel)",
   "language": "python",
   "name": "python3"
  },
  "language_info": {
   "codemirror_mode": {
    "name": "ipython",
    "version": 3
   },
   "file_extension": ".py",
   "mimetype": "text/x-python",
   "name": "python",
   "nbconvert_exporter": "python",
   "pygments_lexer": "ipython3",
   "version": "3.11.7"
  }
 },
 "nbformat": 4,
 "nbformat_minor": 5
}
