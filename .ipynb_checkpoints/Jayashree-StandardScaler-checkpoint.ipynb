{
 "cells": [
  {
   "cell_type": "code",
   "execution_count": 61,
   "id": "542535a4-36b9-4837-a6af-038018624aef",
   "metadata": {
    "tags": []
   },
   "outputs": [],
   "source": [
    "#import libraries\n",
    "import pandas as pd\n",
    "import numpy as np\n",
    "import seaborn as sns\n",
    "from sklearn.model_selection import train_test_split\n",
    "from sklearn.linear_model import LinearRegression\n",
    "from sklearn.tree import DecisionTreeRegressor\n",
    "from sklearn.ensemble import BaggingRegressor, RandomForestRegressor,AdaBoostRegressor, GradientBoostingRegressor\n",
    "from sklearn.preprocessing import OneHotEncoder\n",
    "from sklearn.preprocessing import MinMaxScaler, StandardScaler\n",
    "from sklearn.neighbors import KNeighborsRegressor\n",
    "from sklearn.metrics import r2_score, mean_absolute_error, mean_squared_error"
   ]
  },
  {
   "cell_type": "code",
   "execution_count": 2,
   "id": "b952e89f-4cf4-4714-ab9a-19ab9493165c",
   "metadata": {
    "tags": []
   },
   "outputs": [
    {
     "data": {
      "text/html": [
       "<div>\n",
       "<style scoped>\n",
       "    .dataframe tbody tr th:only-of-type {\n",
       "        vertical-align: middle;\n",
       "    }\n",
       "\n",
       "    .dataframe tbody tr th {\n",
       "        vertical-align: top;\n",
       "    }\n",
       "\n",
       "    .dataframe thead th {\n",
       "        text-align: right;\n",
       "    }\n",
       "</style>\n",
       "<table border=\"1\" class=\"dataframe\">\n",
       "  <thead>\n",
       "    <tr style=\"text-align: right;\">\n",
       "      <th></th>\n",
       "      <th>certificate</th>\n",
       "      <th>runtime</th>\n",
       "      <th>genre</th>\n",
       "      <th>imdb_rating</th>\n",
       "      <th>meta_score</th>\n",
       "      <th>no_of_votes</th>\n",
       "      <th>gross</th>\n",
       "      <th>director_category</th>\n",
       "      <th>star1_category</th>\n",
       "      <th>star2_category</th>\n",
       "      <th>star3_category</th>\n",
       "      <th>star4_category</th>\n",
       "      <th>decade</th>\n",
       "    </tr>\n",
       "  </thead>\n",
       "  <tbody>\n",
       "    <tr>\n",
       "      <th>0</th>\n",
       "      <td>all public</td>\n",
       "      <td>142</td>\n",
       "      <td>Drama</td>\n",
       "      <td>9.3</td>\n",
       "      <td>80.0</td>\n",
       "      <td>2343110</td>\n",
       "      <td>28341469.0</td>\n",
       "      <td>average</td>\n",
       "      <td>low</td>\n",
       "      <td>low</td>\n",
       "      <td>low</td>\n",
       "      <td>low</td>\n",
       "      <td>1990's</td>\n",
       "    </tr>\n",
       "    <tr>\n",
       "      <th>1</th>\n",
       "      <td>all public</td>\n",
       "      <td>175</td>\n",
       "      <td>Thriller/Crime/Mystery</td>\n",
       "      <td>9.2</td>\n",
       "      <td>100.0</td>\n",
       "      <td>1620367</td>\n",
       "      <td>134966411.0</td>\n",
       "      <td>high</td>\n",
       "      <td>average</td>\n",
       "      <td>average</td>\n",
       "      <td>low</td>\n",
       "      <td>average</td>\n",
       "      <td>1970's</td>\n",
       "    </tr>\n",
       "    <tr>\n",
       "      <th>2</th>\n",
       "      <td>family</td>\n",
       "      <td>152</td>\n",
       "      <td>Action/Adventure</td>\n",
       "      <td>9.0</td>\n",
       "      <td>84.0</td>\n",
       "      <td>2303232</td>\n",
       "      <td>534858444.0</td>\n",
       "      <td>high</td>\n",
       "      <td>high</td>\n",
       "      <td>average</td>\n",
       "      <td>low</td>\n",
       "      <td>high</td>\n",
       "      <td>2000's</td>\n",
       "    </tr>\n",
       "    <tr>\n",
       "      <th>3</th>\n",
       "      <td>all public</td>\n",
       "      <td>202</td>\n",
       "      <td>Thriller/Crime/Mystery</td>\n",
       "      <td>9.0</td>\n",
       "      <td>90.0</td>\n",
       "      <td>1129952</td>\n",
       "      <td>57300000.0</td>\n",
       "      <td>high</td>\n",
       "      <td>high</td>\n",
       "      <td>average</td>\n",
       "      <td>average</td>\n",
       "      <td>average</td>\n",
       "      <td>1970's</td>\n",
       "    </tr>\n",
       "    <tr>\n",
       "      <th>4</th>\n",
       "      <td>all public</td>\n",
       "      <td>96</td>\n",
       "      <td>Thriller/Crime/Mystery</td>\n",
       "      <td>9.0</td>\n",
       "      <td>96.0</td>\n",
       "      <td>689845</td>\n",
       "      <td>4360000.0</td>\n",
       "      <td>high</td>\n",
       "      <td>average</td>\n",
       "      <td>low</td>\n",
       "      <td>low</td>\n",
       "      <td>low</td>\n",
       "      <td>1950's</td>\n",
       "    </tr>\n",
       "  </tbody>\n",
       "</table>\n",
       "</div>"
      ],
      "text/plain": [
       "  certificate  runtime                   genre  imdb_rating  meta_score  \\\n",
       "0  all public      142                   Drama          9.3        80.0   \n",
       "1  all public      175  Thriller/Crime/Mystery          9.2       100.0   \n",
       "2      family      152        Action/Adventure          9.0        84.0   \n",
       "3  all public      202  Thriller/Crime/Mystery          9.0        90.0   \n",
       "4  all public       96  Thriller/Crime/Mystery          9.0        96.0   \n",
       "\n",
       "   no_of_votes        gross director_category star1_category star2_category  \\\n",
       "0      2343110   28341469.0           average            low            low   \n",
       "1      1620367  134966411.0              high        average        average   \n",
       "2      2303232  534858444.0              high           high        average   \n",
       "3      1129952   57300000.0              high           high        average   \n",
       "4       689845    4360000.0              high        average            low   \n",
       "\n",
       "  star3_category star4_category  decade  \n",
       "0            low            low  1990's  \n",
       "1            low        average  1970's  \n",
       "2            low           high  2000's  \n",
       "3        average        average  1970's  \n",
       "4            low            low  1950's  "
      ]
     },
     "execution_count": 2,
     "metadata": {},
     "output_type": "execute_result"
    }
   ],
   "source": [
    "imdb_df = pd.read_csv('cleaned_dataset.csv')\n",
    "imdb_df.head()"
   ]
  },
  {
   "cell_type": "code",
   "execution_count": 3,
   "id": "7f1da196-46b9-4a7a-af5d-c25eb309cc95",
   "metadata": {
    "tags": []
   },
   "outputs": [],
   "source": [
    "# Define our target and features.\n",
    "target = imdb_df['imdb_rating']\n",
    "features = imdb_df.drop('imdb_rating', axis=1)\n",
    "\n",
    "# Split dataset into categorical and numerical\n",
    "categorical_features = features.select_dtypes(['object', 'bool'])\n",
    "numerical_features = features.drop(categorical_features, axis=1)"
   ]
  },
  {
   "cell_type": "code",
   "execution_count": 4,
   "id": "11399169-e68e-46ec-af1b-46f22e1498d9",
   "metadata": {
    "tags": []
   },
   "outputs": [],
   "source": [
    "# Now we perform the division between Train and Test, we will reserve 20% of our data to Test.\n",
    "X_train, X_test, y_train, y_test = train_test_split(features, target, test_size=0.20, random_state=0)"
   ]
  },
  {
   "cell_type": "code",
   "execution_count": 5,
   "id": "875775b4-9ba1-4e58-a3bc-724305132571",
   "metadata": {
    "tags": []
   },
   "outputs": [
    {
     "data": {
      "text/html": [
       "<div>\n",
       "<style scoped>\n",
       "    .dataframe tbody tr th:only-of-type {\n",
       "        vertical-align: middle;\n",
       "    }\n",
       "\n",
       "    .dataframe tbody tr th {\n",
       "        vertical-align: top;\n",
       "    }\n",
       "\n",
       "    .dataframe thead th {\n",
       "        text-align: right;\n",
       "    }\n",
       "</style>\n",
       "<table border=\"1\" class=\"dataframe\">\n",
       "  <thead>\n",
       "    <tr style=\"text-align: right;\">\n",
       "      <th></th>\n",
       "      <th>certificate_all public</th>\n",
       "      <th>certificate_family</th>\n",
       "      <th>certificate_over 18</th>\n",
       "      <th>genre_Action/Adventure</th>\n",
       "      <th>genre_Comedy</th>\n",
       "      <th>genre_Drama</th>\n",
       "      <th>genre_Other</th>\n",
       "      <th>genre_Thriller/Crime/Mystery</th>\n",
       "      <th>director_category_average</th>\n",
       "      <th>director_category_high</th>\n",
       "      <th>...</th>\n",
       "      <th>decade_1960's</th>\n",
       "      <th>decade_1970's</th>\n",
       "      <th>decade_1980's</th>\n",
       "      <th>decade_1990's</th>\n",
       "      <th>decade_2000's</th>\n",
       "      <th>decade_2010's</th>\n",
       "      <th>runtime</th>\n",
       "      <th>meta_score</th>\n",
       "      <th>no_of_votes</th>\n",
       "      <th>gross</th>\n",
       "    </tr>\n",
       "  </thead>\n",
       "  <tbody>\n",
       "    <tr>\n",
       "      <th>692</th>\n",
       "      <td>1.0</td>\n",
       "      <td>0.0</td>\n",
       "      <td>0.0</td>\n",
       "      <td>0.0</td>\n",
       "      <td>1.0</td>\n",
       "      <td>0.0</td>\n",
       "      <td>0.0</td>\n",
       "      <td>0.0</td>\n",
       "      <td>1.0</td>\n",
       "      <td>0.0</td>\n",
       "      <td>...</td>\n",
       "      <td>0.0</td>\n",
       "      <td>0.0</td>\n",
       "      <td>0.0</td>\n",
       "      <td>1.0</td>\n",
       "      <td>0.0</td>\n",
       "      <td>0.0</td>\n",
       "      <td>103</td>\n",
       "      <td>63.0</td>\n",
       "      <td>488817</td>\n",
       "      <td>285761243.0</td>\n",
       "    </tr>\n",
       "    <tr>\n",
       "      <th>266</th>\n",
       "      <td>0.0</td>\n",
       "      <td>1.0</td>\n",
       "      <td>0.0</td>\n",
       "      <td>0.0</td>\n",
       "      <td>0.0</td>\n",
       "      <td>1.0</td>\n",
       "      <td>0.0</td>\n",
       "      <td>0.0</td>\n",
       "      <td>1.0</td>\n",
       "      <td>0.0</td>\n",
       "      <td>...</td>\n",
       "      <td>0.0</td>\n",
       "      <td>0.0</td>\n",
       "      <td>0.0</td>\n",
       "      <td>1.0</td>\n",
       "      <td>0.0</td>\n",
       "      <td>0.0</td>\n",
       "      <td>189</td>\n",
       "      <td>72.0</td>\n",
       "      <td>142110</td>\n",
       "      <td>70405498.0</td>\n",
       "    </tr>\n",
       "    <tr>\n",
       "      <th>17</th>\n",
       "      <td>1.0</td>\n",
       "      <td>0.0</td>\n",
       "      <td>0.0</td>\n",
       "      <td>0.0</td>\n",
       "      <td>0.0</td>\n",
       "      <td>1.0</td>\n",
       "      <td>0.0</td>\n",
       "      <td>0.0</td>\n",
       "      <td>1.0</td>\n",
       "      <td>0.0</td>\n",
       "      <td>...</td>\n",
       "      <td>0.0</td>\n",
       "      <td>1.0</td>\n",
       "      <td>0.0</td>\n",
       "      <td>0.0</td>\n",
       "      <td>0.0</td>\n",
       "      <td>0.0</td>\n",
       "      <td>133</td>\n",
       "      <td>83.0</td>\n",
       "      <td>918088</td>\n",
       "      <td>112000000.0</td>\n",
       "    </tr>\n",
       "    <tr>\n",
       "      <th>477</th>\n",
       "      <td>1.0</td>\n",
       "      <td>0.0</td>\n",
       "      <td>0.0</td>\n",
       "      <td>0.0</td>\n",
       "      <td>0.0</td>\n",
       "      <td>0.0</td>\n",
       "      <td>1.0</td>\n",
       "      <td>0.0</td>\n",
       "      <td>0.0</td>\n",
       "      <td>0.0</td>\n",
       "      <td>...</td>\n",
       "      <td>0.0</td>\n",
       "      <td>1.0</td>\n",
       "      <td>0.0</td>\n",
       "      <td>0.0</td>\n",
       "      <td>0.0</td>\n",
       "      <td>0.0</td>\n",
       "      <td>72</td>\n",
       "      <td>73.0</td>\n",
       "      <td>25229</td>\n",
       "      <td>193817.0</td>\n",
       "    </tr>\n",
       "    <tr>\n",
       "      <th>302</th>\n",
       "      <td>0.0</td>\n",
       "      <td>1.0</td>\n",
       "      <td>0.0</td>\n",
       "      <td>0.0</td>\n",
       "      <td>1.0</td>\n",
       "      <td>0.0</td>\n",
       "      <td>0.0</td>\n",
       "      <td>0.0</td>\n",
       "      <td>0.0</td>\n",
       "      <td>0.0</td>\n",
       "      <td>...</td>\n",
       "      <td>0.0</td>\n",
       "      <td>0.0</td>\n",
       "      <td>0.0</td>\n",
       "      <td>0.0</td>\n",
       "      <td>0.0</td>\n",
       "      <td>1.0</td>\n",
       "      <td>130</td>\n",
       "      <td>82.0</td>\n",
       "      <td>454203</td>\n",
       "      <td>165359751.0</td>\n",
       "    </tr>\n",
       "  </tbody>\n",
       "</table>\n",
       "<p>5 rows × 36 columns</p>\n",
       "</div>"
      ],
      "text/plain": [
       "     certificate_all public  certificate_family  certificate_over 18  \\\n",
       "692                     1.0                 0.0                  0.0   \n",
       "266                     0.0                 1.0                  0.0   \n",
       "17                      1.0                 0.0                  0.0   \n",
       "477                     1.0                 0.0                  0.0   \n",
       "302                     0.0                 1.0                  0.0   \n",
       "\n",
       "     genre_Action/Adventure  genre_Comedy  genre_Drama  genre_Other  \\\n",
       "692                     0.0           1.0          0.0          0.0   \n",
       "266                     0.0           0.0          1.0          0.0   \n",
       "17                      0.0           0.0          1.0          0.0   \n",
       "477                     0.0           0.0          0.0          1.0   \n",
       "302                     0.0           1.0          0.0          0.0   \n",
       "\n",
       "     genre_Thriller/Crime/Mystery  director_category_average  \\\n",
       "692                           0.0                        1.0   \n",
       "266                           0.0                        1.0   \n",
       "17                            0.0                        1.0   \n",
       "477                           0.0                        0.0   \n",
       "302                           0.0                        0.0   \n",
       "\n",
       "     director_category_high  ...  decade_1960's  decade_1970's  decade_1980's  \\\n",
       "692                     0.0  ...            0.0            0.0            0.0   \n",
       "266                     0.0  ...            0.0            0.0            0.0   \n",
       "17                      0.0  ...            0.0            1.0            0.0   \n",
       "477                     0.0  ...            0.0            1.0            0.0   \n",
       "302                     0.0  ...            0.0            0.0            0.0   \n",
       "\n",
       "     decade_1990's  decade_2000's  decade_2010's  runtime  meta_score  \\\n",
       "692            1.0            0.0            0.0      103        63.0   \n",
       "266            1.0            0.0            0.0      189        72.0   \n",
       "17             0.0            0.0            0.0      133        83.0   \n",
       "477            0.0            0.0            0.0       72        73.0   \n",
       "302            0.0            0.0            1.0      130        82.0   \n",
       "\n",
       "     no_of_votes        gross  \n",
       "692       488817  285761243.0  \n",
       "266       142110   70405498.0  \n",
       "17        918088  112000000.0  \n",
       "477        25229     193817.0  \n",
       "302       454203  165359751.0  \n",
       "\n",
       "[5 rows x 36 columns]"
      ]
     },
     "execution_count": 5,
     "metadata": {},
     "output_type": "execute_result"
    }
   ],
   "source": [
    "# Initiate OneHotEncoder\n",
    "ohe = OneHotEncoder(sparse_output=False)\n",
    "\n",
    "# Split training set into categorical and numerical\n",
    "X_train_cat = X_train.select_dtypes(['object', 'bool'])\n",
    "X_train_num = X_train.drop(X_train_cat, axis=1)\n",
    "\n",
    "# Fit OneHotEncoder with the categorical data and transform it into numerical values\n",
    "ohe.fit(X_train_cat)\n",
    "X_train_trans_np = ohe.transform(X_train_cat)\n",
    "\n",
    "# Create a dataframe using the transformed values and the original index\n",
    "X_train_trans_df = pd.DataFrame(X_train_trans_np, columns=ohe.get_feature_names_out(), index=X_train.index)\n",
    "\n",
    "# Concatenate the newly transformed train dataframe with the train numerical dataframe\n",
    "X_train = pd.concat([X_train_trans_df, X_train_num], axis=1)\n",
    "X_train.head()"
   ]
  },
  {
   "cell_type": "code",
   "execution_count": 6,
   "id": "882d27f7-882f-49c2-b45d-95522e9125f8",
   "metadata": {
    "tags": []
   },
   "outputs": [
    {
     "data": {
      "text/html": [
       "<div>\n",
       "<style scoped>\n",
       "    .dataframe tbody tr th:only-of-type {\n",
       "        vertical-align: middle;\n",
       "    }\n",
       "\n",
       "    .dataframe tbody tr th {\n",
       "        vertical-align: top;\n",
       "    }\n",
       "\n",
       "    .dataframe thead th {\n",
       "        text-align: right;\n",
       "    }\n",
       "</style>\n",
       "<table border=\"1\" class=\"dataframe\">\n",
       "  <thead>\n",
       "    <tr style=\"text-align: right;\">\n",
       "      <th></th>\n",
       "      <th>certificate_all public</th>\n",
       "      <th>certificate_family</th>\n",
       "      <th>certificate_over 18</th>\n",
       "      <th>genre_Action/Adventure</th>\n",
       "      <th>genre_Comedy</th>\n",
       "      <th>genre_Drama</th>\n",
       "      <th>genre_Other</th>\n",
       "      <th>genre_Thriller/Crime/Mystery</th>\n",
       "      <th>director_category_average</th>\n",
       "      <th>director_category_high</th>\n",
       "      <th>...</th>\n",
       "      <th>decade_1960's</th>\n",
       "      <th>decade_1970's</th>\n",
       "      <th>decade_1980's</th>\n",
       "      <th>decade_1990's</th>\n",
       "      <th>decade_2000's</th>\n",
       "      <th>decade_2010's</th>\n",
       "      <th>runtime</th>\n",
       "      <th>meta_score</th>\n",
       "      <th>no_of_votes</th>\n",
       "      <th>gross</th>\n",
       "    </tr>\n",
       "  </thead>\n",
       "  <tbody>\n",
       "    <tr>\n",
       "      <th>338</th>\n",
       "      <td>1.0</td>\n",
       "      <td>0.0</td>\n",
       "      <td>0.0</td>\n",
       "      <td>1.0</td>\n",
       "      <td>0.0</td>\n",
       "      <td>0.0</td>\n",
       "      <td>0.0</td>\n",
       "      <td>0.0</td>\n",
       "      <td>0.0</td>\n",
       "      <td>1.0</td>\n",
       "      <td>...</td>\n",
       "      <td>0.0</td>\n",
       "      <td>0.0</td>\n",
       "      <td>0.0</td>\n",
       "      <td>0.0</td>\n",
       "      <td>1.0</td>\n",
       "      <td>0.0</td>\n",
       "      <td>142</td>\n",
       "      <td>82.0</td>\n",
       "      <td>552493</td>\n",
       "      <td>249358727.0</td>\n",
       "    </tr>\n",
       "    <tr>\n",
       "      <th>142</th>\n",
       "      <td>1.0</td>\n",
       "      <td>0.0</td>\n",
       "      <td>0.0</td>\n",
       "      <td>0.0</td>\n",
       "      <td>0.0</td>\n",
       "      <td>0.0</td>\n",
       "      <td>1.0</td>\n",
       "      <td>0.0</td>\n",
       "      <td>1.0</td>\n",
       "      <td>0.0</td>\n",
       "      <td>...</td>\n",
       "      <td>0.0</td>\n",
       "      <td>0.0</td>\n",
       "      <td>0.0</td>\n",
       "      <td>0.0</td>\n",
       "      <td>0.0</td>\n",
       "      <td>1.0</td>\n",
       "      <td>95</td>\n",
       "      <td>94.0</td>\n",
       "      <td>616228</td>\n",
       "      <td>356461711.0</td>\n",
       "    </tr>\n",
       "    <tr>\n",
       "      <th>242</th>\n",
       "      <td>1.0</td>\n",
       "      <td>0.0</td>\n",
       "      <td>0.0</td>\n",
       "      <td>0.0</td>\n",
       "      <td>0.0</td>\n",
       "      <td>1.0</td>\n",
       "      <td>0.0</td>\n",
       "      <td>0.0</td>\n",
       "      <td>1.0</td>\n",
       "      <td>0.0</td>\n",
       "      <td>...</td>\n",
       "      <td>0.0</td>\n",
       "      <td>0.0</td>\n",
       "      <td>0.0</td>\n",
       "      <td>0.0</td>\n",
       "      <td>0.0</td>\n",
       "      <td>1.0</td>\n",
       "      <td>126</td>\n",
       "      <td>74.0</td>\n",
       "      <td>77554</td>\n",
       "      <td>2086345.0</td>\n",
       "    </tr>\n",
       "    <tr>\n",
       "      <th>235</th>\n",
       "      <td>1.0</td>\n",
       "      <td>0.0</td>\n",
       "      <td>0.0</td>\n",
       "      <td>0.0</td>\n",
       "      <td>0.0</td>\n",
       "      <td>0.0</td>\n",
       "      <td>0.0</td>\n",
       "      <td>1.0</td>\n",
       "      <td>1.0</td>\n",
       "      <td>0.0</td>\n",
       "      <td>...</td>\n",
       "      <td>0.0</td>\n",
       "      <td>0.0</td>\n",
       "      <td>0.0</td>\n",
       "      <td>0.0</td>\n",
       "      <td>1.0</td>\n",
       "      <td>0.0</td>\n",
       "      <td>88</td>\n",
       "      <td>72.0</td>\n",
       "      <td>50610</td>\n",
       "      <td>238507.0</td>\n",
       "    </tr>\n",
       "    <tr>\n",
       "      <th>468</th>\n",
       "      <td>0.0</td>\n",
       "      <td>1.0</td>\n",
       "      <td>0.0</td>\n",
       "      <td>0.0</td>\n",
       "      <td>1.0</td>\n",
       "      <td>0.0</td>\n",
       "      <td>0.0</td>\n",
       "      <td>0.0</td>\n",
       "      <td>1.0</td>\n",
       "      <td>0.0</td>\n",
       "      <td>...</td>\n",
       "      <td>0.0</td>\n",
       "      <td>0.0</td>\n",
       "      <td>1.0</td>\n",
       "      <td>0.0</td>\n",
       "      <td>0.0</td>\n",
       "      <td>0.0</td>\n",
       "      <td>97</td>\n",
       "      <td>66.0</td>\n",
       "      <td>357026</td>\n",
       "      <td>45875171.0</td>\n",
       "    </tr>\n",
       "  </tbody>\n",
       "</table>\n",
       "<p>5 rows × 36 columns</p>\n",
       "</div>"
      ],
      "text/plain": [
       "     certificate_all public  certificate_family  certificate_over 18  \\\n",
       "338                     1.0                 0.0                  0.0   \n",
       "142                     1.0                 0.0                  0.0   \n",
       "242                     1.0                 0.0                  0.0   \n",
       "235                     1.0                 0.0                  0.0   \n",
       "468                     0.0                 1.0                  0.0   \n",
       "\n",
       "     genre_Action/Adventure  genre_Comedy  genre_Drama  genre_Other  \\\n",
       "338                     1.0           0.0          0.0          0.0   \n",
       "142                     0.0           0.0          0.0          1.0   \n",
       "242                     0.0           0.0          1.0          0.0   \n",
       "235                     0.0           0.0          0.0          0.0   \n",
       "468                     0.0           1.0          0.0          0.0   \n",
       "\n",
       "     genre_Thriller/Crime/Mystery  director_category_average  \\\n",
       "338                           0.0                        0.0   \n",
       "142                           0.0                        1.0   \n",
       "242                           0.0                        1.0   \n",
       "235                           1.0                        1.0   \n",
       "468                           0.0                        1.0   \n",
       "\n",
       "     director_category_high  ...  decade_1960's  decade_1970's  decade_1980's  \\\n",
       "338                     1.0  ...            0.0            0.0            0.0   \n",
       "142                     0.0  ...            0.0            0.0            0.0   \n",
       "242                     0.0  ...            0.0            0.0            0.0   \n",
       "235                     0.0  ...            0.0            0.0            0.0   \n",
       "468                     0.0  ...            0.0            0.0            1.0   \n",
       "\n",
       "     decade_1990's  decade_2000's  decade_2010's  runtime  meta_score  \\\n",
       "338            0.0            1.0            0.0      142        82.0   \n",
       "142            0.0            0.0            1.0       95        94.0   \n",
       "242            0.0            0.0            1.0      126        74.0   \n",
       "235            0.0            1.0            0.0       88        72.0   \n",
       "468            0.0            0.0            0.0       97        66.0   \n",
       "\n",
       "     no_of_votes        gross  \n",
       "338       552493  249358727.0  \n",
       "142       616228  356461711.0  \n",
       "242        77554    2086345.0  \n",
       "235        50610     238507.0  \n",
       "468       357026   45875171.0  \n",
       "\n",
       "[5 rows x 36 columns]"
      ]
     },
     "execution_count": 6,
     "metadata": {},
     "output_type": "execute_result"
    }
   ],
   "source": [
    "# Split test set into categorical and numerical\n",
    "X_test_cat = X_test.select_dtypes(['object', 'bool'])\n",
    "X_test_num = X_test.drop(X_test_cat, axis=1)\n",
    "\n",
    "# Transform the categorical data into numerical values\n",
    "X_test_trans_np = ohe.transform(X_test_cat)\n",
    "\n",
    "# Create a dataframe using the transformed values and the original index\n",
    "X_test_trans_df = pd.DataFrame(X_test_trans_np, columns=ohe.get_feature_names_out(), index=X_test.index)\n",
    "\n",
    "# Concatenate the newly transformed test dataframe with the test numerical dataframe\n",
    "X_test = pd.concat([X_test_trans_df, X_test_num], axis=1)\n",
    "X_test.head()"
   ]
  },
  {
   "cell_type": "code",
   "execution_count": 7,
   "id": "54a9e2ed-369d-41b6-a18a-17df27795c3f",
   "metadata": {
    "tags": []
   },
   "outputs": [
    {
     "data": {
      "text/html": [
       "<div>\n",
       "<style scoped>\n",
       "    .dataframe tbody tr th:only-of-type {\n",
       "        vertical-align: middle;\n",
       "    }\n",
       "\n",
       "    .dataframe tbody tr th {\n",
       "        vertical-align: top;\n",
       "    }\n",
       "\n",
       "    .dataframe thead th {\n",
       "        text-align: right;\n",
       "    }\n",
       "</style>\n",
       "<table border=\"1\" class=\"dataframe\">\n",
       "  <thead>\n",
       "    <tr style=\"text-align: right;\">\n",
       "      <th></th>\n",
       "      <th>certificate_all public</th>\n",
       "      <th>certificate_family</th>\n",
       "      <th>certificate_over 18</th>\n",
       "      <th>genre_Action/Adventure</th>\n",
       "      <th>genre_Comedy</th>\n",
       "      <th>genre_Drama</th>\n",
       "      <th>genre_Other</th>\n",
       "      <th>genre_Thriller/Crime/Mystery</th>\n",
       "      <th>director_category_average</th>\n",
       "      <th>director_category_high</th>\n",
       "      <th>...</th>\n",
       "      <th>decade_1960's</th>\n",
       "      <th>decade_1970's</th>\n",
       "      <th>decade_1980's</th>\n",
       "      <th>decade_1990's</th>\n",
       "      <th>decade_2000's</th>\n",
       "      <th>decade_2010's</th>\n",
       "      <th>runtime</th>\n",
       "      <th>meta_score</th>\n",
       "      <th>no_of_votes</th>\n",
       "      <th>gross</th>\n",
       "    </tr>\n",
       "  </thead>\n",
       "  <tbody>\n",
       "    <tr>\n",
       "      <th>338</th>\n",
       "      <td>0.932123</td>\n",
       "      <td>-0.624695</td>\n",
       "      <td>-0.475191</td>\n",
       "      <td>1.704145</td>\n",
       "      <td>-0.418638</td>\n",
       "      <td>-0.772424</td>\n",
       "      <td>-0.320179</td>\n",
       "      <td>-0.383251</td>\n",
       "      <td>-0.723923</td>\n",
       "      <td>1.53393</td>\n",
       "      <td>...</td>\n",
       "      <td>-0.235702</td>\n",
       "      <td>-0.274721</td>\n",
       "      <td>-0.352506</td>\n",
       "      <td>-0.46685</td>\n",
       "      <td>1.614805</td>\n",
       "      <td>-0.581402</td>\n",
       "      <td>0.686116</td>\n",
       "      <td>0.367770</td>\n",
       "      <td>0.534170</td>\n",
       "      <td>1.552590</td>\n",
       "    </tr>\n",
       "    <tr>\n",
       "      <th>142</th>\n",
       "      <td>0.932123</td>\n",
       "      <td>-0.624695</td>\n",
       "      <td>-0.475191</td>\n",
       "      <td>-0.586805</td>\n",
       "      <td>-0.418638</td>\n",
       "      <td>-0.772424</td>\n",
       "      <td>3.123254</td>\n",
       "      <td>-0.383251</td>\n",
       "      <td>1.381363</td>\n",
       "      <td>-0.65192</td>\n",
       "      <td>...</td>\n",
       "      <td>-0.235702</td>\n",
       "      <td>-0.274721</td>\n",
       "      <td>-0.352506</td>\n",
       "      <td>-0.46685</td>\n",
       "      <td>-0.619270</td>\n",
       "      <td>1.719981</td>\n",
       "      <td>-1.098451</td>\n",
       "      <td>1.316674</td>\n",
       "      <td>0.716934</td>\n",
       "      <td>2.518059</td>\n",
       "    </tr>\n",
       "    <tr>\n",
       "      <th>242</th>\n",
       "      <td>0.932123</td>\n",
       "      <td>-0.624695</td>\n",
       "      <td>-0.475191</td>\n",
       "      <td>-0.586805</td>\n",
       "      <td>-0.418638</td>\n",
       "      <td>1.294626</td>\n",
       "      <td>-0.320179</td>\n",
       "      <td>-0.383251</td>\n",
       "      <td>1.381363</td>\n",
       "      <td>-0.65192</td>\n",
       "      <td>...</td>\n",
       "      <td>-0.235702</td>\n",
       "      <td>-0.274721</td>\n",
       "      <td>-0.352506</td>\n",
       "      <td>-0.46685</td>\n",
       "      <td>-0.619270</td>\n",
       "      <td>1.719981</td>\n",
       "      <td>0.078604</td>\n",
       "      <td>-0.264833</td>\n",
       "      <td>-0.827743</td>\n",
       "      <td>-0.676423</td>\n",
       "    </tr>\n",
       "    <tr>\n",
       "      <th>235</th>\n",
       "      <td>0.932123</td>\n",
       "      <td>-0.624695</td>\n",
       "      <td>-0.475191</td>\n",
       "      <td>-0.586805</td>\n",
       "      <td>-0.418638</td>\n",
       "      <td>-0.772424</td>\n",
       "      <td>-0.320179</td>\n",
       "      <td>2.609256</td>\n",
       "      <td>1.381363</td>\n",
       "      <td>-0.65192</td>\n",
       "      <td>...</td>\n",
       "      <td>-0.235702</td>\n",
       "      <td>-0.274721</td>\n",
       "      <td>-0.352506</td>\n",
       "      <td>-0.46685</td>\n",
       "      <td>1.614805</td>\n",
       "      <td>-0.581402</td>\n",
       "      <td>-1.364238</td>\n",
       "      <td>-0.422984</td>\n",
       "      <td>-0.905007</td>\n",
       "      <td>-0.693080</td>\n",
       "    </tr>\n",
       "    <tr>\n",
       "      <th>468</th>\n",
       "      <td>-1.072820</td>\n",
       "      <td>1.600781</td>\n",
       "      <td>-0.475191</td>\n",
       "      <td>-0.586805</td>\n",
       "      <td>2.388699</td>\n",
       "      <td>-0.772424</td>\n",
       "      <td>-0.320179</td>\n",
       "      <td>-0.383251</td>\n",
       "      <td>1.381363</td>\n",
       "      <td>-0.65192</td>\n",
       "      <td>...</td>\n",
       "      <td>-0.235702</td>\n",
       "      <td>-0.274721</td>\n",
       "      <td>2.836833</td>\n",
       "      <td>-0.46685</td>\n",
       "      <td>-0.619270</td>\n",
       "      <td>-0.581402</td>\n",
       "      <td>-1.022512</td>\n",
       "      <td>-0.897436</td>\n",
       "      <td>-0.026342</td>\n",
       "      <td>-0.281693</td>\n",
       "    </tr>\n",
       "  </tbody>\n",
       "</table>\n",
       "<p>5 rows × 36 columns</p>\n",
       "</div>"
      ],
      "text/plain": [
       "     certificate_all public  certificate_family  certificate_over 18  \\\n",
       "338                0.932123           -0.624695            -0.475191   \n",
       "142                0.932123           -0.624695            -0.475191   \n",
       "242                0.932123           -0.624695            -0.475191   \n",
       "235                0.932123           -0.624695            -0.475191   \n",
       "468               -1.072820            1.600781            -0.475191   \n",
       "\n",
       "     genre_Action/Adventure  genre_Comedy  genre_Drama  genre_Other  \\\n",
       "338                1.704145     -0.418638    -0.772424    -0.320179   \n",
       "142               -0.586805     -0.418638    -0.772424     3.123254   \n",
       "242               -0.586805     -0.418638     1.294626    -0.320179   \n",
       "235               -0.586805     -0.418638    -0.772424    -0.320179   \n",
       "468               -0.586805      2.388699    -0.772424    -0.320179   \n",
       "\n",
       "     genre_Thriller/Crime/Mystery  director_category_average  \\\n",
       "338                     -0.383251                  -0.723923   \n",
       "142                     -0.383251                   1.381363   \n",
       "242                     -0.383251                   1.381363   \n",
       "235                      2.609256                   1.381363   \n",
       "468                     -0.383251                   1.381363   \n",
       "\n",
       "     director_category_high  ...  decade_1960's  decade_1970's  decade_1980's  \\\n",
       "338                 1.53393  ...      -0.235702      -0.274721      -0.352506   \n",
       "142                -0.65192  ...      -0.235702      -0.274721      -0.352506   \n",
       "242                -0.65192  ...      -0.235702      -0.274721      -0.352506   \n",
       "235                -0.65192  ...      -0.235702      -0.274721      -0.352506   \n",
       "468                -0.65192  ...      -0.235702      -0.274721       2.836833   \n",
       "\n",
       "     decade_1990's  decade_2000's  decade_2010's   runtime  meta_score  \\\n",
       "338       -0.46685       1.614805      -0.581402  0.686116    0.367770   \n",
       "142       -0.46685      -0.619270       1.719981 -1.098451    1.316674   \n",
       "242       -0.46685      -0.619270       1.719981  0.078604   -0.264833   \n",
       "235       -0.46685       1.614805      -0.581402 -1.364238   -0.422984   \n",
       "468       -0.46685      -0.619270      -0.581402 -1.022512   -0.897436   \n",
       "\n",
       "     no_of_votes     gross  \n",
       "338     0.534170  1.552590  \n",
       "142     0.716934  2.518059  \n",
       "242    -0.827743 -0.676423  \n",
       "235    -0.905007 -0.693080  \n",
       "468    -0.026342 -0.281693  \n",
       "\n",
       "[5 rows x 36 columns]"
      ]
     },
     "execution_count": 7,
     "metadata": {},
     "output_type": "execute_result"
    }
   ],
   "source": [
    "normalizer = StandardScaler()\n",
    "normalizer.fit(X_train)\n",
    "\n",
    "X_train_norm = normalizer.transform(X_train)\n",
    "X_test_norm = normalizer.transform(X_test)\n",
    "\n",
    "X_train_norm = pd.DataFrame(X_train_norm, columns = X_train.columns, index = X_train.index)\n",
    "X_train_norm.head()\n",
    "\n",
    "X_test_norm = pd.DataFrame(X_test_norm, columns = X_test.columns, index = X_test.index)\n",
    "X_test_norm.head()"
   ]
  },
  {
   "cell_type": "markdown",
   "id": "21e19456-3ffb-4192-aebe-4827bf853bc9",
   "metadata": {},
   "source": [
    "## KNN Regression"
   ]
  },
  {
   "cell_type": "code",
   "execution_count": 65,
   "id": "d1256a0e-7702-491b-9813-ec5772000126",
   "metadata": {
    "tags": []
   },
   "outputs": [],
   "source": [
    "knn = KNeighborsRegressor(n_neighbors=13) # K=10"
   ]
  },
  {
   "cell_type": "code",
   "execution_count": 67,
   "id": "237d642d-80ac-4b81-b158-6596c30f1cad",
   "metadata": {
    "tags": []
   },
   "outputs": [
    {
     "data": {
      "text/html": [
       "<style>#sk-container-id-7 {color: black;background-color: white;}#sk-container-id-7 pre{padding: 0;}#sk-container-id-7 div.sk-toggleable {background-color: white;}#sk-container-id-7 label.sk-toggleable__label {cursor: pointer;display: block;width: 100%;margin-bottom: 0;padding: 0.3em;box-sizing: border-box;text-align: center;}#sk-container-id-7 label.sk-toggleable__label-arrow:before {content: \"▸\";float: left;margin-right: 0.25em;color: #696969;}#sk-container-id-7 label.sk-toggleable__label-arrow:hover:before {color: black;}#sk-container-id-7 div.sk-estimator:hover label.sk-toggleable__label-arrow:before {color: black;}#sk-container-id-7 div.sk-toggleable__content {max-height: 0;max-width: 0;overflow: hidden;text-align: left;background-color: #f0f8ff;}#sk-container-id-7 div.sk-toggleable__content pre {margin: 0.2em;color: black;border-radius: 0.25em;background-color: #f0f8ff;}#sk-container-id-7 input.sk-toggleable__control:checked~div.sk-toggleable__content {max-height: 200px;max-width: 100%;overflow: auto;}#sk-container-id-7 input.sk-toggleable__control:checked~label.sk-toggleable__label-arrow:before {content: \"▾\";}#sk-container-id-7 div.sk-estimator input.sk-toggleable__control:checked~label.sk-toggleable__label {background-color: #d4ebff;}#sk-container-id-7 div.sk-label input.sk-toggleable__control:checked~label.sk-toggleable__label {background-color: #d4ebff;}#sk-container-id-7 input.sk-hidden--visually {border: 0;clip: rect(1px 1px 1px 1px);clip: rect(1px, 1px, 1px, 1px);height: 1px;margin: -1px;overflow: hidden;padding: 0;position: absolute;width: 1px;}#sk-container-id-7 div.sk-estimator {font-family: monospace;background-color: #f0f8ff;border: 1px dotted black;border-radius: 0.25em;box-sizing: border-box;margin-bottom: 0.5em;}#sk-container-id-7 div.sk-estimator:hover {background-color: #d4ebff;}#sk-container-id-7 div.sk-parallel-item::after {content: \"\";width: 100%;border-bottom: 1px solid gray;flex-grow: 1;}#sk-container-id-7 div.sk-label:hover label.sk-toggleable__label {background-color: #d4ebff;}#sk-container-id-7 div.sk-serial::before {content: \"\";position: absolute;border-left: 1px solid gray;box-sizing: border-box;top: 0;bottom: 0;left: 50%;z-index: 0;}#sk-container-id-7 div.sk-serial {display: flex;flex-direction: column;align-items: center;background-color: white;padding-right: 0.2em;padding-left: 0.2em;position: relative;}#sk-container-id-7 div.sk-item {position: relative;z-index: 1;}#sk-container-id-7 div.sk-parallel {display: flex;align-items: stretch;justify-content: center;background-color: white;position: relative;}#sk-container-id-7 div.sk-item::before, #sk-container-id-7 div.sk-parallel-item::before {content: \"\";position: absolute;border-left: 1px solid gray;box-sizing: border-box;top: 0;bottom: 0;left: 50%;z-index: -1;}#sk-container-id-7 div.sk-parallel-item {display: flex;flex-direction: column;z-index: 1;position: relative;background-color: white;}#sk-container-id-7 div.sk-parallel-item:first-child::after {align-self: flex-end;width: 50%;}#sk-container-id-7 div.sk-parallel-item:last-child::after {align-self: flex-start;width: 50%;}#sk-container-id-7 div.sk-parallel-item:only-child::after {width: 0;}#sk-container-id-7 div.sk-dashed-wrapped {border: 1px dashed gray;margin: 0 0.4em 0.5em 0.4em;box-sizing: border-box;padding-bottom: 0.4em;background-color: white;}#sk-container-id-7 div.sk-label label {font-family: monospace;font-weight: bold;display: inline-block;line-height: 1.2em;}#sk-container-id-7 div.sk-label-container {text-align: center;}#sk-container-id-7 div.sk-container {/* jupyter's `normalize.less` sets `[hidden] { display: none; }` but bootstrap.min.css set `[hidden] { display: none !important; }` so we also need the `!important` here to be able to override the default hidden behavior on the sphinx rendered scikit-learn.org. See: https://github.com/scikit-learn/scikit-learn/issues/21755 */display: inline-block !important;position: relative;}#sk-container-id-7 div.sk-text-repr-fallback {display: none;}</style><div id=\"sk-container-id-7\" class=\"sk-top-container\"><div class=\"sk-text-repr-fallback\"><pre>KNeighborsRegressor(n_neighbors=13)</pre><b>In a Jupyter environment, please rerun this cell to show the HTML representation or trust the notebook. <br />On GitHub, the HTML representation is unable to render, please try loading this page with nbviewer.org.</b></div><div class=\"sk-container\" hidden><div class=\"sk-item\"><div class=\"sk-estimator sk-toggleable\"><input class=\"sk-toggleable__control sk-hidden--visually\" id=\"sk-estimator-id-11\" type=\"checkbox\" checked><label for=\"sk-estimator-id-11\" class=\"sk-toggleable__label sk-toggleable__label-arrow\">KNeighborsRegressor</label><div class=\"sk-toggleable__content\"><pre>KNeighborsRegressor(n_neighbors=13)</pre></div></div></div></div></div>"
      ],
      "text/plain": [
       "KNeighborsRegressor(n_neighbors=13)"
      ]
     },
     "execution_count": 67,
     "metadata": {},
     "output_type": "execute_result"
    }
   ],
   "source": [
    "knn.fit(X_train_norm, y_train)"
   ]
  },
  {
   "cell_type": "code",
   "execution_count": 70,
   "id": "1adaf9bd-c3e9-40ab-90a4-2057d2d7f7b8",
   "metadata": {
    "tags": []
   },
   "outputs": [
    {
     "name": "stdout",
     "output_type": "stream",
     "text": [
      "The R2 of the model is  0.21\n"
     ]
    }
   ],
   "source": [
    "#We are going to evaluate our model performance with R-Squared\n",
    "print(f\"The R2 of the model is {knn.score(X_test_norm, y_test): .2f}\")"
   ]
  },
  {
   "cell_type": "markdown",
   "id": "70c9266b-9af2-4c90-87f0-ab0eed5f2234",
   "metadata": {},
   "source": [
    "## Linear Regression"
   ]
  },
  {
   "cell_type": "code",
   "execution_count": 9,
   "id": "73dc02f4-e35d-45e0-a9ec-3fe03bcde1d5",
   "metadata": {},
   "outputs": [],
   "source": [
    "lin_reg = LinearRegression()"
   ]
  },
  {
   "cell_type": "code",
   "execution_count": 10,
   "id": "17ea6f7f-d0b4-4d8e-907f-ce95820c58f8",
   "metadata": {},
   "outputs": [
    {
     "data": {
      "text/html": [
       "<style>#sk-container-id-1 {color: black;background-color: white;}#sk-container-id-1 pre{padding: 0;}#sk-container-id-1 div.sk-toggleable {background-color: white;}#sk-container-id-1 label.sk-toggleable__label {cursor: pointer;display: block;width: 100%;margin-bottom: 0;padding: 0.3em;box-sizing: border-box;text-align: center;}#sk-container-id-1 label.sk-toggleable__label-arrow:before {content: \"▸\";float: left;margin-right: 0.25em;color: #696969;}#sk-container-id-1 label.sk-toggleable__label-arrow:hover:before {color: black;}#sk-container-id-1 div.sk-estimator:hover label.sk-toggleable__label-arrow:before {color: black;}#sk-container-id-1 div.sk-toggleable__content {max-height: 0;max-width: 0;overflow: hidden;text-align: left;background-color: #f0f8ff;}#sk-container-id-1 div.sk-toggleable__content pre {margin: 0.2em;color: black;border-radius: 0.25em;background-color: #f0f8ff;}#sk-container-id-1 input.sk-toggleable__control:checked~div.sk-toggleable__content {max-height: 200px;max-width: 100%;overflow: auto;}#sk-container-id-1 input.sk-toggleable__control:checked~label.sk-toggleable__label-arrow:before {content: \"▾\";}#sk-container-id-1 div.sk-estimator input.sk-toggleable__control:checked~label.sk-toggleable__label {background-color: #d4ebff;}#sk-container-id-1 div.sk-label input.sk-toggleable__control:checked~label.sk-toggleable__label {background-color: #d4ebff;}#sk-container-id-1 input.sk-hidden--visually {border: 0;clip: rect(1px 1px 1px 1px);clip: rect(1px, 1px, 1px, 1px);height: 1px;margin: -1px;overflow: hidden;padding: 0;position: absolute;width: 1px;}#sk-container-id-1 div.sk-estimator {font-family: monospace;background-color: #f0f8ff;border: 1px dotted black;border-radius: 0.25em;box-sizing: border-box;margin-bottom: 0.5em;}#sk-container-id-1 div.sk-estimator:hover {background-color: #d4ebff;}#sk-container-id-1 div.sk-parallel-item::after {content: \"\";width: 100%;border-bottom: 1px solid gray;flex-grow: 1;}#sk-container-id-1 div.sk-label:hover label.sk-toggleable__label {background-color: #d4ebff;}#sk-container-id-1 div.sk-serial::before {content: \"\";position: absolute;border-left: 1px solid gray;box-sizing: border-box;top: 0;bottom: 0;left: 50%;z-index: 0;}#sk-container-id-1 div.sk-serial {display: flex;flex-direction: column;align-items: center;background-color: white;padding-right: 0.2em;padding-left: 0.2em;position: relative;}#sk-container-id-1 div.sk-item {position: relative;z-index: 1;}#sk-container-id-1 div.sk-parallel {display: flex;align-items: stretch;justify-content: center;background-color: white;position: relative;}#sk-container-id-1 div.sk-item::before, #sk-container-id-1 div.sk-parallel-item::before {content: \"\";position: absolute;border-left: 1px solid gray;box-sizing: border-box;top: 0;bottom: 0;left: 50%;z-index: -1;}#sk-container-id-1 div.sk-parallel-item {display: flex;flex-direction: column;z-index: 1;position: relative;background-color: white;}#sk-container-id-1 div.sk-parallel-item:first-child::after {align-self: flex-end;width: 50%;}#sk-container-id-1 div.sk-parallel-item:last-child::after {align-self: flex-start;width: 50%;}#sk-container-id-1 div.sk-parallel-item:only-child::after {width: 0;}#sk-container-id-1 div.sk-dashed-wrapped {border: 1px dashed gray;margin: 0 0.4em 0.5em 0.4em;box-sizing: border-box;padding-bottom: 0.4em;background-color: white;}#sk-container-id-1 div.sk-label label {font-family: monospace;font-weight: bold;display: inline-block;line-height: 1.2em;}#sk-container-id-1 div.sk-label-container {text-align: center;}#sk-container-id-1 div.sk-container {/* jupyter's `normalize.less` sets `[hidden] { display: none; }` but bootstrap.min.css set `[hidden] { display: none !important; }` so we also need the `!important` here to be able to override the default hidden behavior on the sphinx rendered scikit-learn.org. See: https://github.com/scikit-learn/scikit-learn/issues/21755 */display: inline-block !important;position: relative;}#sk-container-id-1 div.sk-text-repr-fallback {display: none;}</style><div id=\"sk-container-id-1\" class=\"sk-top-container\"><div class=\"sk-text-repr-fallback\"><pre>LinearRegression()</pre><b>In a Jupyter environment, please rerun this cell to show the HTML representation or trust the notebook. <br />On GitHub, the HTML representation is unable to render, please try loading this page with nbviewer.org.</b></div><div class=\"sk-container\" hidden><div class=\"sk-item\"><div class=\"sk-estimator sk-toggleable\"><input class=\"sk-toggleable__control sk-hidden--visually\" id=\"sk-estimator-id-1\" type=\"checkbox\" checked><label for=\"sk-estimator-id-1\" class=\"sk-toggleable__label sk-toggleable__label-arrow\">LinearRegression</label><div class=\"sk-toggleable__content\"><pre>LinearRegression()</pre></div></div></div></div></div>"
      ],
      "text/plain": [
       "LinearRegression()"
      ]
     },
     "execution_count": 10,
     "metadata": {},
     "output_type": "execute_result"
    }
   ],
   "source": [
    "lin_reg.fit(X_train_norm, y_train) # determines the b0 and b1's values"
   ]
  },
  {
   "cell_type": "code",
   "execution_count": 11,
   "id": "bafd4eca-0b94-4839-b806-223c18f5f80e",
   "metadata": {
    "tags": []
   },
   "outputs": [
    {
     "name": "stdout",
     "output_type": "stream",
     "text": [
      "MAE  0.16\n",
      "RMSE,  0.21\n",
      "R2 score,  0.51\n"
     ]
    }
   ],
   "source": [
    "pred = lin_reg.predict(X_test_norm)\n",
    "\n",
    "print(f\"MAE {mean_absolute_error(pred, y_test): .2f}\") #pred = model prediction , y_test=Real value\n",
    "print(f\"RMSE, {mean_squared_error(pred, y_test, squared=False): .2f}\")\n",
    "print(f\"R2 score, {lin_reg.score(X_test_norm, y_test): .2f}\")"
   ]
  },
  {
   "cell_type": "code",
   "execution_count": 12,
   "id": "f545d3be-95bb-44db-b57a-eb5cdcfe9d4d",
   "metadata": {
    "tags": []
   },
   "outputs": [
    {
     "data": {
      "text/plain": [
       "{'certificate_all public': -171791745.76525,\n",
       " 'certificate_family': -154768066.16720518,\n",
       " 'certificate_over 18': -133521303.15047899,\n",
       " 'genre_Action/Adventure': 26429051385.218636,\n",
       " 'genre_Comedy': 21567636299.607735,\n",
       " 'genre_Drama': 29291804636.380005,\n",
       " 'genre_Other': 17583504037.641365,\n",
       " 'genre_Thriller/Crime/Mystery': 20233072772.891037,\n",
       " 'director_category_average': 56182403932.02573,\n",
       " 'director_category_high': 54111670005.454834,\n",
       " 'director_category_low': 56701181365.09023,\n",
       " 'star1_category_average': 48547660913.98557,\n",
       " 'star1_category_high': 44434138256.615036,\n",
       " 'star1_category_low': 53201243014.71217,\n",
       " 'star2_category_average': 24505492209.419964,\n",
       " 'star2_category_high': 13354724584.32857,\n",
       " 'star2_category_low': 26359481175.55464,\n",
       " 'star3_category_average': 24053709259.646652,\n",
       " 'star3_category_high': 12700916783.42791,\n",
       " 'star3_category_low': 26092242144.359417,\n",
       " 'star4_category_average': -7554758262.068928,\n",
       " 'star4_category_high': -1731440148.522738,\n",
       " 'star4_category_low': -7706846707.444625,\n",
       " \"decade_1930's\": -2152723011.1932054,\n",
       " \"decade_1940's\": -2436618970.259406,\n",
       " \"decade_1950's\": -3324849273.5229745,\n",
       " \"decade_1960's\": -4364579846.821823,\n",
       " \"decade_1970's\": -4992899980.427302,\n",
       " \"decade_1980's\": -6128570553.0556135,\n",
       " \"decade_1990's\": -7492175607.432352,\n",
       " \"decade_2000's\": -8749073947.736794,\n",
       " \"decade_2010's\": -8493192769.170633,\n",
       " 'runtime': 0.0596465926860768,\n",
       " 'meta_score': 0.048494603509134385,\n",
       " 'no_of_votes': 0.24112667212004757,\n",
       " 'gross': -0.07584126187695799}"
      ]
     },
     "execution_count": 12,
     "metadata": {},
     "output_type": "execute_result"
    }
   ],
   "source": [
    "lin_reg_coef = {feature : coef for feature, coef in zip(X_train_norm.columns, lin_reg.coef_)}\n",
    "lin_reg_coef"
   ]
  },
  {
   "cell_type": "markdown",
   "id": "c220dea2-b97a-4487-a7ec-7ed313a06c71",
   "metadata": {},
   "source": [
    "## Decision Tree"
   ]
  },
  {
   "cell_type": "code",
   "execution_count": 14,
   "id": "fcd9c616-1865-4617-8963-713bac608347",
   "metadata": {
    "tags": []
   },
   "outputs": [],
   "source": [
    "tree = DecisionTreeRegressor(max_depth=10)"
   ]
  },
  {
   "cell_type": "code",
   "execution_count": 15,
   "id": "d83bfb65-830e-4e24-bd28-22ee1e22aa4a",
   "metadata": {
    "tags": []
   },
   "outputs": [
    {
     "data": {
      "text/html": [
       "<style>#sk-container-id-2 {color: black;background-color: white;}#sk-container-id-2 pre{padding: 0;}#sk-container-id-2 div.sk-toggleable {background-color: white;}#sk-container-id-2 label.sk-toggleable__label {cursor: pointer;display: block;width: 100%;margin-bottom: 0;padding: 0.3em;box-sizing: border-box;text-align: center;}#sk-container-id-2 label.sk-toggleable__label-arrow:before {content: \"▸\";float: left;margin-right: 0.25em;color: #696969;}#sk-container-id-2 label.sk-toggleable__label-arrow:hover:before {color: black;}#sk-container-id-2 div.sk-estimator:hover label.sk-toggleable__label-arrow:before {color: black;}#sk-container-id-2 div.sk-toggleable__content {max-height: 0;max-width: 0;overflow: hidden;text-align: left;background-color: #f0f8ff;}#sk-container-id-2 div.sk-toggleable__content pre {margin: 0.2em;color: black;border-radius: 0.25em;background-color: #f0f8ff;}#sk-container-id-2 input.sk-toggleable__control:checked~div.sk-toggleable__content {max-height: 200px;max-width: 100%;overflow: auto;}#sk-container-id-2 input.sk-toggleable__control:checked~label.sk-toggleable__label-arrow:before {content: \"▾\";}#sk-container-id-2 div.sk-estimator input.sk-toggleable__control:checked~label.sk-toggleable__label {background-color: #d4ebff;}#sk-container-id-2 div.sk-label input.sk-toggleable__control:checked~label.sk-toggleable__label {background-color: #d4ebff;}#sk-container-id-2 input.sk-hidden--visually {border: 0;clip: rect(1px 1px 1px 1px);clip: rect(1px, 1px, 1px, 1px);height: 1px;margin: -1px;overflow: hidden;padding: 0;position: absolute;width: 1px;}#sk-container-id-2 div.sk-estimator {font-family: monospace;background-color: #f0f8ff;border: 1px dotted black;border-radius: 0.25em;box-sizing: border-box;margin-bottom: 0.5em;}#sk-container-id-2 div.sk-estimator:hover {background-color: #d4ebff;}#sk-container-id-2 div.sk-parallel-item::after {content: \"\";width: 100%;border-bottom: 1px solid gray;flex-grow: 1;}#sk-container-id-2 div.sk-label:hover label.sk-toggleable__label {background-color: #d4ebff;}#sk-container-id-2 div.sk-serial::before {content: \"\";position: absolute;border-left: 1px solid gray;box-sizing: border-box;top: 0;bottom: 0;left: 50%;z-index: 0;}#sk-container-id-2 div.sk-serial {display: flex;flex-direction: column;align-items: center;background-color: white;padding-right: 0.2em;padding-left: 0.2em;position: relative;}#sk-container-id-2 div.sk-item {position: relative;z-index: 1;}#sk-container-id-2 div.sk-parallel {display: flex;align-items: stretch;justify-content: center;background-color: white;position: relative;}#sk-container-id-2 div.sk-item::before, #sk-container-id-2 div.sk-parallel-item::before {content: \"\";position: absolute;border-left: 1px solid gray;box-sizing: border-box;top: 0;bottom: 0;left: 50%;z-index: -1;}#sk-container-id-2 div.sk-parallel-item {display: flex;flex-direction: column;z-index: 1;position: relative;background-color: white;}#sk-container-id-2 div.sk-parallel-item:first-child::after {align-self: flex-end;width: 50%;}#sk-container-id-2 div.sk-parallel-item:last-child::after {align-self: flex-start;width: 50%;}#sk-container-id-2 div.sk-parallel-item:only-child::after {width: 0;}#sk-container-id-2 div.sk-dashed-wrapped {border: 1px dashed gray;margin: 0 0.4em 0.5em 0.4em;box-sizing: border-box;padding-bottom: 0.4em;background-color: white;}#sk-container-id-2 div.sk-label label {font-family: monospace;font-weight: bold;display: inline-block;line-height: 1.2em;}#sk-container-id-2 div.sk-label-container {text-align: center;}#sk-container-id-2 div.sk-container {/* jupyter's `normalize.less` sets `[hidden] { display: none; }` but bootstrap.min.css set `[hidden] { display: none !important; }` so we also need the `!important` here to be able to override the default hidden behavior on the sphinx rendered scikit-learn.org. See: https://github.com/scikit-learn/scikit-learn/issues/21755 */display: inline-block !important;position: relative;}#sk-container-id-2 div.sk-text-repr-fallback {display: none;}</style><div id=\"sk-container-id-2\" class=\"sk-top-container\"><div class=\"sk-text-repr-fallback\"><pre>DecisionTreeRegressor(max_depth=10)</pre><b>In a Jupyter environment, please rerun this cell to show the HTML representation or trust the notebook. <br />On GitHub, the HTML representation is unable to render, please try loading this page with nbviewer.org.</b></div><div class=\"sk-container\" hidden><div class=\"sk-item\"><div class=\"sk-estimator sk-toggleable\"><input class=\"sk-toggleable__control sk-hidden--visually\" id=\"sk-estimator-id-2\" type=\"checkbox\" checked><label for=\"sk-estimator-id-2\" class=\"sk-toggleable__label sk-toggleable__label-arrow\">DecisionTreeRegressor</label><div class=\"sk-toggleable__content\"><pre>DecisionTreeRegressor(max_depth=10)</pre></div></div></div></div></div>"
      ],
      "text/plain": [
       "DecisionTreeRegressor(max_depth=10)"
      ]
     },
     "execution_count": 15,
     "metadata": {},
     "output_type": "execute_result"
    }
   ],
   "source": [
    "tree.fit(X_train_norm, y_train)"
   ]
  },
  {
   "cell_type": "code",
   "execution_count": 16,
   "id": "beb2429c-d0ee-4eae-afdb-71bef1c922a7",
   "metadata": {
    "tags": []
   },
   "outputs": [
    {
     "data": {
      "text/html": [
       "<div>\n",
       "<style scoped>\n",
       "    .dataframe tbody tr th:only-of-type {\n",
       "        vertical-align: middle;\n",
       "    }\n",
       "\n",
       "    .dataframe tbody tr th {\n",
       "        vertical-align: top;\n",
       "    }\n",
       "\n",
       "    .dataframe thead th {\n",
       "        text-align: right;\n",
       "    }\n",
       "</style>\n",
       "<table border=\"1\" class=\"dataframe\">\n",
       "  <thead>\n",
       "    <tr style=\"text-align: right;\">\n",
       "      <th></th>\n",
       "      <th>certificate_all public</th>\n",
       "      <th>certificate_family</th>\n",
       "      <th>certificate_over 18</th>\n",
       "      <th>genre_Action/Adventure</th>\n",
       "      <th>genre_Comedy</th>\n",
       "      <th>genre_Drama</th>\n",
       "      <th>genre_Other</th>\n",
       "      <th>genre_Thriller/Crime/Mystery</th>\n",
       "      <th>director_category_average</th>\n",
       "      <th>director_category_high</th>\n",
       "      <th>...</th>\n",
       "      <th>decade_1960's</th>\n",
       "      <th>decade_1970's</th>\n",
       "      <th>decade_1980's</th>\n",
       "      <th>decade_1990's</th>\n",
       "      <th>decade_2000's</th>\n",
       "      <th>decade_2010's</th>\n",
       "      <th>runtime</th>\n",
       "      <th>meta_score</th>\n",
       "      <th>no_of_votes</th>\n",
       "      <th>gross</th>\n",
       "    </tr>\n",
       "  </thead>\n",
       "  <tbody>\n",
       "    <tr>\n",
       "      <th>692</th>\n",
       "      <td>0.932123</td>\n",
       "      <td>-0.624695</td>\n",
       "      <td>-0.475191</td>\n",
       "      <td>-0.586805</td>\n",
       "      <td>2.388699</td>\n",
       "      <td>-0.772424</td>\n",
       "      <td>-0.320179</td>\n",
       "      <td>-0.383251</td>\n",
       "      <td>1.381363</td>\n",
       "      <td>-0.65192</td>\n",
       "      <td>...</td>\n",
       "      <td>-0.235702</td>\n",
       "      <td>-0.274721</td>\n",
       "      <td>-0.352506</td>\n",
       "      <td>2.142017</td>\n",
       "      <td>-0.61927</td>\n",
       "      <td>-0.581402</td>\n",
       "      <td>-0.794695</td>\n",
       "      <td>-1.134662</td>\n",
       "      <td>0.351576</td>\n",
       "      <td>1.880737</td>\n",
       "    </tr>\n",
       "    <tr>\n",
       "      <th>266</th>\n",
       "      <td>-1.072820</td>\n",
       "      <td>1.600781</td>\n",
       "      <td>-0.475191</td>\n",
       "      <td>-0.586805</td>\n",
       "      <td>-0.418638</td>\n",
       "      <td>1.294626</td>\n",
       "      <td>-0.320179</td>\n",
       "      <td>-0.383251</td>\n",
       "      <td>1.381363</td>\n",
       "      <td>-0.65192</td>\n",
       "      <td>...</td>\n",
       "      <td>-0.235702</td>\n",
       "      <td>-0.274721</td>\n",
       "      <td>-0.352506</td>\n",
       "      <td>2.142017</td>\n",
       "      <td>-0.61927</td>\n",
       "      <td>-0.581402</td>\n",
       "      <td>2.470682</td>\n",
       "      <td>-0.422984</td>\n",
       "      <td>-0.642625</td>\n",
       "      <td>-0.060567</td>\n",
       "    </tr>\n",
       "    <tr>\n",
       "      <th>17</th>\n",
       "      <td>0.932123</td>\n",
       "      <td>-0.624695</td>\n",
       "      <td>-0.475191</td>\n",
       "      <td>-0.586805</td>\n",
       "      <td>-0.418638</td>\n",
       "      <td>1.294626</td>\n",
       "      <td>-0.320179</td>\n",
       "      <td>-0.383251</td>\n",
       "      <td>1.381363</td>\n",
       "      <td>-0.65192</td>\n",
       "      <td>...</td>\n",
       "      <td>-0.235702</td>\n",
       "      <td>3.640055</td>\n",
       "      <td>-0.352506</td>\n",
       "      <td>-0.466850</td>\n",
       "      <td>-0.61927</td>\n",
       "      <td>-0.581402</td>\n",
       "      <td>0.344390</td>\n",
       "      <td>0.446845</td>\n",
       "      <td>1.582534</td>\n",
       "      <td>0.314383</td>\n",
       "    </tr>\n",
       "    <tr>\n",
       "      <th>477</th>\n",
       "      <td>0.932123</td>\n",
       "      <td>-0.624695</td>\n",
       "      <td>-0.475191</td>\n",
       "      <td>-0.586805</td>\n",
       "      <td>-0.418638</td>\n",
       "      <td>-0.772424</td>\n",
       "      <td>3.123254</td>\n",
       "      <td>-0.383251</td>\n",
       "      <td>-0.723923</td>\n",
       "      <td>-0.65192</td>\n",
       "      <td>...</td>\n",
       "      <td>-0.235702</td>\n",
       "      <td>3.640055</td>\n",
       "      <td>-0.352506</td>\n",
       "      <td>-0.466850</td>\n",
       "      <td>-0.61927</td>\n",
       "      <td>-0.581402</td>\n",
       "      <td>-1.971750</td>\n",
       "      <td>-0.343908</td>\n",
       "      <td>-0.977788</td>\n",
       "      <td>-0.693483</td>\n",
       "    </tr>\n",
       "    <tr>\n",
       "      <th>302</th>\n",
       "      <td>-1.072820</td>\n",
       "      <td>1.600781</td>\n",
       "      <td>-0.475191</td>\n",
       "      <td>-0.586805</td>\n",
       "      <td>2.388699</td>\n",
       "      <td>-0.772424</td>\n",
       "      <td>-0.320179</td>\n",
       "      <td>-0.383251</td>\n",
       "      <td>-0.723923</td>\n",
       "      <td>-0.65192</td>\n",
       "      <td>...</td>\n",
       "      <td>-0.235702</td>\n",
       "      <td>-0.274721</td>\n",
       "      <td>-0.352506</td>\n",
       "      <td>-0.466850</td>\n",
       "      <td>-0.61927</td>\n",
       "      <td>1.719981</td>\n",
       "      <td>0.230482</td>\n",
       "      <td>0.367770</td>\n",
       "      <td>0.252318</td>\n",
       "      <td>0.795389</td>\n",
       "    </tr>\n",
       "    <tr>\n",
       "      <th>...</th>\n",
       "      <td>...</td>\n",
       "      <td>...</td>\n",
       "      <td>...</td>\n",
       "      <td>...</td>\n",
       "      <td>...</td>\n",
       "      <td>...</td>\n",
       "      <td>...</td>\n",
       "      <td>...</td>\n",
       "      <td>...</td>\n",
       "      <td>...</td>\n",
       "      <td>...</td>\n",
       "      <td>...</td>\n",
       "      <td>...</td>\n",
       "      <td>...</td>\n",
       "      <td>...</td>\n",
       "      <td>...</td>\n",
       "      <td>...</td>\n",
       "      <td>...</td>\n",
       "      <td>...</td>\n",
       "      <td>...</td>\n",
       "      <td>...</td>\n",
       "    </tr>\n",
       "    <tr>\n",
       "      <th>707</th>\n",
       "      <td>0.932123</td>\n",
       "      <td>-0.624695</td>\n",
       "      <td>-0.475191</td>\n",
       "      <td>-0.586805</td>\n",
       "      <td>2.388699</td>\n",
       "      <td>-0.772424</td>\n",
       "      <td>-0.320179</td>\n",
       "      <td>-0.383251</td>\n",
       "      <td>1.381363</td>\n",
       "      <td>-0.65192</td>\n",
       "      <td>...</td>\n",
       "      <td>-0.235702</td>\n",
       "      <td>3.640055</td>\n",
       "      <td>-0.352506</td>\n",
       "      <td>-0.466850</td>\n",
       "      <td>-0.61927</td>\n",
       "      <td>-0.581402</td>\n",
       "      <td>-0.452970</td>\n",
       "      <td>0.763147</td>\n",
       "      <td>-0.974611</td>\n",
       "      <td>-0.686585</td>\n",
       "    </tr>\n",
       "    <tr>\n",
       "      <th>192</th>\n",
       "      <td>-1.072820</td>\n",
       "      <td>1.600781</td>\n",
       "      <td>-0.475191</td>\n",
       "      <td>-0.586805</td>\n",
       "      <td>-0.418638</td>\n",
       "      <td>1.294626</td>\n",
       "      <td>-0.320179</td>\n",
       "      <td>-0.383251</td>\n",
       "      <td>1.381363</td>\n",
       "      <td>-0.65192</td>\n",
       "      <td>...</td>\n",
       "      <td>-0.235702</td>\n",
       "      <td>3.640055</td>\n",
       "      <td>-0.352506</td>\n",
       "      <td>-0.466850</td>\n",
       "      <td>-0.61927</td>\n",
       "      <td>-0.581402</td>\n",
       "      <td>0.230482</td>\n",
       "      <td>1.158523</td>\n",
       "      <td>-0.206413</td>\n",
       "      <td>-0.433813</td>\n",
       "    </tr>\n",
       "    <tr>\n",
       "      <th>629</th>\n",
       "      <td>-1.072820</td>\n",
       "      <td>1.600781</td>\n",
       "      <td>-0.475191</td>\n",
       "      <td>-0.586805</td>\n",
       "      <td>-0.418638</td>\n",
       "      <td>1.294626</td>\n",
       "      <td>-0.320179</td>\n",
       "      <td>-0.383251</td>\n",
       "      <td>-0.723923</td>\n",
       "      <td>-0.65192</td>\n",
       "      <td>...</td>\n",
       "      <td>-0.235702</td>\n",
       "      <td>-0.274721</td>\n",
       "      <td>-0.352506</td>\n",
       "      <td>-0.466850</td>\n",
       "      <td>-0.61927</td>\n",
       "      <td>1.719981</td>\n",
       "      <td>0.458299</td>\n",
       "      <td>0.842222</td>\n",
       "      <td>-0.091476</td>\n",
       "      <td>1.245470</td>\n",
       "    </tr>\n",
       "    <tr>\n",
       "      <th>559</th>\n",
       "      <td>-1.072820</td>\n",
       "      <td>-0.624695</td>\n",
       "      <td>2.104417</td>\n",
       "      <td>-0.586805</td>\n",
       "      <td>2.388699</td>\n",
       "      <td>-0.772424</td>\n",
       "      <td>-0.320179</td>\n",
       "      <td>-0.383251</td>\n",
       "      <td>1.381363</td>\n",
       "      <td>-0.65192</td>\n",
       "      <td>...</td>\n",
       "      <td>-0.235702</td>\n",
       "      <td>-0.274721</td>\n",
       "      <td>-0.352506</td>\n",
       "      <td>2.142017</td>\n",
       "      <td>-0.61927</td>\n",
       "      <td>-0.581402</td>\n",
       "      <td>-0.415000</td>\n",
       "      <td>1.000373</td>\n",
       "      <td>-0.153902</td>\n",
       "      <td>-0.489171</td>\n",
       "    </tr>\n",
       "    <tr>\n",
       "      <th>684</th>\n",
       "      <td>-1.072820</td>\n",
       "      <td>-0.624695</td>\n",
       "      <td>2.104417</td>\n",
       "      <td>1.704145</td>\n",
       "      <td>-0.418638</td>\n",
       "      <td>-0.772424</td>\n",
       "      <td>-0.320179</td>\n",
       "      <td>-0.383251</td>\n",
       "      <td>1.381363</td>\n",
       "      <td>-0.65192</td>\n",
       "      <td>...</td>\n",
       "      <td>-0.235702</td>\n",
       "      <td>-0.274721</td>\n",
       "      <td>-0.352506</td>\n",
       "      <td>2.142017</td>\n",
       "      <td>-0.61927</td>\n",
       "      <td>-0.581402</td>\n",
       "      <td>-0.111244</td>\n",
       "      <td>-1.213737</td>\n",
       "      <td>-0.790786</td>\n",
       "      <td>-0.685875</td>\n",
       "    </tr>\n",
       "  </tbody>\n",
       "</table>\n",
       "<p>570 rows × 36 columns</p>\n",
       "</div>"
      ],
      "text/plain": [
       "     certificate_all public  certificate_family  certificate_over 18  \\\n",
       "692                0.932123           -0.624695            -0.475191   \n",
       "266               -1.072820            1.600781            -0.475191   \n",
       "17                 0.932123           -0.624695            -0.475191   \n",
       "477                0.932123           -0.624695            -0.475191   \n",
       "302               -1.072820            1.600781            -0.475191   \n",
       "..                      ...                 ...                  ...   \n",
       "707                0.932123           -0.624695            -0.475191   \n",
       "192               -1.072820            1.600781            -0.475191   \n",
       "629               -1.072820            1.600781            -0.475191   \n",
       "559               -1.072820           -0.624695             2.104417   \n",
       "684               -1.072820           -0.624695             2.104417   \n",
       "\n",
       "     genre_Action/Adventure  genre_Comedy  genre_Drama  genre_Other  \\\n",
       "692               -0.586805      2.388699    -0.772424    -0.320179   \n",
       "266               -0.586805     -0.418638     1.294626    -0.320179   \n",
       "17                -0.586805     -0.418638     1.294626    -0.320179   \n",
       "477               -0.586805     -0.418638    -0.772424     3.123254   \n",
       "302               -0.586805      2.388699    -0.772424    -0.320179   \n",
       "..                      ...           ...          ...          ...   \n",
       "707               -0.586805      2.388699    -0.772424    -0.320179   \n",
       "192               -0.586805     -0.418638     1.294626    -0.320179   \n",
       "629               -0.586805     -0.418638     1.294626    -0.320179   \n",
       "559               -0.586805      2.388699    -0.772424    -0.320179   \n",
       "684                1.704145     -0.418638    -0.772424    -0.320179   \n",
       "\n",
       "     genre_Thriller/Crime/Mystery  director_category_average  \\\n",
       "692                     -0.383251                   1.381363   \n",
       "266                     -0.383251                   1.381363   \n",
       "17                      -0.383251                   1.381363   \n",
       "477                     -0.383251                  -0.723923   \n",
       "302                     -0.383251                  -0.723923   \n",
       "..                            ...                        ...   \n",
       "707                     -0.383251                   1.381363   \n",
       "192                     -0.383251                   1.381363   \n",
       "629                     -0.383251                  -0.723923   \n",
       "559                     -0.383251                   1.381363   \n",
       "684                     -0.383251                   1.381363   \n",
       "\n",
       "     director_category_high  ...  decade_1960's  decade_1970's  decade_1980's  \\\n",
       "692                -0.65192  ...      -0.235702      -0.274721      -0.352506   \n",
       "266                -0.65192  ...      -0.235702      -0.274721      -0.352506   \n",
       "17                 -0.65192  ...      -0.235702       3.640055      -0.352506   \n",
       "477                -0.65192  ...      -0.235702       3.640055      -0.352506   \n",
       "302                -0.65192  ...      -0.235702      -0.274721      -0.352506   \n",
       "..                      ...  ...            ...            ...            ...   \n",
       "707                -0.65192  ...      -0.235702       3.640055      -0.352506   \n",
       "192                -0.65192  ...      -0.235702       3.640055      -0.352506   \n",
       "629                -0.65192  ...      -0.235702      -0.274721      -0.352506   \n",
       "559                -0.65192  ...      -0.235702      -0.274721      -0.352506   \n",
       "684                -0.65192  ...      -0.235702      -0.274721      -0.352506   \n",
       "\n",
       "     decade_1990's  decade_2000's  decade_2010's   runtime  meta_score  \\\n",
       "692       2.142017       -0.61927      -0.581402 -0.794695   -1.134662   \n",
       "266       2.142017       -0.61927      -0.581402  2.470682   -0.422984   \n",
       "17       -0.466850       -0.61927      -0.581402  0.344390    0.446845   \n",
       "477      -0.466850       -0.61927      -0.581402 -1.971750   -0.343908   \n",
       "302      -0.466850       -0.61927       1.719981  0.230482    0.367770   \n",
       "..             ...            ...            ...       ...         ...   \n",
       "707      -0.466850       -0.61927      -0.581402 -0.452970    0.763147   \n",
       "192      -0.466850       -0.61927      -0.581402  0.230482    1.158523   \n",
       "629      -0.466850       -0.61927       1.719981  0.458299    0.842222   \n",
       "559       2.142017       -0.61927      -0.581402 -0.415000    1.000373   \n",
       "684       2.142017       -0.61927      -0.581402 -0.111244   -1.213737   \n",
       "\n",
       "     no_of_votes     gross  \n",
       "692     0.351576  1.880737  \n",
       "266    -0.642625 -0.060567  \n",
       "17      1.582534  0.314383  \n",
       "477    -0.977788 -0.693483  \n",
       "302     0.252318  0.795389  \n",
       "..           ...       ...  \n",
       "707    -0.974611 -0.686585  \n",
       "192    -0.206413 -0.433813  \n",
       "629    -0.091476  1.245470  \n",
       "559    -0.153902 -0.489171  \n",
       "684    -0.790786 -0.685875  \n",
       "\n",
       "[570 rows x 36 columns]"
      ]
     },
     "execution_count": 16,
     "metadata": {},
     "output_type": "execute_result"
    }
   ],
   "source": [
    "X_train_norm"
   ]
  },
  {
   "cell_type": "code",
   "execution_count": 17,
   "id": "efa7f8a3-844b-46e3-9fb8-54ac92c65855",
   "metadata": {
    "tags": []
   },
   "outputs": [
    {
     "data": {
      "text/plain": [
       "338    7.9\n",
       "142    8.1\n",
       "242    8.0\n",
       "235    8.0\n",
       "468    7.8\n",
       "      ... \n",
       "693    7.6\n",
       "557    7.7\n",
       "97     8.3\n",
       "374    7.9\n",
       "483    7.8\n",
       "Name: imdb_rating, Length: 143, dtype: float64"
      ]
     },
     "execution_count": 17,
     "metadata": {},
     "output_type": "execute_result"
    }
   ],
   "source": [
    "y_test"
   ]
  },
  {
   "cell_type": "code",
   "execution_count": 18,
   "id": "8898c9cd-2e8a-4446-839d-712323bbe702",
   "metadata": {
    "tags": []
   },
   "outputs": [
    {
     "name": "stdout",
     "output_type": "stream",
     "text": [
      "MAE  0.19\n",
      "RMSE  0.24\n",
      "R2 score  0.31\n"
     ]
    }
   ],
   "source": [
    "pred = tree.predict(X_test_norm)\n",
    "\n",
    "print(f\"MAE {mean_absolute_error(pred, y_test): .2f}\")\n",
    "print(f\"RMSE {mean_squared_error(pred, y_test, squared=False): .2f}\")\n",
    "print(f\"R2 score {tree.score(X_test_norm, y_test): .2f}\")"
   ]
  },
  {
   "cell_type": "markdown",
   "id": "68e09387-4cd6-469e-8d6a-ef77d5ff25f8",
   "metadata": {},
   "source": [
    "## Bagging and Pasting"
   ]
  },
  {
   "cell_type": "code",
   "execution_count": 20,
   "id": "02f54bf3-6549-48c9-bf19-049bddb0de09",
   "metadata": {
    "tags": []
   },
   "outputs": [
    {
     "data": {
      "text/plain": [
       "(570, 36)"
      ]
     },
     "metadata": {},
     "output_type": "display_data"
    }
   ],
   "source": [
    "display(X_train_norm.shape)\n",
    "bagging_reg = BaggingRegressor(DecisionTreeRegressor(max_depth=20),\n",
    "                               n_estimators=100,\n",
    "                               max_samples = 500)"
   ]
  },
  {
   "cell_type": "code",
   "execution_count": 21,
   "id": "dc42b7c6-8006-41b8-a3a6-7943ed1be37b",
   "metadata": {
    "tags": []
   },
   "outputs": [
    {
     "data": {
      "text/html": [
       "<style>#sk-container-id-3 {color: black;background-color: white;}#sk-container-id-3 pre{padding: 0;}#sk-container-id-3 div.sk-toggleable {background-color: white;}#sk-container-id-3 label.sk-toggleable__label {cursor: pointer;display: block;width: 100%;margin-bottom: 0;padding: 0.3em;box-sizing: border-box;text-align: center;}#sk-container-id-3 label.sk-toggleable__label-arrow:before {content: \"▸\";float: left;margin-right: 0.25em;color: #696969;}#sk-container-id-3 label.sk-toggleable__label-arrow:hover:before {color: black;}#sk-container-id-3 div.sk-estimator:hover label.sk-toggleable__label-arrow:before {color: black;}#sk-container-id-3 div.sk-toggleable__content {max-height: 0;max-width: 0;overflow: hidden;text-align: left;background-color: #f0f8ff;}#sk-container-id-3 div.sk-toggleable__content pre {margin: 0.2em;color: black;border-radius: 0.25em;background-color: #f0f8ff;}#sk-container-id-3 input.sk-toggleable__control:checked~div.sk-toggleable__content {max-height: 200px;max-width: 100%;overflow: auto;}#sk-container-id-3 input.sk-toggleable__control:checked~label.sk-toggleable__label-arrow:before {content: \"▾\";}#sk-container-id-3 div.sk-estimator input.sk-toggleable__control:checked~label.sk-toggleable__label {background-color: #d4ebff;}#sk-container-id-3 div.sk-label input.sk-toggleable__control:checked~label.sk-toggleable__label {background-color: #d4ebff;}#sk-container-id-3 input.sk-hidden--visually {border: 0;clip: rect(1px 1px 1px 1px);clip: rect(1px, 1px, 1px, 1px);height: 1px;margin: -1px;overflow: hidden;padding: 0;position: absolute;width: 1px;}#sk-container-id-3 div.sk-estimator {font-family: monospace;background-color: #f0f8ff;border: 1px dotted black;border-radius: 0.25em;box-sizing: border-box;margin-bottom: 0.5em;}#sk-container-id-3 div.sk-estimator:hover {background-color: #d4ebff;}#sk-container-id-3 div.sk-parallel-item::after {content: \"\";width: 100%;border-bottom: 1px solid gray;flex-grow: 1;}#sk-container-id-3 div.sk-label:hover label.sk-toggleable__label {background-color: #d4ebff;}#sk-container-id-3 div.sk-serial::before {content: \"\";position: absolute;border-left: 1px solid gray;box-sizing: border-box;top: 0;bottom: 0;left: 50%;z-index: 0;}#sk-container-id-3 div.sk-serial {display: flex;flex-direction: column;align-items: center;background-color: white;padding-right: 0.2em;padding-left: 0.2em;position: relative;}#sk-container-id-3 div.sk-item {position: relative;z-index: 1;}#sk-container-id-3 div.sk-parallel {display: flex;align-items: stretch;justify-content: center;background-color: white;position: relative;}#sk-container-id-3 div.sk-item::before, #sk-container-id-3 div.sk-parallel-item::before {content: \"\";position: absolute;border-left: 1px solid gray;box-sizing: border-box;top: 0;bottom: 0;left: 50%;z-index: -1;}#sk-container-id-3 div.sk-parallel-item {display: flex;flex-direction: column;z-index: 1;position: relative;background-color: white;}#sk-container-id-3 div.sk-parallel-item:first-child::after {align-self: flex-end;width: 50%;}#sk-container-id-3 div.sk-parallel-item:last-child::after {align-self: flex-start;width: 50%;}#sk-container-id-3 div.sk-parallel-item:only-child::after {width: 0;}#sk-container-id-3 div.sk-dashed-wrapped {border: 1px dashed gray;margin: 0 0.4em 0.5em 0.4em;box-sizing: border-box;padding-bottom: 0.4em;background-color: white;}#sk-container-id-3 div.sk-label label {font-family: monospace;font-weight: bold;display: inline-block;line-height: 1.2em;}#sk-container-id-3 div.sk-label-container {text-align: center;}#sk-container-id-3 div.sk-container {/* jupyter's `normalize.less` sets `[hidden] { display: none; }` but bootstrap.min.css set `[hidden] { display: none !important; }` so we also need the `!important` here to be able to override the default hidden behavior on the sphinx rendered scikit-learn.org. See: https://github.com/scikit-learn/scikit-learn/issues/21755 */display: inline-block !important;position: relative;}#sk-container-id-3 div.sk-text-repr-fallback {display: none;}</style><div id=\"sk-container-id-3\" class=\"sk-top-container\"><div class=\"sk-text-repr-fallback\"><pre>BaggingRegressor(estimator=DecisionTreeRegressor(max_depth=20), max_samples=500,\n",
       "                 n_estimators=100)</pre><b>In a Jupyter environment, please rerun this cell to show the HTML representation or trust the notebook. <br />On GitHub, the HTML representation is unable to render, please try loading this page with nbviewer.org.</b></div><div class=\"sk-container\" hidden><div class=\"sk-item sk-dashed-wrapped\"><div class=\"sk-label-container\"><div class=\"sk-label sk-toggleable\"><input class=\"sk-toggleable__control sk-hidden--visually\" id=\"sk-estimator-id-3\" type=\"checkbox\" ><label for=\"sk-estimator-id-3\" class=\"sk-toggleable__label sk-toggleable__label-arrow\">BaggingRegressor</label><div class=\"sk-toggleable__content\"><pre>BaggingRegressor(estimator=DecisionTreeRegressor(max_depth=20), max_samples=500,\n",
       "                 n_estimators=100)</pre></div></div></div><div class=\"sk-parallel\"><div class=\"sk-parallel-item\"><div class=\"sk-item\"><div class=\"sk-label-container\"><div class=\"sk-label sk-toggleable\"><input class=\"sk-toggleable__control sk-hidden--visually\" id=\"sk-estimator-id-4\" type=\"checkbox\" ><label for=\"sk-estimator-id-4\" class=\"sk-toggleable__label sk-toggleable__label-arrow\">estimator: DecisionTreeRegressor</label><div class=\"sk-toggleable__content\"><pre>DecisionTreeRegressor(max_depth=20)</pre></div></div></div><div class=\"sk-serial\"><div class=\"sk-item\"><div class=\"sk-estimator sk-toggleable\"><input class=\"sk-toggleable__control sk-hidden--visually\" id=\"sk-estimator-id-5\" type=\"checkbox\" ><label for=\"sk-estimator-id-5\" class=\"sk-toggleable__label sk-toggleable__label-arrow\">DecisionTreeRegressor</label><div class=\"sk-toggleable__content\"><pre>DecisionTreeRegressor(max_depth=20)</pre></div></div></div></div></div></div></div></div></div></div>"
      ],
      "text/plain": [
       "BaggingRegressor(estimator=DecisionTreeRegressor(max_depth=20), max_samples=500,\n",
       "                 n_estimators=100)"
      ]
     },
     "execution_count": 21,
     "metadata": {},
     "output_type": "execute_result"
    }
   ],
   "source": [
    "bagging_reg.fit(X_train_norm, y_train)"
   ]
  },
  {
   "cell_type": "code",
   "execution_count": 22,
   "id": "ea5752d8-6b20-4939-83bc-0febfcc84ad7",
   "metadata": {
    "tags": []
   },
   "outputs": [
    {
     "name": "stdout",
     "output_type": "stream",
     "text": [
      "MAE  0.16\n",
      "RMSE  0.20\n",
      "R2 score  0.56\n"
     ]
    }
   ],
   "source": [
    "pred = bagging_reg.predict(X_test_norm)\n",
    "\n",
    "print(f\"MAE {mean_absolute_error(pred, y_test): .2f}\")\n",
    "print(f\"RMSE {mean_squared_error(pred, y_test, squared=False): .2f}\")\n",
    "print(f\"R2 score {bagging_reg.score(X_test_norm, y_test): .2f}\")"
   ]
  },
  {
   "cell_type": "markdown",
   "id": "eab288d0-07bf-4a97-9de1-4e858950366b",
   "metadata": {},
   "source": [
    "## Random Patches"
   ]
  },
  {
   "cell_type": "code",
   "execution_count": 24,
   "id": "d004aba9-1229-4888-9681-79f85e193a6b",
   "metadata": {
    "tags": []
   },
   "outputs": [],
   "source": [
    "forest = RandomForestRegressor(n_estimators=100,\n",
    "                             max_depth=20)"
   ]
  },
  {
   "cell_type": "code",
   "execution_count": 25,
   "id": "d5cd0e70-a059-4569-a7eb-0f4e734a5ceb",
   "metadata": {
    "tags": []
   },
   "outputs": [
    {
     "data": {
      "text/html": [
       "<style>#sk-container-id-4 {color: black;background-color: white;}#sk-container-id-4 pre{padding: 0;}#sk-container-id-4 div.sk-toggleable {background-color: white;}#sk-container-id-4 label.sk-toggleable__label {cursor: pointer;display: block;width: 100%;margin-bottom: 0;padding: 0.3em;box-sizing: border-box;text-align: center;}#sk-container-id-4 label.sk-toggleable__label-arrow:before {content: \"▸\";float: left;margin-right: 0.25em;color: #696969;}#sk-container-id-4 label.sk-toggleable__label-arrow:hover:before {color: black;}#sk-container-id-4 div.sk-estimator:hover label.sk-toggleable__label-arrow:before {color: black;}#sk-container-id-4 div.sk-toggleable__content {max-height: 0;max-width: 0;overflow: hidden;text-align: left;background-color: #f0f8ff;}#sk-container-id-4 div.sk-toggleable__content pre {margin: 0.2em;color: black;border-radius: 0.25em;background-color: #f0f8ff;}#sk-container-id-4 input.sk-toggleable__control:checked~div.sk-toggleable__content {max-height: 200px;max-width: 100%;overflow: auto;}#sk-container-id-4 input.sk-toggleable__control:checked~label.sk-toggleable__label-arrow:before {content: \"▾\";}#sk-container-id-4 div.sk-estimator input.sk-toggleable__control:checked~label.sk-toggleable__label {background-color: #d4ebff;}#sk-container-id-4 div.sk-label input.sk-toggleable__control:checked~label.sk-toggleable__label {background-color: #d4ebff;}#sk-container-id-4 input.sk-hidden--visually {border: 0;clip: rect(1px 1px 1px 1px);clip: rect(1px, 1px, 1px, 1px);height: 1px;margin: -1px;overflow: hidden;padding: 0;position: absolute;width: 1px;}#sk-container-id-4 div.sk-estimator {font-family: monospace;background-color: #f0f8ff;border: 1px dotted black;border-radius: 0.25em;box-sizing: border-box;margin-bottom: 0.5em;}#sk-container-id-4 div.sk-estimator:hover {background-color: #d4ebff;}#sk-container-id-4 div.sk-parallel-item::after {content: \"\";width: 100%;border-bottom: 1px solid gray;flex-grow: 1;}#sk-container-id-4 div.sk-label:hover label.sk-toggleable__label {background-color: #d4ebff;}#sk-container-id-4 div.sk-serial::before {content: \"\";position: absolute;border-left: 1px solid gray;box-sizing: border-box;top: 0;bottom: 0;left: 50%;z-index: 0;}#sk-container-id-4 div.sk-serial {display: flex;flex-direction: column;align-items: center;background-color: white;padding-right: 0.2em;padding-left: 0.2em;position: relative;}#sk-container-id-4 div.sk-item {position: relative;z-index: 1;}#sk-container-id-4 div.sk-parallel {display: flex;align-items: stretch;justify-content: center;background-color: white;position: relative;}#sk-container-id-4 div.sk-item::before, #sk-container-id-4 div.sk-parallel-item::before {content: \"\";position: absolute;border-left: 1px solid gray;box-sizing: border-box;top: 0;bottom: 0;left: 50%;z-index: -1;}#sk-container-id-4 div.sk-parallel-item {display: flex;flex-direction: column;z-index: 1;position: relative;background-color: white;}#sk-container-id-4 div.sk-parallel-item:first-child::after {align-self: flex-end;width: 50%;}#sk-container-id-4 div.sk-parallel-item:last-child::after {align-self: flex-start;width: 50%;}#sk-container-id-4 div.sk-parallel-item:only-child::after {width: 0;}#sk-container-id-4 div.sk-dashed-wrapped {border: 1px dashed gray;margin: 0 0.4em 0.5em 0.4em;box-sizing: border-box;padding-bottom: 0.4em;background-color: white;}#sk-container-id-4 div.sk-label label {font-family: monospace;font-weight: bold;display: inline-block;line-height: 1.2em;}#sk-container-id-4 div.sk-label-container {text-align: center;}#sk-container-id-4 div.sk-container {/* jupyter's `normalize.less` sets `[hidden] { display: none; }` but bootstrap.min.css set `[hidden] { display: none !important; }` so we also need the `!important` here to be able to override the default hidden behavior on the sphinx rendered scikit-learn.org. See: https://github.com/scikit-learn/scikit-learn/issues/21755 */display: inline-block !important;position: relative;}#sk-container-id-4 div.sk-text-repr-fallback {display: none;}</style><div id=\"sk-container-id-4\" class=\"sk-top-container\"><div class=\"sk-text-repr-fallback\"><pre>RandomForestRegressor(max_depth=20)</pre><b>In a Jupyter environment, please rerun this cell to show the HTML representation or trust the notebook. <br />On GitHub, the HTML representation is unable to render, please try loading this page with nbviewer.org.</b></div><div class=\"sk-container\" hidden><div class=\"sk-item\"><div class=\"sk-estimator sk-toggleable\"><input class=\"sk-toggleable__control sk-hidden--visually\" id=\"sk-estimator-id-6\" type=\"checkbox\" checked><label for=\"sk-estimator-id-6\" class=\"sk-toggleable__label sk-toggleable__label-arrow\">RandomForestRegressor</label><div class=\"sk-toggleable__content\"><pre>RandomForestRegressor(max_depth=20)</pre></div></div></div></div></div>"
      ],
      "text/plain": [
       "RandomForestRegressor(max_depth=20)"
      ]
     },
     "execution_count": 25,
     "metadata": {},
     "output_type": "execute_result"
    }
   ],
   "source": [
    "forest.fit(X_train_norm, y_train)"
   ]
  },
  {
   "cell_type": "code",
   "execution_count": 26,
   "id": "8210a3d3-b5e4-426a-84eb-9f7db67ee018",
   "metadata": {
    "tags": []
   },
   "outputs": [
    {
     "name": "stdout",
     "output_type": "stream",
     "text": [
      "MAE  0.15\n",
      "RMSE  0.19\n",
      "R2 score  0.59\n"
     ]
    }
   ],
   "source": [
    "pred = forest.predict(X_test_norm)\n",
    "\n",
    "print(f\"MAE {mean_absolute_error(pred, y_test): .2f}\")\n",
    "print(f\"RMSE {mean_squared_error(pred, y_test, squared=False): .2f}\")\n",
    "print(f\"R2 score {forest.score(X_test_norm, y_test): .2f}\")"
   ]
  },
  {
   "cell_type": "markdown",
   "id": "1801d737-b3f1-41c6-8bc6-c743c93e9b86",
   "metadata": {},
   "source": [
    "## AdaBoost"
   ]
  },
  {
   "cell_type": "code",
   "execution_count": 28,
   "id": "c6238b30-4cfe-4775-979b-bdaddc19f497",
   "metadata": {
    "tags": []
   },
   "outputs": [],
   "source": [
    "ada_reg = AdaBoostRegressor(DecisionTreeRegressor(max_depth=20),\n",
    "                            n_estimators=100)"
   ]
  },
  {
   "cell_type": "code",
   "execution_count": 29,
   "id": "4832f9aa-c04d-44d3-acdc-c175ecb684da",
   "metadata": {
    "tags": []
   },
   "outputs": [
    {
     "data": {
      "text/html": [
       "<style>#sk-container-id-5 {color: black;background-color: white;}#sk-container-id-5 pre{padding: 0;}#sk-container-id-5 div.sk-toggleable {background-color: white;}#sk-container-id-5 label.sk-toggleable__label {cursor: pointer;display: block;width: 100%;margin-bottom: 0;padding: 0.3em;box-sizing: border-box;text-align: center;}#sk-container-id-5 label.sk-toggleable__label-arrow:before {content: \"▸\";float: left;margin-right: 0.25em;color: #696969;}#sk-container-id-5 label.sk-toggleable__label-arrow:hover:before {color: black;}#sk-container-id-5 div.sk-estimator:hover label.sk-toggleable__label-arrow:before {color: black;}#sk-container-id-5 div.sk-toggleable__content {max-height: 0;max-width: 0;overflow: hidden;text-align: left;background-color: #f0f8ff;}#sk-container-id-5 div.sk-toggleable__content pre {margin: 0.2em;color: black;border-radius: 0.25em;background-color: #f0f8ff;}#sk-container-id-5 input.sk-toggleable__control:checked~div.sk-toggleable__content {max-height: 200px;max-width: 100%;overflow: auto;}#sk-container-id-5 input.sk-toggleable__control:checked~label.sk-toggleable__label-arrow:before {content: \"▾\";}#sk-container-id-5 div.sk-estimator input.sk-toggleable__control:checked~label.sk-toggleable__label {background-color: #d4ebff;}#sk-container-id-5 div.sk-label input.sk-toggleable__control:checked~label.sk-toggleable__label {background-color: #d4ebff;}#sk-container-id-5 input.sk-hidden--visually {border: 0;clip: rect(1px 1px 1px 1px);clip: rect(1px, 1px, 1px, 1px);height: 1px;margin: -1px;overflow: hidden;padding: 0;position: absolute;width: 1px;}#sk-container-id-5 div.sk-estimator {font-family: monospace;background-color: #f0f8ff;border: 1px dotted black;border-radius: 0.25em;box-sizing: border-box;margin-bottom: 0.5em;}#sk-container-id-5 div.sk-estimator:hover {background-color: #d4ebff;}#sk-container-id-5 div.sk-parallel-item::after {content: \"\";width: 100%;border-bottom: 1px solid gray;flex-grow: 1;}#sk-container-id-5 div.sk-label:hover label.sk-toggleable__label {background-color: #d4ebff;}#sk-container-id-5 div.sk-serial::before {content: \"\";position: absolute;border-left: 1px solid gray;box-sizing: border-box;top: 0;bottom: 0;left: 50%;z-index: 0;}#sk-container-id-5 div.sk-serial {display: flex;flex-direction: column;align-items: center;background-color: white;padding-right: 0.2em;padding-left: 0.2em;position: relative;}#sk-container-id-5 div.sk-item {position: relative;z-index: 1;}#sk-container-id-5 div.sk-parallel {display: flex;align-items: stretch;justify-content: center;background-color: white;position: relative;}#sk-container-id-5 div.sk-item::before, #sk-container-id-5 div.sk-parallel-item::before {content: \"\";position: absolute;border-left: 1px solid gray;box-sizing: border-box;top: 0;bottom: 0;left: 50%;z-index: -1;}#sk-container-id-5 div.sk-parallel-item {display: flex;flex-direction: column;z-index: 1;position: relative;background-color: white;}#sk-container-id-5 div.sk-parallel-item:first-child::after {align-self: flex-end;width: 50%;}#sk-container-id-5 div.sk-parallel-item:last-child::after {align-self: flex-start;width: 50%;}#sk-container-id-5 div.sk-parallel-item:only-child::after {width: 0;}#sk-container-id-5 div.sk-dashed-wrapped {border: 1px dashed gray;margin: 0 0.4em 0.5em 0.4em;box-sizing: border-box;padding-bottom: 0.4em;background-color: white;}#sk-container-id-5 div.sk-label label {font-family: monospace;font-weight: bold;display: inline-block;line-height: 1.2em;}#sk-container-id-5 div.sk-label-container {text-align: center;}#sk-container-id-5 div.sk-container {/* jupyter's `normalize.less` sets `[hidden] { display: none; }` but bootstrap.min.css set `[hidden] { display: none !important; }` so we also need the `!important` here to be able to override the default hidden behavior on the sphinx rendered scikit-learn.org. See: https://github.com/scikit-learn/scikit-learn/issues/21755 */display: inline-block !important;position: relative;}#sk-container-id-5 div.sk-text-repr-fallback {display: none;}</style><div id=\"sk-container-id-5\" class=\"sk-top-container\"><div class=\"sk-text-repr-fallback\"><pre>AdaBoostRegressor(estimator=DecisionTreeRegressor(max_depth=20),\n",
       "                  n_estimators=100)</pre><b>In a Jupyter environment, please rerun this cell to show the HTML representation or trust the notebook. <br />On GitHub, the HTML representation is unable to render, please try loading this page with nbviewer.org.</b></div><div class=\"sk-container\" hidden><div class=\"sk-item sk-dashed-wrapped\"><div class=\"sk-label-container\"><div class=\"sk-label sk-toggleable\"><input class=\"sk-toggleable__control sk-hidden--visually\" id=\"sk-estimator-id-7\" type=\"checkbox\" ><label for=\"sk-estimator-id-7\" class=\"sk-toggleable__label sk-toggleable__label-arrow\">AdaBoostRegressor</label><div class=\"sk-toggleable__content\"><pre>AdaBoostRegressor(estimator=DecisionTreeRegressor(max_depth=20),\n",
       "                  n_estimators=100)</pre></div></div></div><div class=\"sk-parallel\"><div class=\"sk-parallel-item\"><div class=\"sk-item\"><div class=\"sk-label-container\"><div class=\"sk-label sk-toggleable\"><input class=\"sk-toggleable__control sk-hidden--visually\" id=\"sk-estimator-id-8\" type=\"checkbox\" ><label for=\"sk-estimator-id-8\" class=\"sk-toggleable__label sk-toggleable__label-arrow\">estimator: DecisionTreeRegressor</label><div class=\"sk-toggleable__content\"><pre>DecisionTreeRegressor(max_depth=20)</pre></div></div></div><div class=\"sk-serial\"><div class=\"sk-item\"><div class=\"sk-estimator sk-toggleable\"><input class=\"sk-toggleable__control sk-hidden--visually\" id=\"sk-estimator-id-9\" type=\"checkbox\" ><label for=\"sk-estimator-id-9\" class=\"sk-toggleable__label sk-toggleable__label-arrow\">DecisionTreeRegressor</label><div class=\"sk-toggleable__content\"><pre>DecisionTreeRegressor(max_depth=20)</pre></div></div></div></div></div></div></div></div></div></div>"
      ],
      "text/plain": [
       "AdaBoostRegressor(estimator=DecisionTreeRegressor(max_depth=20),\n",
       "                  n_estimators=100)"
      ]
     },
     "execution_count": 29,
     "metadata": {},
     "output_type": "execute_result"
    }
   ],
   "source": [
    "ada_reg.fit(X_train_norm, y_train)"
   ]
  },
  {
   "cell_type": "code",
   "execution_count": 30,
   "id": "14836f99-a0c1-45bd-9a37-97e9105661b2",
   "metadata": {
    "tags": []
   },
   "outputs": [
    {
     "name": "stdout",
     "output_type": "stream",
     "text": [
      "MAE  0.15\n",
      "RMSE  0.20\n",
      "R2 score  0.56\n"
     ]
    }
   ],
   "source": [
    "pred = ada_reg.predict(X_test_norm)\n",
    "\n",
    "print(f\"MAE {mean_absolute_error(pred, y_test): .2f}\")\n",
    "print(f\"RMSE {mean_squared_error(pred, y_test, squared=False): .2f}\")\n",
    "print(f\"R2 score {ada_reg.score(X_test_norm, y_test): .2f}\")"
   ]
  },
  {
   "cell_type": "markdown",
   "id": "725f18b5-066c-440d-af64-d19bf04e1880",
   "metadata": {},
   "source": [
    "## Gradient Boosting"
   ]
  },
  {
   "cell_type": "code",
   "execution_count": 32,
   "id": "d3b78f07-a33e-44ae-a643-5b7ee3275e0b",
   "metadata": {
    "tags": []
   },
   "outputs": [],
   "source": [
    "gb_reg = GradientBoostingRegressor(max_depth=20,\n",
    "                                   n_estimators=100)"
   ]
  },
  {
   "cell_type": "code",
   "execution_count": 33,
   "id": "1759246a-6d35-4a5d-887e-c052d5069b27",
   "metadata": {
    "tags": []
   },
   "outputs": [
    {
     "data": {
      "text/html": [
       "<style>#sk-container-id-6 {color: black;background-color: white;}#sk-container-id-6 pre{padding: 0;}#sk-container-id-6 div.sk-toggleable {background-color: white;}#sk-container-id-6 label.sk-toggleable__label {cursor: pointer;display: block;width: 100%;margin-bottom: 0;padding: 0.3em;box-sizing: border-box;text-align: center;}#sk-container-id-6 label.sk-toggleable__label-arrow:before {content: \"▸\";float: left;margin-right: 0.25em;color: #696969;}#sk-container-id-6 label.sk-toggleable__label-arrow:hover:before {color: black;}#sk-container-id-6 div.sk-estimator:hover label.sk-toggleable__label-arrow:before {color: black;}#sk-container-id-6 div.sk-toggleable__content {max-height: 0;max-width: 0;overflow: hidden;text-align: left;background-color: #f0f8ff;}#sk-container-id-6 div.sk-toggleable__content pre {margin: 0.2em;color: black;border-radius: 0.25em;background-color: #f0f8ff;}#sk-container-id-6 input.sk-toggleable__control:checked~div.sk-toggleable__content {max-height: 200px;max-width: 100%;overflow: auto;}#sk-container-id-6 input.sk-toggleable__control:checked~label.sk-toggleable__label-arrow:before {content: \"▾\";}#sk-container-id-6 div.sk-estimator input.sk-toggleable__control:checked~label.sk-toggleable__label {background-color: #d4ebff;}#sk-container-id-6 div.sk-label input.sk-toggleable__control:checked~label.sk-toggleable__label {background-color: #d4ebff;}#sk-container-id-6 input.sk-hidden--visually {border: 0;clip: rect(1px 1px 1px 1px);clip: rect(1px, 1px, 1px, 1px);height: 1px;margin: -1px;overflow: hidden;padding: 0;position: absolute;width: 1px;}#sk-container-id-6 div.sk-estimator {font-family: monospace;background-color: #f0f8ff;border: 1px dotted black;border-radius: 0.25em;box-sizing: border-box;margin-bottom: 0.5em;}#sk-container-id-6 div.sk-estimator:hover {background-color: #d4ebff;}#sk-container-id-6 div.sk-parallel-item::after {content: \"\";width: 100%;border-bottom: 1px solid gray;flex-grow: 1;}#sk-container-id-6 div.sk-label:hover label.sk-toggleable__label {background-color: #d4ebff;}#sk-container-id-6 div.sk-serial::before {content: \"\";position: absolute;border-left: 1px solid gray;box-sizing: border-box;top: 0;bottom: 0;left: 50%;z-index: 0;}#sk-container-id-6 div.sk-serial {display: flex;flex-direction: column;align-items: center;background-color: white;padding-right: 0.2em;padding-left: 0.2em;position: relative;}#sk-container-id-6 div.sk-item {position: relative;z-index: 1;}#sk-container-id-6 div.sk-parallel {display: flex;align-items: stretch;justify-content: center;background-color: white;position: relative;}#sk-container-id-6 div.sk-item::before, #sk-container-id-6 div.sk-parallel-item::before {content: \"\";position: absolute;border-left: 1px solid gray;box-sizing: border-box;top: 0;bottom: 0;left: 50%;z-index: -1;}#sk-container-id-6 div.sk-parallel-item {display: flex;flex-direction: column;z-index: 1;position: relative;background-color: white;}#sk-container-id-6 div.sk-parallel-item:first-child::after {align-self: flex-end;width: 50%;}#sk-container-id-6 div.sk-parallel-item:last-child::after {align-self: flex-start;width: 50%;}#sk-container-id-6 div.sk-parallel-item:only-child::after {width: 0;}#sk-container-id-6 div.sk-dashed-wrapped {border: 1px dashed gray;margin: 0 0.4em 0.5em 0.4em;box-sizing: border-box;padding-bottom: 0.4em;background-color: white;}#sk-container-id-6 div.sk-label label {font-family: monospace;font-weight: bold;display: inline-block;line-height: 1.2em;}#sk-container-id-6 div.sk-label-container {text-align: center;}#sk-container-id-6 div.sk-container {/* jupyter's `normalize.less` sets `[hidden] { display: none; }` but bootstrap.min.css set `[hidden] { display: none !important; }` so we also need the `!important` here to be able to override the default hidden behavior on the sphinx rendered scikit-learn.org. See: https://github.com/scikit-learn/scikit-learn/issues/21755 */display: inline-block !important;position: relative;}#sk-container-id-6 div.sk-text-repr-fallback {display: none;}</style><div id=\"sk-container-id-6\" class=\"sk-top-container\"><div class=\"sk-text-repr-fallback\"><pre>GradientBoostingRegressor(max_depth=20)</pre><b>In a Jupyter environment, please rerun this cell to show the HTML representation or trust the notebook. <br />On GitHub, the HTML representation is unable to render, please try loading this page with nbviewer.org.</b></div><div class=\"sk-container\" hidden><div class=\"sk-item\"><div class=\"sk-estimator sk-toggleable\"><input class=\"sk-toggleable__control sk-hidden--visually\" id=\"sk-estimator-id-10\" type=\"checkbox\" checked><label for=\"sk-estimator-id-10\" class=\"sk-toggleable__label sk-toggleable__label-arrow\">GradientBoostingRegressor</label><div class=\"sk-toggleable__content\"><pre>GradientBoostingRegressor(max_depth=20)</pre></div></div></div></div></div>"
      ],
      "text/plain": [
       "GradientBoostingRegressor(max_depth=20)"
      ]
     },
     "execution_count": 33,
     "metadata": {},
     "output_type": "execute_result"
    }
   ],
   "source": [
    "gb_reg.fit(X_train_norm, y_train)"
   ]
  },
  {
   "cell_type": "code",
   "execution_count": 34,
   "id": "b9bc463f-652a-4c83-80f1-24c613161ad4",
   "metadata": {
    "tags": []
   },
   "outputs": [
    {
     "name": "stdout",
     "output_type": "stream",
     "text": [
      "MAE  0.19\n",
      "RMSE  0.24\n",
      "R2 score  0.35\n"
     ]
    }
   ],
   "source": [
    "pred = gb_reg.predict(X_test_norm)\n",
    "\n",
    "print(f\"MAE {mean_absolute_error(pred, y_test): .2f}\")\n",
    "print(f\"RMSE {mean_squared_error(pred, y_test, squared=False): .2f}\")\n",
    "print(f\"R2 score {gb_reg.score(X_test_norm, y_test): .2f}\")"
   ]
  },
  {
   "cell_type": "code",
   "execution_count": null,
   "id": "1c8ec7ea-d793-49d5-999e-92365d0baed5",
   "metadata": {},
   "outputs": [],
   "source": []
  },
  {
   "cell_type": "code",
   "execution_count": null,
   "id": "dfb0c1ee-b7b5-4fac-9278-20cdc3ed704a",
   "metadata": {},
   "outputs": [],
   "source": []
  },
  {
   "cell_type": "code",
   "execution_count": null,
   "id": "61a50c0d-fbab-44b9-b263-11b2eb2a0853",
   "metadata": {},
   "outputs": [],
   "source": []
  },
  {
   "cell_type": "code",
   "execution_count": null,
   "id": "16764021-dc59-49ac-b643-1961b14ca794",
   "metadata": {},
   "outputs": [],
   "source": []
  },
  {
   "cell_type": "code",
   "execution_count": null,
   "id": "5e4d9142-2d6d-483e-8293-03cb84968904",
   "metadata": {},
   "outputs": [],
   "source": []
  },
  {
   "cell_type": "code",
   "execution_count": null,
   "id": "b3375b5b-c2aa-47fd-8414-dd8921f0421d",
   "metadata": {},
   "outputs": [],
   "source": []
  },
  {
   "cell_type": "code",
   "execution_count": null,
   "id": "65edfb44-ae65-4102-86e4-f15b7b2672f2",
   "metadata": {},
   "outputs": [],
   "source": []
  },
  {
   "cell_type": "code",
   "execution_count": null,
   "id": "7e1c27a6-6df5-4699-92c3-bbac7daa2614",
   "metadata": {},
   "outputs": [],
   "source": []
  }
 ],
 "metadata": {
  "kernelspec": {
   "display_name": "Python 3 (ipykernel)",
   "language": "python",
   "name": "python3"
  },
  "language_info": {
   "codemirror_mode": {
    "name": "ipython",
    "version": 3
   },
   "file_extension": ".py",
   "mimetype": "text/x-python",
   "name": "python",
   "nbconvert_exporter": "python",
   "pygments_lexer": "ipython3",
   "version": "3.11.7"
  }
 },
 "nbformat": 4,
 "nbformat_minor": 5
}
